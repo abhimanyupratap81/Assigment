{
  "nbformat": 4,
  "nbformat_minor": 0,
  "metadata": {
    "colab": {
      "provenance": []
    },
    "kernelspec": {
      "name": "python3",
      "display_name": "Python 3"
    },
    "language_info": {
      "name": "python"
    }
  },
  "cells": [
    {
      "cell_type": "markdown",
      "source": [
        "# What is hypothesis testing in statistics?\n",
        "\n",
        "--> Hypothesis testing in statistics is a formal method used to make decisions or inferences about population parameters based on sample data. It helps determine whether there's enough evidence to support a specific claim (called a hypothesis) about a population."
      ],
      "metadata": {
        "id": "ZYtUQ4ubz-Q3"
      }
    },
    {
      "cell_type": "markdown",
      "source": [
        "#  What is the null hypothesis, and how does it differ from the alternative hypothesis?\n",
        "\n",
        "--> The null hypothesis (H₀) and the alternative hypothesis (H₁ or Ha) are two competing statements in hypothesis testing.\n",
        "\n",
        "Null Hypothesis (H₀):\n",
        "It is the default or starting assumption.\n",
        "\n",
        "It assumes no effect, no difference, or status quo.\n",
        "\n",
        "It is what you try to disprove or reject with data.\n",
        "\n",
        "Alternative Hypothesis (H₁ or Ha):\n",
        "It is the claim you're testing for — what you believe might be true.\n",
        "\n",
        "It assumes there is an effect, a difference, or a change.\n",
        "\n",
        "You hope to find evidence to support this hypothesis."
      ],
      "metadata": {
        "id": "DylZZdat0KVZ"
      }
    },
    {
      "cell_type": "markdown",
      "source": [
        "# What is the significance level in hypothesis testing, and why is it important?\n",
        "\n",
        "--> The significance level in hypothesis testing, denoted by α (alpha), is the threshold you set for deciding whether to reject the null hypothesis (H₀). It represents the probability of making a Type I error — that is, rejecting H₀ when it is actually true.\n",
        "\n",
        "Why is it Important?\n",
        "\n",
        "Sets the Standard for Evidence:\n",
        "It helps you decide how strong your evidence (p-value) needs to be before you reject H₀.\n",
        "\n",
        "Controls the False Alarm Rate (Type I Error):\n",
        "A smaller α means you're being more cautious (less likely to reject H₀ unless the evidence is strong).\n",
        "\n",
        "Affects the Power of the Test:\n",
        "Choosing α impacts the balance between Type I and Type II errors (missing a real effect).\n",
        "\n"
      ],
      "metadata": {
        "id": "e1wiTC941odL"
      }
    },
    {
      "cell_type": "markdown",
      "source": [
        "# What does a P-value represent in hypothesis testing?\n",
        "\n",
        "--> The p-value in hypothesis testing represents the probability of observing your sample results, or something more extreme, assuming the null hypothesis (H₀) is true.\n"
      ],
      "metadata": {
        "id": "ZP4D3wm619dr"
      }
    },
    {
      "cell_type": "markdown",
      "source": [
        "# How do you interpret the P-value in hypothesis testing?\n",
        "\n",
        "--> The p-value tells you how likely your sample results are if the null hypothesis (H₀) is true. Interpretation depends on how the p-value compares to your significance level (α), usually 0.05."
      ],
      "metadata": {
        "id": "e-KqPkKI2F6s"
      }
    },
    {
      "cell_type": "markdown",
      "source": [
        "# What are Type 1 and Type 2 errors in hypothesis testing?\n",
        "\n",
        "-->\n",
        "1. Type I Error (False Positive):\n",
        "\n",
        "What it is: Rejecting the null hypothesis when it is actually true.\n",
        "\n",
        "You think there's an effect, but there isn't.\n",
        "\n",
        "Example: You conclude a new drug works better, but in reality, it doesn’t.\n",
        "\n",
        "Probability of this error: Denoted by α (alpha) — the significance level (commonly 0.05).\n",
        "\n",
        "2. Type II Error (False Negative):\n",
        "\n",
        "What it is: Failing to reject the null hypothesis when it is actually false.\n",
        "\n",
        "You miss a real effect.\n",
        "\n",
        "Example: You conclude a new drug has no effect, but it actually does.\n",
        "\n",
        "Probability of this error: Denoted by β (beta).\n",
        "The power of a test is 1 − β (the chance you detect an effect when it's really there)."
      ],
      "metadata": {
        "id": "hdr2Sbrz8NSp"
      }
    },
    {
      "cell_type": "markdown",
      "source": [
        "# What is the difference between a one-tailed and a two-tailed test in hypothesis testing?\n",
        "\n",
        "--> One-Tailed Test:\n",
        "\n",
        "Tests for an effect in only one direction (either greater than or less than).\n",
        "\n",
        "You use this when you have a specific expectation about the direction of the effect.\n",
        "\n",
        "Two-Tailed Test:\n",
        "\n",
        "Tests for an effect in either direction (could be higher or lower).\n",
        "\n",
        "You use this when you don’t know or care in which direction the effect might go — just that it exists."
      ],
      "metadata": {
        "id": "TQ-O8tS28hEb"
      }
    },
    {
      "cell_type": "markdown",
      "source": [
        "# What is the Z-test, and when is it used in hypothesis testing?\n",
        "\n",
        "--> A Z-test is a statistical test used to determine whether there is a significant difference between a sample statistic (like the sample mean or proportion) and a population value, under the assumption that the population standard deviation is known and the sample size is sufficiently large.\n",
        "\n",
        "When is the Z-test Used?\n",
        "\n",
        "You use a Z-test when all of the following are true:\n",
        "\n",
        "The sample size is large (typically n ≥ 30).\n",
        "\n",
        "The population standard deviation (σ) is known.\n",
        "\n",
        "The data is approximately normally distributed, or n is large enough for the Central Limit Theorem to apply."
      ],
      "metadata": {
        "id": "NHciOme79PCK"
      }
    },
    {
      "cell_type": "markdown",
      "source": [
        "# How do you calculate the Z-score, and what does it represent in hypothesis testing?\n",
        "\n",
        "--> A Z-score tells you how many standard deviations a data point (or sample statistic) is from the mean under the null hypothesis (H₀).\n",
        "\n",
        "In hypothesis testing, it helps determine whether your sample result is far enough from the population mean to reject the null hypothesis.\n",
        "\n",
        "What the Z-score Represents:\n",
        "\n",
        "A Z-score of 0 means the sample mean is exactly at the population mean.\n",
        "\n",
        "A positive Z-score means the sample mean is above the population mean.\n",
        "\n",
        "A negative Z-score means the sample mean is below the population mean.\n",
        "\n",
        "The larger the absolute value, the further it is from the mean."
      ],
      "metadata": {
        "id": "vbHluYDX9qS9"
      }
    },
    {
      "cell_type": "markdown",
      "source": [
        "# What is the T-distribution, and when should it be used instead of the normal distribution?\n",
        "\n",
        "--> The T-distribution (or Student’s t-distribution) is a probability distribution used in hypothesis testing when the sample size is small and/or the population standard deviation (σ) is unknown.\n",
        "\n",
        "σ (population standard deviation) unknown\n",
        "Sample size small (typically n < 30)\n",
        "Data is approximately normal"
      ],
      "metadata": {
        "id": "wOobFqOp-fiz"
      }
    },
    {
      "cell_type": "markdown",
      "source": [
        "# What is the difference between a Z-test and a T-test?\n",
        "\n",
        "--> The Z-test and T-test are both statistical methods used in hypothesis testing to determine whether there is a significant difference between a sample statistic and a population parameter. The main difference between them lies in the information available about the population and the sample size. A Z-test is used when the population standard deviation (σ) is known and the sample size is large (typically 30 or more). It relies on the standard normal distribution, which assumes less variability in the estimate. On the other hand, a T-test is used when the population standard deviation is unknown, which is common in real-world situations, and especially when the sample size is small (less than 30). The T-test uses the t-distribution, which has thicker tails than the normal distribution to account for the additional uncertainty from estimating σ using the sample. As the sample size increases, the t-distribution approaches the normal distribution, making the results of a T-test and a Z-test more similar. In summary, if you know the population standard deviation and have a large sample, use a Z-test; if not, use a T-test to ensure more accurate and conservative conclusions.\n"
      ],
      "metadata": {
        "id": "iZ9na8eF_YW8"
      }
    },
    {
      "cell_type": "markdown",
      "source": [
        "#  What is the T-test, and how is it used in hypothesis testing?\n",
        "\n",
        "--> The T-test is a statistical method used in hypothesis testing to determine whether there is a significant difference between the means of two groups or between a sample mean and a known value. It is especially useful when the population standard deviation (σ) is unknown and the sample size is small (typically less than 30). Instead of using the normal distribution like the Z-test, the T-test relies on the t-distribution, which has wider tails to account for the added uncertainty of estimating the standard deviation from the sample.\n",
        "\n",
        "There are different types of T-tests depending on the context:\n",
        "\n",
        "A one-sample t-test compares the mean of a single sample to a known or hypothesized population mean.\n",
        "\n",
        "An independent two-sample t-test compares the means of two independent groups (e.g., treatment vs control).\n",
        "\n",
        "A paired t-test compares means from the same group at different times (e.g., before and after treatment).\n",
        "\n",
        "In hypothesis testing, the T-test works by setting up a null hypothesis (H₀) (usually stating there is no difference), calculating the t-statistic using the sample data, and comparing it to a critical value from the t-distribution (based on degrees of freedom and significance level, α). If the absolute value of the t-statistic exceeds the critical value, the null hypothesis is rejected, suggesting that the observed difference is statistically significant."
      ],
      "metadata": {
        "id": "ZOnyITn2AC5l"
      }
    },
    {
      "cell_type": "markdown",
      "source": [
        "# What is the relationship between Z-test and T-test in hypothesis testing?\n",
        "\n",
        "--> The Z-test and T-test are closely related methods used in hypothesis testing to assess whether sample data provide enough evidence to reject a null hypothesis, but they differ mainly in terms of the information available about the population and the sample size. The Z-test is used when the population standard deviation (σ) is known and the sample size is large (usually 30 or more). It relies on the standard normal distribution. In contrast, the T-test is used when the population standard deviation is unknown and must be estimated from the sample, which is common with smaller sample sizes (less than 30). The T-test uses the t-distribution, which accounts for the additional uncertainty by having wider tails. As the sample size increases, the t-distribution approaches the normal distribution, and the results of the T-test become similar to those of the Z-test. Essentially, the T-test can be viewed as an extension of the Z-test that adapts to situations where less information about the population is available, ensuring more accurate conclusions in small-sample or unknown-variance cases.\n",
        "\n",
        "\n",
        "\n",
        "\n",
        "\n",
        "\n",
        "\n",
        "\n"
      ],
      "metadata": {
        "id": "m93eE1JhAP-7"
      }
    },
    {
      "cell_type": "markdown",
      "source": [
        "# What is a confidence interval, and how is it used to interpret statistical results?\n",
        "\n",
        "--> A confidence interval is a range of values, calculated from sample data, that is likely to contain the true population parameter (such as the mean or proportion) with a specified level of confidence. For example, a 95% confidence interval means that if you were to take many samples and compute the interval each time, about 95% of those intervals would contain the true population value.\n",
        "\n",
        "Confidence intervals provide not just an estimate but also an indication of the precision and uncertainty around that estimate. The wider the interval, the less precise the estimate, usually due to smaller sample sizes or greater variability.\n",
        "\n",
        "In interpreting statistical results, confidence intervals are useful because they show the range of plausible values for the population parameter. If a confidence interval for a difference between groups does not include zero, it suggests a statistically significant difference at the chosen confidence level. Similarly, in hypothesis testing, if the hypothesized value lies outside the confidence interval, the null hypothesis would typically be rejected. Thus, confidence intervals complement p-values by giving more information about the size and reliability of an effect, helping researchers make more informed conclusions."
      ],
      "metadata": {
        "id": "OvjMJjGlAnuA"
      }
    },
    {
      "cell_type": "markdown",
      "source": [
        "# What is the margin of error, and how does it affect the confidence interval?\n",
        "\n",
        "--> The margin of error is a measure of the maximum expected difference between a sample estimate (like a sample mean or proportion) and the true population parameter. It reflects the amount of uncertainty or variability inherent in the estimate due to sampling. Essentially, the margin of error tells you how much you can expect your estimate to vary from the actual population value, within a certain confidence level."
      ],
      "metadata": {
        "id": "ek1vYNXlAyJ_"
      }
    },
    {
      "cell_type": "markdown",
      "source": [
        "# How is Bayes' Theorem used in statistics, and what is its significance?\n",
        "\n",
        "--> Bayes’ Theorem is a fundamental concept in statistics that provides a way to update the probability of a hypothesis based on new evidence or data. It links prior beliefs (what you initially think before seeing data) with likelihood (how probable the new data is under different hypotheses) to produce a posterior probability (an updated belief after considering the evidence).\n",
        "\n",
        "Bayes’ Theorem is used to revise probabilities when new information becomes available. For example, in medical testing, it helps calculate the probability a patient has a disease given a positive test result by combining:\n",
        "\n",
        "The prior probability (overall disease prevalence)\n",
        "\n",
        "The likelihood of a positive test if the patient has or doesn’t have the disease\n",
        "\n",
        "The total probability of a positive test result"
      ],
      "metadata": {
        "id": "2oK7NTrTBrPx"
      }
    },
    {
      "cell_type": "markdown",
      "source": [
        "# What is the Chi-square distribution, and when is it used?\n",
        "\n",
        "--> The Chi-square (χ²) distribution is a probability distribution that describes the sum of the squares of independent standard normal random variables. It is a right-skewed distribution commonly used in statistics for testing hypotheses about categorical data and variances.\n",
        "\n",
        "When is the Chi-square distribution used?\n",
        "Chi-square goodness-of-fit test:\n",
        "To determine whether observed categorical data matches an expected distribution. For example, testing if a die is fair based on observed roll frequencies.\n",
        "\n",
        "Chi-square test of independence:\n",
        "To examine whether two categorical variables are independent or associated. For example, testing if gender is related to preference for a product.\n",
        "\n",
        "Test of variance:\n",
        "To test hypotheses about the variance of a normally distributed population."
      ],
      "metadata": {
        "id": "46_RhfaiCeOe"
      }
    },
    {
      "cell_type": "markdown",
      "source": [
        "# What is the Chi-square goodness of fit test, and how is it applied?\n",
        "\n",
        "--> The Chi-square goodness-of-fit test is a statistical test used to determine whether the observed frequencies of a categorical variable match the expected frequencies predicted by a specific theoretical distribution or model. Essentially, it checks how well your sample data “fits” with what you would expect under a certain hypothesis.\n",
        "\n",
        "Set up hypotheses:\n",
        "\n",
        "Null hypothesis (H₀): The observed data follows the expected distribution.\n",
        "\n",
        "Alternative hypothesis (H₁): The observed data does not follow the expected distribution.\n",
        "\n",
        "Collect data:\n",
        "Record the observed frequency for each category.\n",
        "\n",
        "Calculate expected frequencies:\n",
        "Based on the hypothesized distribution, calculate the expected count for each category (usually using probabilities times the total sample size)."
      ],
      "metadata": {
        "id": "BXugaFU6Cz1h"
      }
    },
    {
      "cell_type": "markdown",
      "source": [
        "# What is the F-distribution, and when is it used in hypothesis testing?\n",
        "\n",
        "--> The F-distribution is a probability distribution that arises when comparing the variances of two independent samples. It is positively skewed and depends on two different degrees of freedom: one for the numerator and one for the denominator. The F-distribution is mainly used in hypothesis testing to analyze whether two population variances are equal or to compare multiple group means simultaneously.\n",
        "\n",
        "Analysis of Variance (ANOVA):\n",
        "\n",
        "The F-distribution is fundamental in ANOVA tests, which compare the means of three or more groups to see if at least one group mean differs significantly from the others by analyzing variance between and within groups.\n",
        "\n",
        "Test for equality of variances (F-test):\n",
        "It helps test whether two populations have the same variance by comparing their sample variances."
      ],
      "metadata": {
        "id": "hSOAbYtMDmnc"
      }
    },
    {
      "cell_type": "markdown",
      "source": [
        "# What is an ANOVA test, and what are its assumptions?\n",
        "\n",
        "--> An ANOVA test (Analysis of Variance) is a statistical method used to compare the means of three or more groups to determine if there is a significant difference among them. Instead of comparing groups pair by pair, ANOVA tests whether the variation between group means is greater than the variation within groups, helping to identify if at least one group mean differs from the others.\n",
        "\n",
        "Independence: Observations in each group must be independent of each other.\n",
        "\n",
        "Normality: The data in each group should be approximately normally distributed.\n",
        "\n",
        "Homogeneity of variances: The variances among the groups should be roughly equal (also called homoscedasticity)."
      ],
      "metadata": {
        "id": "llc7m9pnD1uD"
      }
    },
    {
      "cell_type": "markdown",
      "source": [
        "# What are the different types of ANOVA tests?\n",
        "\n",
        "1. One-Way ANOVA\n",
        "Purpose: Compares the means of three or more independent groups based on a single factor (independent variable).\n",
        "\n",
        "Example: Testing if students’ test scores differ across three different teaching methods.\n",
        "\n",
        "2. Two-Way ANOVA (Factorial ANOVA)\n",
        "Purpose: Examines the effect of two independent factors on a dependent variable, including possible interaction effects between factors.\n",
        "\n",
        "Example: Studying how teaching method and gender together affect test scores, and whether the effect of teaching method differs by gender.\n",
        "\n",
        "3. Repeated Measures ANOVA\n",
        "Purpose: Used when the same subjects are measured multiple times under different conditions or over time. It accounts for the correlation between repeated measurements.\n",
        "\n",
        "Example: Measuring blood pressure of patients before, during, and after treatment.\n",
        "\n",
        "4. Mixed-Design ANOVA (Split-Plot ANOVA)\n",
        "Purpose: Combines both between-subjects factors (different groups) and within-subjects factors (repeated measures).\n",
        "\n",
        "Example: Testing effects of two diets (between-subjects) on weight loss measured monthly (within-subjects)."
      ],
      "metadata": {
        "id": "xUcTV4b0ENY-"
      }
    },
    {
      "cell_type": "markdown",
      "source": [
        "# What is the F-test, and how does it relate to hypothesis testing?\n",
        "\n",
        "--> The F-test is a statistical test used to compare variances and assess whether group differences are significant in the context of hypothesis testing. It works by calculating an F-statistic, which is the ratio of two variances—usually the variance between groups divided by the variance within groups.\n",
        "\n",
        "How the F-test relates to hypothesis testing:\n",
        "\n",
        "Null hypothesis (H₀): Assumes that the variances (or means) across groups are equal—meaning no effect or no difference.\n",
        "\n",
        "Alternative hypothesis (H₁): Assumes that at least one variance (or mean) is different."
      ],
      "metadata": {
        "id": "DqANrl7rETMZ"
      }
    },
    {
      "cell_type": "code",
      "source": [
        "# Write a Python program to generate a random variable and display its value.\n",
        "\n",
        "import random\n",
        "\n",
        "random_value = random.random()\n",
        "\n",
        "print(\"Random value:\", random_value)\n"
      ],
      "metadata": {
        "colab": {
          "base_uri": "https://localhost:8080/"
        },
        "id": "51TLhAIqElTg",
        "outputId": "b993249b-a91c-4988-80f0-aeaebba0c715"
      },
      "execution_count": null,
      "outputs": [
        {
          "output_type": "stream",
          "name": "stdout",
          "text": [
            "Random value: 0.05771528360506528\n"
          ]
        }
      ]
    },
    {
      "cell_type": "code",
      "source": [
        "# Generate a discrete uniform distribution using Python and plot the probability mass function (PMF).\n",
        "\n",
        "import numpy as np\n",
        "import matplotlib.pyplot as plt\n",
        "from scipy.stats import randint\n",
        "\n",
        "low, high = 1, 10\n",
        "dist = randint(low, high + 1)\n",
        "\n",
        "x = np.arange(low, high + 1)\n",
        "\n",
        "pmf_values = dist.pmf(x)\n",
        "\n",
        "plt.stem(x, pmf_values, basefmt=\" \", use_line_collection=True)\n",
        "plt.xlabel('Value')\n",
        "plt.ylabel('Probability')\n",
        "plt.title('PMF of Discrete Uniform Distribution (1 to 10)')\n",
        "plt.xticks(x)\n",
        "plt.show()\n"
      ],
      "metadata": {
        "colab": {
          "base_uri": "https://localhost:8080/",
          "height": 211
        },
        "id": "vnizWwNxE00E",
        "outputId": "5acf1ea1-456f-418f-8c47-803e6dfaa2bb"
      },
      "execution_count": null,
      "outputs": [
        {
          "output_type": "error",
          "ename": "TypeError",
          "evalue": "stem() got an unexpected keyword argument 'use_line_collection'",
          "traceback": [
            "\u001b[0;31m---------------------------------------------------------------------------\u001b[0m",
            "\u001b[0;31mTypeError\u001b[0m                                 Traceback (most recent call last)",
            "\u001b[0;32m<ipython-input-2-46bf02b98b17>\u001b[0m in \u001b[0;36m<cell line: 0>\u001b[0;34m()\u001b[0m\n\u001b[1;32m     12\u001b[0m \u001b[0mpmf_values\u001b[0m \u001b[0;34m=\u001b[0m \u001b[0mdist\u001b[0m\u001b[0;34m.\u001b[0m\u001b[0mpmf\u001b[0m\u001b[0;34m(\u001b[0m\u001b[0mx\u001b[0m\u001b[0;34m)\u001b[0m\u001b[0;34m\u001b[0m\u001b[0;34m\u001b[0m\u001b[0m\n\u001b[1;32m     13\u001b[0m \u001b[0;34m\u001b[0m\u001b[0m\n\u001b[0;32m---> 14\u001b[0;31m \u001b[0mplt\u001b[0m\u001b[0;34m.\u001b[0m\u001b[0mstem\u001b[0m\u001b[0;34m(\u001b[0m\u001b[0mx\u001b[0m\u001b[0;34m,\u001b[0m \u001b[0mpmf_values\u001b[0m\u001b[0;34m,\u001b[0m \u001b[0mbasefmt\u001b[0m\u001b[0;34m=\u001b[0m\u001b[0;34m\" \"\u001b[0m\u001b[0;34m,\u001b[0m \u001b[0muse_line_collection\u001b[0m\u001b[0;34m=\u001b[0m\u001b[0;32mTrue\u001b[0m\u001b[0;34m)\u001b[0m\u001b[0;34m\u001b[0m\u001b[0;34m\u001b[0m\u001b[0m\n\u001b[0m\u001b[1;32m     15\u001b[0m \u001b[0mplt\u001b[0m\u001b[0;34m.\u001b[0m\u001b[0mxlabel\u001b[0m\u001b[0;34m(\u001b[0m\u001b[0;34m'Value'\u001b[0m\u001b[0;34m)\u001b[0m\u001b[0;34m\u001b[0m\u001b[0;34m\u001b[0m\u001b[0m\n\u001b[1;32m     16\u001b[0m \u001b[0mplt\u001b[0m\u001b[0;34m.\u001b[0m\u001b[0mylabel\u001b[0m\u001b[0;34m(\u001b[0m\u001b[0;34m'Probability'\u001b[0m\u001b[0;34m)\u001b[0m\u001b[0;34m\u001b[0m\u001b[0;34m\u001b[0m\u001b[0m\n",
            "\u001b[0;31mTypeError\u001b[0m: stem() got an unexpected keyword argument 'use_line_collection'"
          ]
        }
      ]
    },
    {
      "cell_type": "code",
      "source": [
        "# Write a Python function to calculate the probability distribution function (PDF) of a Bernoulli distribution.\n",
        "\n",
        "def bernoulli_pmf(x, p):\n",
        "\n",
        "    if x not in [0, 1]:\n",
        "        raise ValueError(\"x must be 0 or 1 for Bernoulli distribution\")\n",
        "    if not (0 <= p <= 1):\n",
        "        raise ValueError(\"Probability p must be between 0 and 1\")\n",
        "\n",
        "    return p**x * (1 - p)**(1 - x)\n",
        "\n",
        "# Example usage:\n",
        "p = 0.7\n",
        "print(\"P(X=1):\", bernoulli_pmf(1, p))\n",
        "print(\"P(X=0):\", bernoulli_pmf(0, p))\n"
      ],
      "metadata": {
        "colab": {
          "base_uri": "https://localhost:8080/"
        },
        "id": "sY3jfwyfFFqy",
        "outputId": "1a9fe121-bc55-41d0-b002-b77ee0eb31d2"
      },
      "execution_count": null,
      "outputs": [
        {
          "output_type": "stream",
          "name": "stdout",
          "text": [
            "P(X=1): 0.7\n",
            "P(X=0): 0.30000000000000004\n"
          ]
        }
      ]
    },
    {
      "cell_type": "code",
      "source": [
        "# Write a Python script to simulate a binomial distribution with n=10 and p=0.5, then plot its histogram.\n",
        "\n",
        "\n",
        "n = 10\n",
        "p = 0.5\n",
        "size = 1000\n",
        "\n",
        "data = np.random.binomial(n, p, size)\n",
        "\n",
        "\n",
        "plt.hist(data, bins=np.arange(n+2) - 0.5, density=True, edgecolor='black')\n",
        "plt.xlabel('Number of successes')\n",
        "plt.ylabel('Probability')\n",
        "plt.title(f'Histogram of Binomial Distribution (n={n}, p={p})')\n",
        "plt.xticks(range(n+1))\n",
        "plt.show()\n"
      ],
      "metadata": {
        "colab": {
          "base_uri": "https://localhost:8080/",
          "height": 472
        },
        "id": "ZjvFTFo6FGKL",
        "outputId": "7335d56e-70d4-4ac8-8054-b5cfe1c40e4a"
      },
      "execution_count": null,
      "outputs": [
        {
          "output_type": "display_data",
          "data": {
            "text/plain": [
              "<Figure size 640x480 with 1 Axes>"
            ],
            "image/png": "[encoded data removed]"
          },
          "metadata": {}
        }
      ]
    },
    {
      "cell_type": "code",
      "source": [
        "# Create a Poisson distribution and visualize it using Python.\n",
        "\n",
        "\n",
        "from scipy.stats import poisson\n",
        "\n",
        "# Parameters\n",
        "lambda_param = 4\n",
        "x = np.arange(0, 15)\n",
        "pmf_values = poisson.pmf(x, lambda_param)\n",
        "\n",
        "# Plot the PMF using plt.stem\n",
        "plt.figure(figsize=(8, 5))\n",
        "markerline, stemlines, baseline = plt.stem(x, pmf_values, basefmt=\" \")\n",
        "plt.setp(markerline, marker='o', markersize=6)\n",
        "plt.setp(stemlines, linestyle='-', color='b')\n",
        "plt.xlabel('Number of Events')\n",
        "plt.ylabel('Probability')\n",
        "plt.title(f'Poisson Distribution PMF (λ={lambda_param})')\n",
        "plt.grid(True)\n",
        "plt.show()\n"
      ],
      "metadata": {
        "colab": {
          "base_uri": "https://localhost:8080/",
          "height": 487
        },
        "id": "MpgvLGiZHIxv",
        "outputId": "52197d1d-20bd-4b28-92a7-a3bf59f6ecdd"
      },
      "execution_count": null,
      "outputs": [
        {
          "output_type": "display_data",
          "data": {
            "text/plain": [
              "<Figure size 800x500 with 1 Axes>"
            ],
            "image/png": "[encoded data removed]"
          },
          "metadata": {}
        }
      ]
    },
    {
      "cell_type": "code",
      "source": [
        "# Write a Python program to calculate and plot the cumulative distribution function (CDF) of a discrete uniform distribution.\n",
        "\n",
        "from scipy.stats import randint\n",
        "\n",
        "low = 1\n",
        "high = 7\n",
        "\n",
        "dist = randint(low, high)\n",
        "\n",
        "x = np.arange(low, high)\n",
        "\n",
        "cdf_values = dist.cdf(x)\n",
        "\n",
        "plt.step(x, cdf_values, where='post', label='CDF')\n",
        "plt.xlabel('Value')\n",
        "plt.ylabel('Cumulative Probability')\n",
        "plt.title('CDF of Discrete Uniform Distribution (1 to 6)')\n",
        "plt.xticks(x)\n",
        "plt.ylim(0, 1.1)\n",
        "plt.grid(True)\n",
        "plt.legend()\n",
        "plt.show()\n"
      ],
      "metadata": {
        "colab": {
          "base_uri": "https://localhost:8080/",
          "height": 472
        },
        "id": "UWq9TDXzHZbG",
        "outputId": "b5c8d6b9-9007-41ae-eae2-eaf276ce64b5"
      },
      "execution_count": null,
      "outputs": [
        {
          "output_type": "display_data",
          "data": {
            "text/plain": [
              "<Figure size 640x480 with 1 Axes>"
            ],
            "image/png": "[encoded data removed]"
          },
          "metadata": {}
        }
      ]
    },
    {
      "cell_type": "code",
      "source": [
        "# Generate a continuous uniform distribution using NumPy and visualize it.\n",
        "\n",
        "\n",
        "a = 0\n",
        "b = 1\n",
        "size = 10000\n",
        "\n",
        "samples = np.random.uniform(a, b, size)\n",
        "\n",
        "plt.hist(samples, bins=50, density=True, alpha=0.6, color='skyblue', edgecolor='black', label='Sampled Data')\n",
        "\n",
        "plt.hlines(1/(b - a), a, b, colors='red', label='Theoretical PDF', linewidth=2)\n",
        "\n",
        "plt.xlabel('Value')\n",
        "plt.ylabel('Density')\n",
        "plt.title('Continuous Uniform Distribution U(0, 1)')\n",
        "plt.legend()\n",
        "plt.grid(True)\n",
        "plt.show()\n"
      ],
      "metadata": {
        "colab": {
          "base_uri": "https://localhost:8080/",
          "height": 472
        },
        "id": "i8VVydeOItLK",
        "outputId": "3122abd2-5a03-40ef-9e3e-0411f49f6bbd"
      },
      "execution_count": null,
      "outputs": [
        {
          "output_type": "display_data",
          "data": {
            "text/plain": [
              "<Figure size 640x480 with 1 Axes>"
            ],
            "image/png": "[encoded data removed]"
          },
          "metadata": {}
        }
      ]
    },
    {
      "cell_type": "code",
      "source": [
        "#  Simulate data from a normal distribution and plot its histogram.\n",
        "\n",
        "\n",
        "np.random.seed(42)\n",
        "mean = 50\n",
        "std_dev = 10\n",
        "sample_size = 1000\n",
        "\n",
        "data = np.random.normal(loc=mean, scale=std_dev, size=sample_size)\n",
        "\n",
        "# Step 2: Plot histogram\n",
        "plt.figure(figsize=(8, 5))\n",
        "plt.hist(data, bins=30, edgecolor='black', alpha=0.7, density=True)\n",
        "plt.title('Histogram of Normally Distributed Data')\n",
        "plt.xlabel('Value')\n",
        "plt.ylabel('Density')\n",
        "\n",
        "# Optional: Overlay the normal distribution curve\n",
        "from scipy.stats import norm\n",
        "x = np.linspace(min(data), max(data), 100)\n",
        "pdf = norm.pdf(x, loc=mean, scale=std_dev)\n",
        "plt.plot(x, pdf, 'r-', lw=2, label='Normal PDF')\n",
        "plt.legend()\n",
        "\n",
        "plt.grid(True)\n",
        "plt.tight_layout()\n",
        "plt.show()\n"
      ],
      "metadata": {
        "id": "F6FWrY9ZSPDU"
      },
      "execution_count": null,
      "outputs": []
    },
    {
      "cell_type": "code",
      "source": [
        "# Write a Python function to calculate Z-scores from a dataset and plot them.\n",
        "\n",
        "def calculate_and_plot_zscores(data):\n",
        "    data = np.array(data)\n",
        "    mean = np.mean(data)\n",
        "    std = np.std(data, ddof=1)  # sample standard deviation\n",
        "    z_scores = (data - mean) / std\n",
        "\n",
        "    # Plot histogram of Z-scores\n",
        "    plt.figure(figsize=(8, 5))\n",
        "    sns.histplot(z_scores, bins=30, kde=True, color='skyblue', edgecolor='black')\n",
        "    plt.axvline(0, color='red', linestyle='--', label='Mean (Z=0)')\n",
        "    plt.title('Z-Score Distribution')\n",
        "    plt.xlabel('Z-score')\n",
        "    plt.ylabel('Frequency')\n",
        "    plt.legend()\n",
        "    plt.grid(True)\n",
        "    plt.tight_layout()\n",
        "    plt.show()\n",
        "\n",
        "    return z_scores\n",
        "\n",
        "if __name__ == \"__main__\":\n",
        "    np.random.seed(42)\n",
        "    sample_data = np.random.normal(loc=100, scale=15, size=200)\n",
        "    z_scores = calculate_and_plot_zscores(sample_data)\n"
      ],
      "metadata": {
        "id": "xvJ50pozWnLB"
      },
      "execution_count": null,
      "outputs": []
    },
    {
      "cell_type": "code",
      "source": [
        "# Implement the Central Limit Theorem (CLT) using Python for a non-normal distribution.\n",
        "\n",
        "import matplotlib.pyplot as plt\n",
        "import seaborn as sns\n",
        "\n",
        "def demonstrate_clt(population_dist, sample_size=30, num_samples=1000):\n",
        "    np.random.seed(42)\n",
        "\n",
        "    # Step 1: Generate a population from a non-normal distribution\n",
        "    population = population_dist(size=100000)\n",
        "\n",
        "    # Step 2: Draw multiple samples and compute their means\n",
        "    sample_means = []\n",
        "    for _ in range(num_samples):\n",
        "        sample = np.random.choice(population, size=sample_size)\n",
        "        sample_means.append(np.mean(sample))\n",
        "\n",
        "    # Step 3: Plot the population and the sampling distribution of the mean\n",
        "    plt.figure(figsize=(14, 6))\n",
        "\n",
        "    # Plot 1: Original population distribution\n",
        "    plt.subplot(1, 2, 1)\n",
        "    sns.histplot(population, bins=50, kde=True, color='orange', stat='density')\n",
        "    plt.title(\"Original Population Distribution (Exponential)\")\n",
        "    plt.xlabel(\"Value\")\n",
        "    plt.ylabel(\"Density\")\n",
        "\n",
        "    # Plot 2: Sampling distribution of the mean\n",
        "    plt.subplot(1, 2, 2)\n",
        "    sns.histplot(sample_means, bins=30, kde=True, color='skyblue', stat='density')\n",
        "    plt.title(f\"Sampling Distribution of the Mean (n={sample_size})\")\n",
        "    plt.xlabel(\"Sample Mean\")\n",
        "    plt.ylabel(\"Density\")\n",
        "\n",
        "    plt.tight_layout()\n",
        "    plt.show()\n",
        "\n",
        "# Run the CLT demo with exponential distribution\n",
        "demonstrate_clt(lambda size: np.random.exponential(scale=2, size=size), sample_size=50, num_samples=1000)\n"
      ],
      "metadata": {
        "colab": {
          "base_uri": "https://localhost:8080/",
          "height": 545
        },
        "id": "hIcY1jsxWwFz",
        "outputId": "55b61b12-31cc-4ddc-a953-b333953ffd10"
      },
      "execution_count": null,
      "outputs": [
        {
          "output_type": "display_data",
          "data": {
            "text/plain": [
              "<Figure size 1400x600 with 2 Axes>"
            ],
            "image/png": "[encoded data removed]"
          },
          "metadata": {}
        }
      ]
    },
    {
      "cell_type": "code",
      "source": [
        "# Simulate multiple samples from a normal distribution and verify the Central Limit Theorem.\n",
        "\n",
        "import numpy as np\n",
        "\n",
        "def simulate_clt_with_normal(sample_size=30, num_samples=1000, pop_mean=100, pop_std=15):\n",
        "    np.random.seed(42)\n",
        "\n",
        "    # Step 1: Generate sample means\n",
        "    sample_means = []\n",
        "    for _ in range(num_samples):\n",
        "        sample = np.random.normal(loc=pop_mean, scale=pop_std, size=sample_size)\n",
        "        sample_means.append(np.mean(sample))\n",
        "\n",
        "    # Step 2: Plot the sampling distribution of the mean\n",
        "    plt.figure(figsize=(10, 5))\n",
        "    sns.histplot(sample_means, bins=30, kde=True, color=\"skyblue\", stat=\"density\")\n",
        "    plt.axvline(np.mean(sample_means), color='red', linestyle='--', label=f\"Mean ≈ {np.mean(sample_means):.2f}\")\n",
        "    plt.title(f\"Sampling Distribution of Sample Means (n={sample_size}, samples={num_samples})\")\n",
        "    plt.xlabel(\"Sample Mean\")\n",
        "    plt.ylabel(\"Density\")\n",
        "    plt.legend()\n",
        "    plt.grid(True)\n",
        "    plt.tight_layout()\n",
        "    plt.show()\n",
        "\n",
        "# Run the simulation\n",
        "simulate_clt_with_normal(sample_size=50, num_samples=1000)\n"
      ],
      "metadata": {
        "colab": {
          "base_uri": "https://localhost:8080/",
          "height": 507
        },
        "id": "sNLPPJbrXR6T",
        "outputId": "bb7bc7de-8419-4f43-c9e0-f8af795afe66"
      },
      "execution_count": null,
      "outputs": [
        {
          "output_type": "display_data",
          "data": {
            "text/plain": [
              "<Figure size 1000x500 with 1 Axes>"
            ],
            "image/png": "[encoded data removed]"
          },
          "metadata": {}
        }
      ]
    },
    {
      "cell_type": "code",
      "source": [
        "# Write a Python function to calculate and plot the standard normal distribution (mean = 0, std = 1).\n",
        "\n",
        "from scipy.stats import norm\n",
        "\n",
        "def plot_standard_normal_distribution():\n",
        "    \"\"\"\n",
        "    Plot the standard normal distribution (mean = 0, std = 1).\n",
        "    \"\"\"\n",
        "    # Define the range for the x-axis\n",
        "    x = np.linspace(-4, 4, 1000)  # covers 99.99% of data for standard normal\n",
        "    y = norm.pdf(x, loc=0, scale=1)\n",
        "\n",
        "    # Plot the distribution\n",
        "    plt.figure(figsize=(8, 5))\n",
        "    plt.plot(x, y, color='blue', lw=2, label='Standard Normal PDF')\n",
        "    plt.fill_between(x, y, alpha=0.2, color='skyblue')\n",
        "    plt.axvline(0, color='black', linestyle='--', label='Mean (0)')\n",
        "    plt.title('Standard Normal Distribution (μ = 0, σ = 1)')\n",
        "    plt.xlabel('Z-score')\n",
        "    plt.ylabel('Probability Density')\n",
        "    plt.legend()\n",
        "    plt.grid(True)\n",
        "    plt.tight_layout()\n",
        "    plt.show()\n",
        "\n",
        "# Run the function\n",
        "plot_standard_normal_distribution()\n"
      ],
      "metadata": {
        "colab": {
          "base_uri": "https://localhost:8080/",
          "height": 507
        },
        "id": "VvFyHKZkXgYu",
        "outputId": "dcc4c88c-bc6b-4401-e359-5f904e64fa97"
      },
      "execution_count": null,
      "outputs": [
        {
          "output_type": "display_data",
          "data": {
            "text/plain": [
              "<Figure size 800x500 with 1 Axes>"
            ],
            "image/png": "[encoded data removed]"
          },
          "metadata": {}
        }
      ]
    },
    {
      "cell_type": "code",
      "source": [
        "# Generate random variables and calculate their corresponding probabilities using the binomial distribution.\n",
        "\n",
        "import numpy as np\n",
        "from scipy.stats import binom\n",
        "import matplotlib.pyplot as plt\n",
        "\n",
        "def binomial_demo(n=10, p=0.5, size=1000):\n",
        "    \"\"\"\n",
        "    Generate random binomial variables and calculate their probabilities.\n",
        "\n",
        "    Parameters:\n",
        "    - n: number of trials\n",
        "    - p: probability of success\n",
        "    - size: number of random samples to generate\n",
        "    \"\"\"\n",
        "    np.random.seed(42)\n",
        "\n",
        "    # Step 1: Generate binomial random variables\n",
        "    data = np.random.binomial(n=n, p=p, size=size)\n",
        "\n",
        "    # Step 2: Count occurrences (frequency)\n",
        "    values, counts = np.unique(data, return_counts=True)\n",
        "\n",
        "    # Step 3: Calculate theoretical probabilities (PMF)\n",
        "    k = np.arange(0, n+1)\n",
        "    probs = binom.pmf(k, n, p)\n",
        "\n",
        "    # Step 4: Plot\n",
        "    plt.figure(figsize=(10, 5))\n",
        "    plt.bar(k, probs, alpha=0.6, label=\"Theoretical PMF\", color='skyblue', edgecolor='black')\n",
        "    plt.bar(values, counts/size, alpha=0.4, label=\"Simulated Frequencies\", color='orange', edgecolor='black')\n",
        "    plt.xlabel(\"Number of Successes\")\n",
        "    plt.ylabel(\"Probability\")\n",
        "    plt.title(f\"Binomial Distribution (n={n}, p={p})\")\n",
        "    plt.legend()\n",
        "    plt.grid(True)\n",
        "    plt.tight_layout()\n",
        "    plt.show()\n",
        "\n",
        "    # Print example of probability calculation\n",
        "    print(f\"P(X = 5) =\", binom.pmf(5, n, p))\n",
        "\n",
        "# Run the demo\n",
        "binomial_demo(n=10, p=0.5, size=1000)\n"
      ],
      "metadata": {
        "colab": {
          "base_uri": "https://localhost:8080/",
          "height": 524
        },
        "id": "8TyPDTG8XsL4",
        "outputId": "ed30d64c-7efa-471d-c0ef-0279ba7ac6d1"
      },
      "execution_count": null,
      "outputs": [
        {
          "output_type": "display_data",
          "data": {
            "text/plain": [
              "<Figure size 1000x500 with 1 Axes>"
            ],
            "image/png": "[encoded data removed]"
          },
          "metadata": {}
        },
        {
          "output_type": "stream",
          "name": "stdout",
          "text": [
            "P(X = 5) = 0.24609375000000003\n"
          ]
        }
      ]
    },
    {
      "cell_type": "code",
      "source": [
        "# Write a Python program to calculate the Z-score for a given data point and compare it to a standard normal distribution\n",
        "\n",
        "import numpy as np\n",
        "import matplotlib.pyplot as plt\n",
        "from scipy.stats import norm\n",
        "\n",
        "def calculate_z_score(x, mean, std):\n",
        "    \"\"\"\n",
        "    Calculate the Z-score for a given data point.\n",
        "\n",
        "    Parameters:\n",
        "    - x: data point\n",
        "    - mean: mean of the distribution\n",
        "    - std: standard deviation of the distribution\n",
        "\n",
        "    Returns:\n",
        "    - Z-score\n",
        "    \"\"\"\n",
        "    return (x - mean) / std\n",
        "\n",
        "def visualize_z_score(z):\n",
        "    \"\"\"\n",
        "    Plot the standard normal distribution and mark the given Z-score.\n",
        "\n",
        "    Parameters:\n",
        "    - z: calculated Z-score\n",
        "    \"\"\"\n",
        "    x = np.linspace(-4, 4, 1000)\n",
        "    y = norm.pdf(x)\n",
        "\n",
        "    plt.figure(figsize=(8, 5))\n",
        "    plt.plot(x, y, label='Standard Normal PDF', color='blue')\n",
        "    plt.fill_between(x, 0, y, where=(x <= z), color='skyblue', alpha=0.5, label=f'Area ≤ Z = {z:.2f}')\n",
        "    plt.axvline(z, color='red', linestyle='--', label=f'Z = {z:.2f}')\n",
        "    plt.axvline(0, color='black', linestyle=':', label='Mean (Z = 0)')\n",
        "    plt.title('Standard Normal Distribution and Z-score')\n",
        "    plt.xlabel('Z')\n",
        "    plt.ylabel('Density')\n",
        "    plt.legend()\n",
        "    plt.grid(True)\n",
        "    plt.tight_layout()\n",
        "    plt.show()\n",
        "\n",
        "    # Cumulative probability (area to the left of Z)\n",
        "    prob = norm.cdf(z)\n",
        "    print(f\"Cumulative Probability P(Z ≤ {z:.2f}) = {prob:.4f}\")\n",
        "\n",
        "# Example usage\n",
        "data_point = 130\n",
        "population_mean = 100\n",
        "population_std = 15\n",
        "\n",
        "z_score = calculate_z_score(data_point, population_mean, population_std)\n",
        "print(f\"Z-score for x = {data_point}: {z_score:.2f}\")\n",
        "visualize_z_score(z_score)\n"
      ],
      "metadata": {
        "id": "IqXT51hsYXW2"
      },
      "execution_count": null,
      "outputs": []
    },
    {
      "cell_type": "code",
      "source": [
        "# Implement hypothesis testing using Z-statistics for a sample dataset.\n",
        "\n",
        "import numpy as np\n",
        "from scipy.stats import norm\n",
        "\n",
        "def one_sample_z_test(sample_mean, population_mean, population_std, sample_size, alpha=0.05):\n",
        "    \"\"\"\n",
        "    Perform a one-sample Z-test for the mean.\n",
        "\n",
        "    Parameters:\n",
        "    - sample_mean: observed sample mean\n",
        "    - population_mean: claimed population mean (under H₀)\n",
        "    - population_std: known population standard deviation\n",
        "    - sample_size: number of observations in the sample\n",
        "    - alpha: significance level\n",
        "\n",
        "    Returns:\n",
        "    - z_score, p_value, test_result (Reject or Fail to Reject H₀)\n",
        "    \"\"\"\n",
        "    # Step 1: Calculate Z-statistic\n",
        "    z_score = (sample_mean - population_mean) / (population_std / np.sqrt(sample_size))\n",
        "\n",
        "    # Step 2: Calculate p-value (two-tailed test)\n",
        "    p_value = 2 * (1 - norm.cdf(abs(z_score)))\n",
        "\n",
        "    # Step 3: Make decision\n",
        "    if p_value < alpha:\n",
        "        result = \"Reject H₀\"\n",
        "    else:\n",
        "        result = \"Fail to Reject H₀\"\n",
        "\n",
        "    # Output results\n",
        "    print(f\"Z-score: {z_score:.3f}\")\n",
        "    print(f\"P-value: {p_value:.4f}\")\n",
        "    print(f\"Test Result: {result}\")\n",
        "\n",
        "    return z_score, p_value, result\n",
        "\n",
        "# Example usage\n",
        "sample_mean = 490\n",
        "population_mean = 500\n",
        "population_std = 20\n",
        "sample_size = 40\n",
        "alpha = 0.05\n",
        "\n",
        "one_sample_z_test(sample_mean, population_mean, population_std, sample_size, alpha)\n"
      ],
      "metadata": {
        "colab": {
          "base_uri": "https://localhost:8080/"
        },
        "id": "sJzTP_9cY9dd",
        "outputId": "e40ee785-bbbf-428e-e1df-ec827926ecff"
      },
      "execution_count": null,
      "outputs": [
        {
          "output_type": "stream",
          "name": "stdout",
          "text": [
            "Z-score: -3.162\n",
            "P-value: 0.0016\n",
            "Test Result: Reject H₀\n"
          ]
        },
        {
          "output_type": "execute_result",
          "data": {
            "text/plain": [
              "(np.float64(-3.1622776601683795),\n",
              " np.float64(0.0015654022580025018),\n",
              " 'Reject H₀')"
            ]
          },
          "metadata": {},
          "execution_count": 11
        }
      ]
    },
    {
      "cell_type": "code",
      "source": [
        "# Create a confidence interval for a dataset using Python and interpret the result.\n",
        "\n",
        "import numpy as np\n",
        "from scipy import stats\n",
        "\n",
        "def confidence_interval(data, confidence=0.95):\n",
        "    \"\"\"\n",
        "    Calculate the confidence interval for the mean of a dataset using the T-distribution.\n",
        "\n",
        "    Parameters:\n",
        "    - data: array-like sample data\n",
        "    - confidence: desired confidence level (default 95%)\n",
        "\n",
        "    Returns:\n",
        "    - (lower bound, upper bound) of the confidence interval\n",
        "    \"\"\"\n",
        "    data = np.array(data)\n",
        "    n = len(data)\n",
        "    mean = np.mean(data)\n",
        "    sem = stats.sem(data)  # Standard error of the mean\n",
        "    margin = sem * stats.t.ppf((1 + confidence) / 2., df=n-1)\n",
        "    lower_bound = mean - margin\n",
        "    upper_bound = mean + margin\n",
        "\n",
        "    print(f\"Sample Mean: {mean:.2f}\")\n",
        "    print(f\"{int(confidence*100)}% Confidence Interval: ({lower_bound:.2f}, {upper_bound:.2f})\")\n",
        "\n",
        "    return lower_bound, upper_bound\n",
        "\n",
        "# Example usage\n",
        "np.random.seed(42)\n",
        "sample_data = np.random.normal(loc=50, scale=10, size=30)\n",
        "confidence_interval(sample_data, confidence=0.95)\n"
      ],
      "metadata": {
        "colab": {
          "base_uri": "https://localhost:8080/"
        },
        "id": "Q6mqO040ZO-C",
        "outputId": "6c2ab47e-9c27-412f-d3a6-9cdd9c2ede0b"
      },
      "execution_count": null,
      "outputs": [
        {
          "output_type": "stream",
          "name": "stdout",
          "text": [
            "Sample Mean: 48.12\n",
            "95% Confidence Interval: (44.76, 51.48)\n"
          ]
        },
        {
          "output_type": "execute_result",
          "data": {
            "text/plain": [
              "(np.float64(44.75785181035169), np.float64(51.47921027262756))"
            ]
          },
          "metadata": {},
          "execution_count": 12
        }
      ]
    },
    {
      "cell_type": "code",
      "source": [
        "# Generate data from a normal distribution, then calculate and interpret the confidence interval for its mean.\n",
        "\n",
        "import numpy as np\n",
        "from scipy import stats\n",
        "import matplotlib.pyplot as plt\n",
        "\n",
        "def simulate_and_confidence_interval(mean=100, std=15, size=50, confidence=0.95):\n",
        "    \"\"\"\n",
        "    Generate data from a normal distribution and calculate the confidence interval for the mean.\n",
        "\n",
        "    Parameters:\n",
        "    - mean: population mean to simulate from\n",
        "    - std: population standard deviation\n",
        "    - size: sample size\n",
        "    - confidence: confidence level for the interval\n",
        "\n",
        "    Returns:\n",
        "    - lower and upper bounds of the confidence interval\n",
        "    \"\"\"\n",
        "    np.random.seed(0)\n",
        "\n",
        "    # Step 1: Simulate data\n",
        "    data = np.random.normal(loc=mean, scale=std, size=size)\n",
        "    sample_mean = np.mean(data)\n",
        "    sample_sem = stats.sem(data)  # Standard Error of the Mean\n",
        "\n",
        "    # Step 2: Calculate the confidence interval using T-distribution\n",
        "    margin = sample_sem * stats.t.ppf((1 + confidence) / 2., df=size-1)\n",
        "    ci_lower = sample_mean - margin\n",
        "    ci_upper = sample_mean + margin\n",
        "\n",
        "    # Step 3: Print results\n",
        "    print(f\"Sample Mean: {sample_mean:.2f}\")\n",
        "    print(f\"{int(confidence*100)}% Confidence Interval: ({ci_lower:.2f}, {ci_upper:.2f})\")\n",
        "\n",
        "    # Step 4: Plot\n",
        "    plt.figure(figsize=(8, 4))\n",
        "    plt.hist(data, bins=10, color='lightblue', edgecolor='black', alpha=0.7)\n",
        "    plt.axvline(sample_mean, color='red', linestyle='--', label=f\"Sample Mean = {sample_mean:.2f}\")\n",
        "    plt.axvspan(ci_lower, ci_upper, color='yellow', alpha=0.3, label='Confidence Interval')\n",
        "    plt.title(f\"Histogram with {int(confidence*100)}% CI for the Mean\")\n",
        "    plt.xlabel('Value')\n",
        "    plt.ylabel('Frequency')\n",
        "    plt.legend()\n",
        "    plt.tight_layout()\n",
        "    plt.show()\n",
        "\n",
        "    return ci_lower, ci_upper\n",
        "\n",
        "# Run the function\n",
        "simulate_and_confidence_interval(mean=100, std=15, size=50, confidence=0.95)\n"
      ],
      "metadata": {
        "id": "gk5JvrauZX2p"
      },
      "execution_count": null,
      "outputs": []
    },
    {
      "cell_type": "code",
      "source": [
        "# Write a Python script to calculate and visualize the probability density function (PDF) of a normal distribution.\n",
        "\n",
        "import numpy as np\n",
        "import matplotlib.pyplot as plt\n",
        "from scipy.stats import norm\n",
        "\n",
        "def plot_normal_pdf(mean=0, std=1):\n",
        "    \"\"\"\n",
        "    Calculate and plot the PDF of a normal distribution.\n",
        "\n",
        "    Parameters:\n",
        "    - mean: mean of the normal distribution\n",
        "    - std: standard deviation of the normal distribution\n",
        "    \"\"\"\n",
        "    # Define range for x values\n",
        "    x = np.linspace(mean - 4*std, mean + 4*std, 1000)\n",
        "\n",
        "    # Calculate PDF values\n",
        "    pdf_values = norm.pdf(x, loc=mean, scale=std)\n",
        "\n",
        "    # Plotting\n",
        "    plt.figure(figsize=(8, 5))\n",
        "    plt.plot(x, pdf_values, color='blue', lw=2, label=f'Normal PDF\\nμ={mean}, σ={std}')\n",
        "    plt.fill_between(x, pdf_values, alpha=0.2, color='skyblue')\n",
        "    plt.title('Probability Density Function (PDF) of Normal Distribution')\n",
        "    plt.xlabel('x')\n",
        "    plt.ylabel('Probability Density')\n",
        "    plt.legend()\n",
        "    plt.grid(True)\n",
        "    plt.tight_layout()\n",
        "    plt.show()\n",
        "\n",
        "# Example usage\n",
        "plot_normal_pdf(mean=0, std=1)\n"
      ],
      "metadata": {
        "id": "JHOwjxfHaNgd"
      },
      "execution_count": null,
      "outputs": []
    },
    {
      "cell_type": "code",
      "source": [
        "# Use Python to calculate and interpret the cumulative distribution function (CDF) of a Poisson distribution.\n",
        "\n",
        "from scipy.stats import poisson\n",
        "\n",
        "def poisson_cdf_example(lambda_, k):\n",
        "    \"\"\"\n",
        "    Calculate and interpret the CDF of a Poisson distribution.\n",
        "\n",
        "    Parameters:\n",
        "    - lambda_: average rate (expected number of events)\n",
        "    - k: the number of events to calculate CDF for\n",
        "\n",
        "    Returns:\n",
        "    - cumulative probability P(X <= k)\n",
        "    \"\"\"\n",
        "    cdf_value = poisson.cdf(k, mu=lambda_)\n",
        "    print(f\"For a Poisson distribution with λ = {lambda_},\")\n",
        "    print(f\"the probability of observing {k} or fewer events is {cdf_value:.4f}.\")\n",
        "\n",
        "    return cdf_value\n",
        "\n",
        "# Example usage\n",
        "lambda_ = 3.5  # average events\n",
        "k = 5          # threshold number of events\n",
        "poisson_cdf_example(lambda_, k)\n"
      ],
      "metadata": {
        "colab": {
          "base_uri": "https://localhost:8080/"
        },
        "id": "1PEPr4YBajm_",
        "outputId": "0e0ca67a-00ab-4782-a6db-cacbb1067c33"
      },
      "execution_count": null,
      "outputs": [
        {
          "output_type": "stream",
          "name": "stdout",
          "text": [
            "For a Poisson distribution with λ = 3.5,\n",
            "the probability of observing 5 or fewer events is 0.8576.\n"
          ]
        },
        {
          "output_type": "execute_result",
          "data": {
            "text/plain": [
              "np.float64(0.8576135530957782)"
            ]
          },
          "metadata": {},
          "execution_count": 13
        }
      ]
    },
    {
      "cell_type": "code",
      "source": [
        "# Simulate a random variable using a continuous uniform distribution and calculate its expected value.\n",
        "\n",
        "import numpy as np\n",
        "\n",
        "def simulate_uniform_and_expected_value(a=0, b=10, sample_size=10000):\n",
        "    \"\"\"\n",
        "    Simulate random variables from a continuous uniform distribution\n",
        "    and calculate the expected value.\n",
        "\n",
        "    Parameters:\n",
        "    - a: lower bound of the uniform distribution\n",
        "    - b: upper bound of the uniform distribution\n",
        "    - sample_size: number of samples to generate\n",
        "\n",
        "    Returns:\n",
        "    - sample_mean: mean of the simulated data\n",
        "    - expected_value: theoretical expected value (mean) of the uniform distribution\n",
        "    \"\"\"\n",
        "    # Simulate uniform random variables\n",
        "    data = np.random.uniform(low=a, high=b, size=sample_size)\n",
        "\n",
        "    # Calculate sample mean\n",
        "    sample_mean = np.mean(data)\n",
        "\n",
        "    # Theoretical expected value\n",
        "    expected_value = (a + b) / 2\n",
        "\n",
        "    print(f\"Simulated Sample Mean: {sample_mean:.4f}\")\n",
        "    print(f\"Theoretical Expected Value: {expected_value:.4f}\")\n",
        "\n",
        "    return sample_mean, expected_value\n",
        "\n",
        "# Example usage\n",
        "simulate_uniform_and_expected_value(a=2, b=8, sample_size=10000)\n"
      ],
      "metadata": {
        "id": "yutY8TJkawpb"
      },
      "execution_count": null,
      "outputs": []
    },
    {
      "cell_type": "code",
      "source": [
        "# Write a Python program to compare the standard deviations of two datasets and visualize the difference.\n",
        "\n",
        "import numpy as np\n",
        "import matplotlib.pyplot as plt\n",
        "\n",
        "def compare_std_and_visualize(data1, data2, labels=('Dataset 1', 'Dataset 2')):\n",
        "    \"\"\"\n",
        "    Compare standard deviations of two datasets and visualize them.\n",
        "\n",
        "    Parameters:\n",
        "    - data1, data2: arrays or lists of numerical data\n",
        "    - labels: tuple of labels for the datasets\n",
        "    \"\"\"\n",
        "    std1 = np.std(data1, ddof=1)  # sample standard deviation\n",
        "    std2 = np.std(data2, ddof=1)\n",
        "\n",
        "    mean1 = np.mean(data1)\n",
        "    mean2 = np.mean(data2)\n",
        "\n",
        "    print(f\"{labels[0]}: mean = {mean1:.2f}, std dev = {std1:.2f}\")\n",
        "    print(f\"{labels[1]}: mean = {mean2:.2f}, std dev = {std2:.2f}\")\n",
        "\n",
        "    # Plotting\n",
        "    plt.figure(figsize=(7,5))\n",
        "    x_pos = np.arange(2)\n",
        "    means = [mean1, mean2]\n",
        "    stds = [std1, std2]\n",
        "\n",
        "    plt.bar(x_pos, means, yerr=stds, capsize=10, color=['skyblue', 'salmon'])\n",
        "    plt.xticks(x_pos, labels)\n",
        "    plt.ylabel('Mean Value with Std Dev Error Bar')\n",
        "    plt.title('Comparison of Standard Deviations')\n",
        "    plt.grid(axis='y', linestyle='--', alpha=0.7)\n",
        "    plt.show()\n",
        "\n",
        "# Example usage\n",
        "np.random.seed(0)\n",
        "data1 = np.random.normal(loc=50, scale=5, size=100)\n",
        "data2 = np.random.normal(loc=55, scale=10, size=100)\n",
        "\n",
        "compare_std_and_visualize(data1, data2)\n"
      ],
      "metadata": {
        "id": "mc_B_s-lcKDh"
      },
      "execution_count": null,
      "outputs": []
    },
    {
      "cell_type": "code",
      "source": [
        "# Calculate the range and interquartile range (IQR) of a dataset generated from a normal distribution.\n",
        "\n",
        "import numpy as np\n",
        "\n",
        "# Generate sample data\n",
        "np.random.seed(42)\n",
        "data = np.random.normal(loc=50, scale=10, size=100)\n",
        "\n",
        "# Calculate range\n",
        "data_range = np.max(data) - np.min(data)\n",
        "\n",
        "# Calculate IQR\n",
        "q75, q25 = np.percentile(data, [75 ,25])\n",
        "iqr = q75 - q25\n",
        "\n",
        "print(f\"Range of the data: {data_range:.2f}\")\n",
        "print(f\"Interquartile Range (IQR): {iqr:.2f}\")\n"
      ],
      "metadata": {
        "id": "zCjBpktvco4s"
      },
      "execution_count": null,
      "outputs": []
    },
    {
      "cell_type": "code",
      "source": [
        "# Implement Z-score normalization on a dataset and visualize its transformation.\n",
        "\n",
        "import numpy as np\n",
        "import matplotlib.pyplot as plt\n",
        "from scipy.stats import zscore\n",
        "\n",
        "# Generate sample data\n",
        "np.random.seed(42)\n",
        "data = np.random.normal(loc=50, scale=15, size=100)\n",
        "\n",
        "# Apply Z-score normalization\n",
        "data_normalized = zscore(data)\n",
        "\n",
        "# Plotting\n",
        "plt.figure(figsize=(12, 5))\n",
        "\n",
        "# Original data histogram\n",
        "plt.subplot(1, 2, 1)\n",
        "plt.hist(data, bins=15, color='skyblue', edgecolor='black')\n",
        "plt.title(\"Original Data\")\n",
        "plt.xlabel(\"Value\")\n",
        "plt.ylabel(\"Frequency\")\n",
        "\n",
        "# Normalized data histogram\n",
        "plt.subplot(1, 2, 2)\n",
        "plt.hist(data_normalized, bins=15, color='salmon', edgecolor='black')\n",
        "plt.title(\"Z-score Normalized Data\")\n",
        "plt.xlabel(\"Z-score\")\n",
        "plt.ylabel(\"Frequency\")\n",
        "\n",
        "plt.tight_layout()\n",
        "plt.show()\n"
      ],
      "metadata": {
        "id": "AfWmKrZIcwni"
      },
      "execution_count": null,
      "outputs": []
    },
    {
      "cell_type": "code",
      "source": [
        "#  Write a Python function to calculate the skewness and kurtosis of a dataset generated from a normal distribution.\n",
        "\n",
        "import numpy as np\n",
        "from scipy.stats import skew, kurtosis\n",
        "\n",
        "def calc_skewness_kurtosis(mean=0, std=1, size=1000):\n",
        "    \"\"\"\n",
        "    Generate a normal distribution dataset and calculate its skewness and kurtosis.\n",
        "\n",
        "    Parameters:\n",
        "    - mean: mean of the normal distribution\n",
        "    - std: standard deviation\n",
        "    - size: number of samples\n",
        "\n",
        "    Returns:\n",
        "    - skewness: measure of asymmetry\n",
        "    - kurtosis_value: measure of tailedness (excess kurtosis)\n",
        "    \"\"\"\n",
        "    data = np.random.normal(loc=mean, scale=std, size=size)\n",
        "\n",
        "    skewness = skew(data)\n",
        "    kurtosis_value = kurtosis(data)  # by default, returns excess kurtosis\n",
        "\n",
        "    print(f\"Skewness: {skewness:.4f}\")\n",
        "    print(f\"Kurtosis (excess): {kurtosis_value:.4f}\")\n",
        "\n",
        "    return skewness, kurtosis_value\n",
        "\n",
        "# Example usage\n",
        "calc_skewness_kurtosis(mean=0, std=1, size=1000)\n"
      ],
      "metadata": {
        "colab": {
          "base_uri": "https://localhost:8080/"
        },
        "id": "DrVhsG89dDI0",
        "outputId": "fee1e520-3a45-4cf5-a788-fcac4ee24fc5"
      },
      "execution_count": null,
      "outputs": [
        {
          "output_type": "stream",
          "name": "stdout",
          "text": [
            "Skewness: 0.1093\n",
            "Kurtosis (excess): 0.0643\n"
          ]
        },
        {
          "output_type": "execute_result",
          "data": {
            "text/plain": [
              "(np.float64(0.10934008641482908), np.float64(0.06425742791278166))"
            ]
          },
          "metadata": {},
          "execution_count": 14
        }
      ]
    },
    {
      "cell_type": "code",
      "source": [
        "# Write a Python program to perform a Z-test for comparing a sample mean to a known population mean and interpret the results\n",
        "\n",
        "import math\n",
        "from scipy.stats import norm\n",
        "\n",
        "def z_test(sample_mean, population_mean, population_std, sample_size, alpha=0.05, alternative='two-sided'):\n",
        "    # Calculate Z-statistic\n",
        "    standard_error = population_std / math.sqrt(sample_size)\n",
        "    z = (sample_mean - population_mean) / standard_error\n",
        "\n",
        "    # Determine p-value based on the alternative hypothesis\n",
        "    if alternative == 'two-sided':\n",
        "        p_value = 2 * (1 - norm.cdf(abs(z)))\n",
        "    elif alternative == 'less':\n",
        "        p_value = norm.cdf(z)\n",
        "    elif alternative == 'greater':\n",
        "        p_value = 1 - norm.cdf(z)\n",
        "    else:\n",
        "        raise ValueError(\"alternative must be 'two-sided', 'less', or 'greater'\")\n",
        "\n",
        "    # Interpretation\n",
        "    print(f\"Z-statistic: {z:.4f}\")\n",
        "    print(f\"P-value: {p_value:.4f}\")\n",
        "\n",
        "    if p_value < alpha:\n",
        "        print(f\"Result: Reject the null hypothesis at α = {alpha}\")\n",
        "    else:\n",
        "        print(f\"Result: Fail to reject the null hypothesis at α = {alpha}\")\n",
        "\n",
        "# Example usage:\n",
        "sample_mean = 105\n",
        "population_mean = 100\n",
        "population_std = 15\n",
        "sample_size = 50\n",
        "\n",
        "z_test(sample_mean, population_mean, population_std, sample_size, alpha=0.05, alternative='two-sided')\n"
      ],
      "metadata": {
        "id": "WkwxR5XIlLcm"
      },
      "execution_count": null,
      "outputs": []
    },
    {
      "cell_type": "code",
      "source": [
        "#  Simulate random data to perform hypothesis testing and calculate the corresponding P-value using Python\n",
        "\n",
        "import numpy as np\n",
        "from scipy.stats import norm\n",
        "import math\n",
        "\n",
        "# 1. Simulate random sample data\n",
        "np.random.seed(42)  # for reproducibility\n",
        "population_mean = 100\n",
        "population_std = 15\n",
        "sample_size = 50\n",
        "\n",
        "# Generate random sample from population\n",
        "sample = np.random.normal(loc=population_mean, scale=population_std, size=sample_size)\n",
        "\n",
        "# 2. Set up a null hypothesis to test against a different mean\n",
        "hypothesized_mean = 105\n",
        "\n",
        "# 3. Calculate sample statistics\n",
        "sample_mean = np.mean(sample)\n",
        "standard_error = population_std / math.sqrt(sample_size)\n",
        "z_statistic = (sample_mean - hypothesized_mean) / standard_error\n",
        "\n",
        "# 4. Calculate the two-tailed p-value\n",
        "p_value = 2 * (1 - norm.cdf(abs(z_statistic)))\n",
        "\n",
        "# 5. Print results\n",
        "print(f\"Sample Mean: {sample_mean:.2f}\")\n",
        "print(f\"Z-statistic: {z_statistic:.4f}\")\n",
        "print(f\"P-value: {p_value:.4f}\")\n",
        "\n",
        "# 6. Interpretation\n",
        "alpha = 0.05\n",
        "if p_value < alpha:\n",
        "    print(f\"Result: Reject the null hypothesis at α = {alpha}\")\n",
        "else:\n",
        "    print(f\"Result: Fail to reject the null hypothesis at α = {alpha}\")\n"
      ],
      "metadata": {
        "id": "Ow8NFl7DlWjS"
      },
      "execution_count": null,
      "outputs": []
    },
    {
      "cell_type": "code",
      "source": [
        "# Implement a one-sample Z-test using Python to compare the sample mean with the population mean.\n",
        "\n",
        "import numpy as np\n",
        "from scipy.stats import norm\n",
        "import math\n",
        "\n",
        "def one_sample_z_test(sample_data, population_mean, population_std, alpha=0.05, alternative='two-sided'):\n",
        "    \"\"\"\n",
        "    Performs a one-sample Z-test.\n",
        "\n",
        "    Parameters:\n",
        "    - sample_data: array-like, the sample data\n",
        "    - population_mean: float, the mean under the null hypothesis\n",
        "    - population_std: float, known population standard deviation\n",
        "    - alpha: significance level (default 0.05)\n",
        "    - alternative: 'two-sided', 'greater', or 'less'\n",
        "\n",
        "    Returns:\n",
        "    - z_statistic, p_value, and interpretation\n",
        "    \"\"\"\n",
        "    sample_size = len(sample_data)\n",
        "    sample_mean = np.mean(sample_data)\n",
        "    standard_error = population_std / math.sqrt(sample_size)\n",
        "    z_statistic = (sample_mean - population_mean) / standard_error\n",
        "\n",
        "    # Calculate p-value based on type of test\n",
        "    if alternative == 'two-sided':\n",
        "        p_value = 2 * (1 - norm.cdf(abs(z_statistic)))\n",
        "    elif alternative == 'greater':\n",
        "        p_value = 1 - norm.cdf(z_statistic)\n",
        "    elif alternative == 'less':\n",
        "        p_value = norm.cdf(z_statistic)\n",
        "    else:\n",
        "        raise ValueError(\"alternative must be 'two-sided', 'greater', or 'less'\")\n",
        "\n",
        "    # Output\n",
        "    print(f\"Sample Mean: {sample_mean:.2f}\")\n",
        "    print(f\"Z-statistic: {z_statistic:.4f}\")\n",
        "    print(f\"P-value: {p_value:.4f}\")\n",
        "\n",
        "    if p_value < alpha:\n",
        "        print(f\"Result: Reject the null hypothesis (α = {alpha})\")\n",
        "    else:\n",
        "        print(f\"Result: Fail to reject the null hypothesis (α = {alpha})\")\n",
        "\n",
        "    return z_statistic, p_value\n",
        "\n",
        "\n",
        "# -----------------------\n",
        "# 🧪 Example Usage\n",
        "# -----------------------\n",
        "\n",
        "np.random.seed(123)\n",
        "population_mean = 100\n",
        "population_std = 10\n",
        "sample = np.random.normal(loc=98, scale=10, size=40)  # simulate sample data\n",
        "\n",
        "# Perform one-sample Z-test\n",
        "one_sample_z_test(sample, population_mean=100, population_std=population_std, alpha=0.05, alternative='two-sided')\n"
      ],
      "metadata": {
        "id": "ooiBETYlnhff"
      },
      "execution_count": null,
      "outputs": []
    },
    {
      "cell_type": "code",
      "source": [
        "# Perform a two-tailed Z-test using Python and visualize the decision region on a plot.\n",
        "\n",
        "import numpy as np\n",
        "import matplotlib.pyplot as plt\n",
        "from scipy.stats import norm\n",
        "import math\n",
        "\n",
        "def two_tailed_z_test_with_plot(sample_data, population_mean, population_std, alpha=0.05):\n",
        "    # Sample statistics\n",
        "    sample_size = len(sample_data)\n",
        "    sample_mean = np.mean(sample_data)\n",
        "    standard_error = population_std / math.sqrt(sample_size)\n",
        "    z_statistic = (sample_mean - population_mean) / standard_error\n",
        "\n",
        "    # Critical values for two-tailed test\n",
        "    z_critical = norm.ppf(1 - alpha / 2)\n",
        "\n",
        "    # P-value\n",
        "    p_value = 2 * (1 - norm.cdf(abs(z_statistic)))\n",
        "\n",
        "    # Print results\n",
        "    print(f\"Sample Mean: {sample_mean:.2f}\")\n",
        "    print(f\"Z-statistic: {z_statistic:.4f}\")\n",
        "    print(f\"Critical Z-value: ±{z_critical:.4f}\")\n",
        "    print(f\"P-value: {p_value:.4f}\")\n",
        "    if abs(z_statistic) > z_critical:\n",
        "        print(\"Result: Reject the null hypothesis.\")\n",
        "    else:\n",
        "        print(\"Result: Fail to reject the null hypothesis.\")\n",
        "\n",
        "    # --- Visualization ---\n",
        "    x = np.linspace(-4, 4, 1000)\n",
        "    y = norm.pdf(x, 0, 1)\n",
        "\n",
        "    plt.figure(figsize=(10, 5))\n",
        "    plt.plot(x, y, label='Standard Normal Distribution')\n",
        "\n",
        "    # Shading critical regions\n",
        "    plt.fill_between(x, y, where=(x <= -z_critical), color='red', alpha=0.3, label='Rejection Region')\n",
        "    plt.fill_between(x, y, where=(x >= z_critical), color='red', alpha=0.3)\n",
        "\n",
        "    # Z-statistic line\n",
        "    plt.axvline(z_statistic, color='blue', linestyle='--', label=f'Z-statistic = {z_statistic:.2f}')\n",
        "    plt.axvline(-z_critical, color='black', linestyle=':', label=f'Critical Z = ±{z_critical:.2f}')\n",
        "    plt.axvline(z_critical, color='black', linestyle=':')\n",
        "\n",
        "    plt.title(\"Two-Tailed Z-Test: Rejection Regions\")\n",
        "    plt.xlabel(\"Z-value\")\n",
        "    plt.ylabel(\"Probability Density\")\n",
        "    plt.legend()\n",
        "    plt.grid(True)\n",
        "    plt.show()\n",
        "\n",
        "# -----------------------\n",
        "# 🧪 Example Usage\n",
        "# -----------------------\n",
        "\n",
        "np.random.seed(0)\n",
        "population_mean = 100\n",
        "population_std = 15\n",
        "sample = np.random.normal(loc=104, scale=15, size=50)\n",
        "\n",
        "two_tailed_z_test_with_plot(sample, population_mean, population_std, alpha=0.05)\n"
      ],
      "metadata": {
        "id": "cyPtJ-wint_L"
      },
      "execution_count": null,
      "outputs": []
    },
    {
      "cell_type": "code",
      "source": [
        "# Create a Python function that calculates and visualizes Type 1 and Type 2 errors during hypothesis testing.\n",
        "\n",
        "import numpy as np\n",
        "import matplotlib.pyplot as plt\n",
        "from scipy.stats import norm\n",
        "import math\n",
        "\n",
        "def visualize_type1_type2_errors(mu0, mu1, sigma, n, alpha=0.05, alternative='greater'):\n",
        "    \"\"\"\n",
        "    Visualizes Type I and Type II errors for a one-sided hypothesis test.\n",
        "\n",
        "    Parameters:\n",
        "    - mu0: mean under the null hypothesis\n",
        "    - mu1: mean under the alternative hypothesis\n",
        "    - sigma: population standard deviation\n",
        "    - n: sample size\n",
        "    - alpha: significance level\n",
        "    - alternative: 'greater' or 'less' (direction of the test)\n",
        "    \"\"\"\n",
        "    se = sigma / math.sqrt(n)\n",
        "\n",
        "    # Calculate critical value (z_alpha)\n",
        "    if alternative == 'greater':\n",
        "        z_critical = norm.ppf(1 - alpha)\n",
        "        x_crit = mu0 + z_critical * se\n",
        "        beta = norm.cdf((x_crit - mu1) / se)\n",
        "    elif alternative == 'less':\n",
        "        z_critical = norm.ppf(alpha)\n",
        "        x_crit = mu0 + z_critical * se\n",
        "        beta = 1 - norm.cdf((x_crit - mu1) / se)\n",
        "    else:\n",
        "        raise ValueError(\"Alternative must be 'greater' or 'less'\")\n",
        "\n",
        "    # Plot ranges\n",
        "    x = np.linspace(mu0 - 4*se, mu1 + 4*se, 1000)\n",
        "    y0 = norm.pdf(x, mu0, se)\n",
        "    y1 = norm.pdf(x, mu1, se)\n",
        "\n",
        "    # Plot distributions\n",
        "    plt.figure(figsize=(10, 6))\n",
        "    plt.plot(x, y0, label='H₀ Distribution (μ = {:.1f})'.format(mu0), color='blue')\n",
        "    plt.plot(x, y1, label='H₁ Distribution (μ = {:.1f})'.format(mu1), color='green')\n",
        "\n",
        "    # Shade Type I error (α)\n",
        "    if alternative == 'greater':\n",
        "        plt.fill_between(x, y0, where=(x >= x_crit), color='red', alpha=0.3, label='Type I Error (α)')\n",
        "    else:\n",
        "        plt.fill_between(x, y0, where=(x <= x_crit), color='red', alpha=0.3, label='Type I Error (α)')\n",
        "\n",
        "    # Shade Type II error (β)\n",
        "    if alternative == 'greater':\n",
        "        plt.fill_between(x, y1, where=(x < x_crit), color='orange', alpha=0.3, label='Type II Error (β)')\n",
        "    else:\n",
        "        plt.fill_between(x, y1, where=(x > x_crit), color='orange', alpha=0.3, label='Type II Error (β)')\n",
        "\n",
        "    # Labels and legends\n",
        "    plt.axvline(x_crit, color='black', linestyle='--', label=f'Critical Value = {x_crit:.2f}')\n",
        "    plt.title(\"Type I and Type II Errors in Hypothesis Testing\")\n",
        "    plt.xlabel(\"Sample Mean\")\n",
        "    plt.ylabel(\"Probability Density\")\n",
        "    plt.legend()\n",
        "    plt.grid(True)\n",
        "    plt.show()\n",
        "\n",
        "    # Print results\n",
        "    print(f\"Critical value (sample mean cutoff): {x_crit:.2f}\")\n",
        "    print(f\"Type I Error (α): {alpha:.2f}\")\n",
        "    print(f\"Type II Error (β): {beta:.4f}\")\n",
        "    print(f\"Power of the test (1 - β): {1 - beta:.4f}\")\n"
      ],
      "metadata": {
        "id": "-TIH2gpAn_Fr"
      },
      "execution_count": null,
      "outputs": []
    },
    {
      "cell_type": "code",
      "source": [
        "#  Write a Python program to perform an independent T-test and interpret the results\n",
        "\n",
        "import numpy as np\n",
        "from scipy.stats import ttest_ind\n",
        "\n",
        "def independent_t_test(sample1, sample2, equal_var=True, alpha=0.05):\n",
        "    \"\"\"\n",
        "    Performs an independent T-test between two samples.\n",
        "\n",
        "    Parameters:\n",
        "    - sample1: list or array of sample 1 values\n",
        "    - sample2: list or array of sample 2 values\n",
        "    - equal_var: whether to assume equal population variances\n",
        "    - alpha: significance level (default = 0.05)\n",
        "    \"\"\"\n",
        "\n",
        "    # Run t-test\n",
        "    t_stat, p_value = ttest_ind(sample1, sample2, equal_var=equal_var)\n",
        "\n",
        "    # Print results\n",
        "    print(f\"Sample 1 Mean: {np.mean(sample1):.2f}, Sample 2 Mean: {np.mean(sample2):.2f}\")\n",
        "    print(f\"T-statistic: {t_stat:.4f}\")\n",
        "    print(f\"P-value: {p_value:.4f}\")\n",
        "\n",
        "    # Interpretation\n",
        "    if p_value < alpha:\n",
        "        print(f\"Result: Reject the null hypothesis (α = {alpha}) — the means are significantly different.\")\n",
        "    else:\n",
        "        print(f\"Result: Fail to reject the null hypothesis (α = {alpha}) — no significant difference in means.\")\n",
        "\n",
        "# -----------------------\n",
        "# 🧪 Example Usage\n",
        "# -----------------------\n",
        "\n",
        "np.random.seed(1)\n",
        "group1 = np.random.normal(loc=100, scale=10, size=30)  # Sample 1: mean = 100\n",
        "group2 = np.random.normal(loc=105, scale=10, size=30)  # Sample 2: mean = 105\n",
        "\n",
        "independent_t_test(group1, group2, equal_var=True, alpha=0.05)\n"
      ],
      "metadata": {
        "id": "LQTCSr5coMdl"
      },
      "execution_count": null,
      "outputs": []
    },
    {
      "cell_type": "code",
      "source": [
        "# Perform a paired sample T-test using Python and visualize the comparison results.\n",
        "\n",
        "import numpy as np\n",
        "import matplotlib.pyplot as plt\n",
        "from scipy.stats import ttest_rel\n",
        "\n",
        "def paired_t_test_with_plot(before, after, alpha=0.05):\n",
        "    \"\"\"\n",
        "    Performs a paired t-test and visualizes the result.\n",
        "\n",
        "    Parameters:\n",
        "    - before: array-like of measurements before treatment\n",
        "    - after: array-like of measurements after treatment\n",
        "    - alpha: significance level (default = 0.05)\n",
        "    \"\"\"\n",
        "\n",
        "    # Paired t-test\n",
        "    t_stat, p_value = ttest_rel(before, after)\n",
        "\n",
        "    # Print statistics\n",
        "    mean_diff = np.mean(after - before)\n",
        "    print(f\"Mean Before: {np.mean(before):.2f}\")\n",
        "    print(f\"Mean After: {np.mean(after):.2f}\")\n",
        "    print(f\"Mean Difference: {mean_diff:.2f}\")\n",
        "    print(f\"T-statistic: {t_stat:.4f}\")\n",
        "    print(f\"P-value: {p_value:.4f}\")\n",
        "\n",
        "    if p_value < alpha:\n",
        "        print(f\"Result: Reject the null hypothesis (α = {alpha}) — significant difference.\")\n",
        "    else:\n",
        "        print(f\"Result: Fail to reject the null hypothesis (α = {alpha}) — no significant difference.\")\n",
        "\n",
        "    # --- Visualization ---\n",
        "\n",
        "    subjects = np.arange(1, len(before) + 1)\n",
        "\n",
        "    # Line plot: individual differences\n",
        "    plt.figure(figsize=(12, 5))\n",
        "\n",
        "    plt.subplot(1, 2, 1)\n",
        "    for i in range(len(before)):\n",
        "        plt.plot([1, 2], [before[i], after[i]], marker='o', color='gray')\n",
        "    plt.xticks([1, 2], ['Before', 'After'])\n",
        "    plt.ylabel('Measurement')\n",
        "    plt.title('Before vs After (Paired Data)')\n",
        "    plt.grid(True)\n",
        "\n",
        "    # Box plot\n",
        "    plt.subplot(1, 2, 2)\n",
        "    plt.boxplot([before, after], labels=['Before', 'After'])\n",
        "    plt.ylabel('Measurement')\n",
        "    plt.title('Box Plot Comparison')\n",
        "\n",
        "    plt.tight_layout()\n",
        "    plt.show()\n",
        "\n",
        "# -----------------------\n",
        "# 🧪 Example Usage\n",
        "# -----------------------\n",
        "\n",
        "np.random.seed(0)\n",
        "before = np.random.normal(loc=100, scale=10, size=30)\n",
        "after = before + np.random.normal(loc=-2, scale=5, size=30)  # slight improvement\n",
        "\n",
        "paired_t_test_with_plot(before, after, alpha=0.05)\n"
      ],
      "metadata": {
        "id": "1b1t24jgpKA9"
      },
      "execution_count": null,
      "outputs": []
    },
    {
      "cell_type": "code",
      "source": [
        "# Simulate data and perform both Z-test and T-test, then compare the results using Python.\n",
        "\n",
        "import numpy as np\n",
        "import scipy.stats as stats\n",
        "\n",
        "# 1. Simulate data\n",
        "np.random.seed(42)\n",
        "sample1 = np.random.normal(loc=50, scale=10, size=100)  # Mean=50, SD=10, n=100\n",
        "sample2 = np.random.normal(loc=53, scale=10, size=100)  # Mean=53, SD=10, n=100\n",
        "\n",
        "# 2. Perform Z-test (assuming known population standard deviation)\n",
        "known_std = 10  # Assume known standard deviation\n",
        "z_stat = (np.mean(sample1) - np.mean(sample2)) / (known_std * np.sqrt(2 / 100))\n",
        "p_value_z = 2 * stats.norm.sf(np.abs(z_stat))  # Two-tailed\n",
        "\n",
        "# 3. Perform T-test (sample standard deviation)\n",
        "t_stat, p_value_t = stats.ttest_ind(sample1, sample2)\n",
        "\n",
        "# 4. Print results\n",
        "print(\"Sample 1 Mean:\", np.mean(sample1))\n",
        "print(\"Sample 2 Mean:\", np.mean(sample2))\n",
        "print(\"\\nZ-test Results:\")\n",
        "print(\"Z-statistic:\", z_stat)\n",
        "print(\"p-value:\", p_value_z)\n",
        "print(\"\\nT-test Results:\")\n",
        "print(\"T-statistic:\", t_stat)\n",
        "print(\"p-value:\", p_value_t)\n",
        "\n",
        "# 5. Interpretation\n",
        "alpha = 0.05\n",
        "print(\"\\nConclusion:\")\n",
        "if p_value_t < alpha:\n",
        "    print(\"T-test: Significant difference between the two sample means (reject H0)\")\n",
        "else:\n",
        "    print(\"T-test: No significant difference between the two sample means (fail to reject H0)\")\n",
        "\n",
        "if p_value_z < alpha:\n",
        "    print(\"Z-test: Significant difference between the two sample means (reject H0)\")\n",
        "else:\n",
        "    print(\"Z-test: No significant difference between the two sample means (fail to reject H0)\")\n"
      ],
      "metadata": {
        "id": "6YE-RdHwIuFV",
        "colab": {
          "base_uri": "https://localhost:8080/"
        },
        "outputId": "949a9dca-ef3a-4895-f35a-ed0563d45af4"
      },
      "execution_count": null,
      "outputs": [
        {
          "output_type": "stream",
          "name": "stdout",
          "text": [
            "Sample 1 Mean: 48.96153482605907\n",
            "Sample 2 Mean: 53.223045870499234\n",
            "\n",
            "Z-test Results:\n",
            "Z-statistic: -3.0133433576250055\n",
            "p-value: 0.002583863927481761\n",
            "\n",
            "T-test Results:\n",
            "T-statistic: -3.2359903436078983\n",
            "p-value: 0.0014208821931449166\n",
            "\n",
            "Conclusion:\n",
            "T-test: Significant difference between the two sample means (reject H0)\n",
            "Z-test: Significant difference between the two sample means (reject H0)\n"
          ]
        }
      ]
    },
    {
      "cell_type": "code",
      "source": [
        "# Write a Python function to calculate the confidence interval for a sample mean and explain its significance.\n",
        "\n",
        "import numpy as np\n",
        "import scipy.stats as stats\n",
        "\n",
        "def confidence_interval(data, confidence=0.95):\n",
        "\n",
        "    data = np.array(data)\n",
        "    n = len(data)\n",
        "    mean = np.mean(data)\n",
        "    sem = stats.sem(data)  # Standard error of the mean\n",
        "    margin = sem * stats.t.ppf((1 + confidence) / 2., n - 1)\n",
        "    return mean - margin, mean + margin\n",
        "\n",
        "# Example usage:\n",
        "np.random.seed(42)\n",
        "sample = np.random.normal(loc=50, scale=10, size=100)\n",
        "ci = confidence_interval(sample)\n",
        "print(f\"95% Confidence Interval: {ci}\")\n"
      ],
      "metadata": {
        "id": "zMkr-SqZGQJg"
      },
      "execution_count": null,
      "outputs": []
    },
    {
      "cell_type": "code",
      "source": [
        "# Write a Python program to calculate the margin of error for a given confidence level using sample data.\n",
        "\n",
        "\n",
        "def margin_of_error(data, confidence=0.95):\n",
        "    data = np.array(data)\n",
        "    n = len(data)\n",
        "    sem = stats.sem(data)  # Standard Error of the Mean\n",
        "    t_critical = stats.t.ppf((1 + confidence) / 2., n - 1)\n",
        "    moe = sem * t_critical\n",
        "    return moe\n",
        "\n",
        "# Example usage\n",
        "if __name__ == \"__main__\":\n",
        "    np.random.seed(42)\n",
        "    sample = np.random.normal(loc=50, scale=10, size=100)\n",
        "\n",
        "    confidence_level = 0.95\n",
        "    moe = margin_of_error(sample, confidence=confidence_level)\n",
        "\n",
        "    print(f\"Sample size: {len(sample)}\")\n",
        "    print(f\"Sample mean: {np.mean(sample):.2f}\")\n",
        "    print(f\"{int(confidence_level*100)}% Margin of Error: ±{moe:.2f}\")\n"
      ],
      "metadata": {
        "colab": {
          "base_uri": "https://localhost:8080/"
        },
        "id": "YYY4Or8wJEhh",
        "outputId": "697eea88-2b50-4d80-f0f8-21ad69f5b640"
      },
      "execution_count": null,
      "outputs": [
        {
          "output_type": "stream",
          "name": "stdout",
          "text": [
            "Sample size: 100\n",
            "Sample mean: 48.96\n",
            "95% Margin of Error: ±1.80\n"
          ]
        }
      ]
    },
    {
      "cell_type": "code",
      "source": [
        "# Implement a Bayesian inference method using Bayes' Theorem in Python and explain the process.\n",
        "\n",
        "def bayes_theorem(prior_h, likelihood, prior_not_h, likelihood_not_h):\n",
        "    numerator = likelihood * prior_h\n",
        "    denominator = numerator + (likelihood_not_h * prior_not_h)\n",
        "    posterior = numerator / denominator\n",
        "    return posterior\n",
        "\n",
        "prior_disease = 0.01\n",
        "prior_no_disease = 0.99\n",
        "sensitivity = 0.99\n",
        "false_positive_rate = 0.05\n",
        "\n",
        "posterior = bayes_theorem(prior_disease, sensitivity, prior_no_disease, false_positive_rate)\n",
        "\n",
        "print(f\"Probability of having the disease given a positive test result: {posterior:.4f} ({posterior*100:.2f}%)\")\n"
      ],
      "metadata": {
        "colab": {
          "base_uri": "https://localhost:8080/"
        },
        "id": "BOzaBQrLJREJ",
        "outputId": "5e406f76-a7a4-452f-f141-f3a6835bc053"
      },
      "execution_count": null,
      "outputs": [
        {
          "output_type": "stream",
          "name": "stdout",
          "text": [
            "Probability of having the disease given a positive test result: 0.1667 (16.67%)\n"
          ]
        }
      ]
    },
    {
      "cell_type": "code",
      "source": [
        "# Perform a Chi-square test for independence between two categorical variables in Python.\n",
        "\n",
        "import pandas as pd\n",
        "from scipy.stats import chi2_contingency\n",
        "\n",
        "# Step 1: Create a contingency table\n",
        "# Rows = Gender, Columns = Drink Preference\n",
        "data = {\n",
        "    'Tea':    [30, 20],   # [Male, Female]\n",
        "    'Coffee': [20, 25],\n",
        "    'Water':  [10, 15]\n",
        "}\n",
        "table = pd.DataFrame(data, index=['Male', 'Female'])\n",
        "\n",
        "# Step 2: Perform Chi-square test\n",
        "chi2, p, dof, expected = chi2_contingency(table)\n",
        "\n",
        "# Step 3: Display the results\n",
        "print(\"Contingency Table (Observed):\\n\", table)\n",
        "print(\"\\nExpected Frequencies:\\n\", pd.DataFrame(expected, index=table.index, columns=table.columns))\n",
        "print(f\"\\nChi-square Statistic: {chi2:.4f}\")\n",
        "print(f\"Degrees of Freedom: {dof}\")\n",
        "print(f\"P-value: {p:.4f}\")\n",
        "\n",
        "# Step 4: Interpret the result\n",
        "alpha = 0.05\n",
        "if p < alpha:\n",
        "    print(\"\\nConclusion: There is a significant association between gender and drink preference (reject H0).\")\n",
        "else:\n",
        "    print(\"\\nConclusion: No significant association between gender and drink preference (fail to reject H0).\")\n"
      ],
      "metadata": {
        "id": "AYZ-9potJR12"
      },
      "execution_count": null,
      "outputs": []
    },
    {
      "cell_type": "code",
      "source": [
        "#  Write a Python program to calculate the expected frequencies for a Chi-square test based on observed data\n",
        "\n",
        "import pandas as pd\n",
        "from scipy.stats import chi2_contingency\n",
        "\n",
        "def calculate_expected_frequencies(observed):\n",
        "    chi2, p, dof, expected = chi2_contingency(observed)\n",
        "    expected_df = pd.DataFrame(expected, index=observed.index, columns=observed.columns)\n",
        "    return expected_df\n",
        "\n",
        "data = {\n",
        "    'Tea':    [30, 20],\n",
        "    'Coffee': [20, 25],\n",
        "    'Water':  [10, 15]\n",
        "}\n",
        "observed_df = pd.DataFrame(data, index=['Male', 'Female'])\n",
        "\n",
        "# Calculate expected frequencies\n",
        "expected_df = calculate_expected_frequencies(observed_df)\n",
        "\n",
        "# Display results\n",
        "print(\"Observed Frequencies:\\n\", observed_df)\n",
        "print(\"\\nExpected Frequencies:\\n\", expected_df)\n"
      ],
      "metadata": {
        "colab": {
          "base_uri": "https://localhost:8080/"
        },
        "id": "qEZ-v8-iNGse",
        "outputId": "88a6adbe-3c8b-48e6-8ad6-934df4b0f0ac"
      },
      "execution_count": null,
      "outputs": [
        {
          "output_type": "stream",
          "name": "stdout",
          "text": [
            "Observed Frequencies:\n",
            "         Tea  Coffee  Water\n",
            "Male     30      20     10\n",
            "Female   20      25     15\n",
            "\n",
            "Expected Frequencies:\n",
            "          Tea  Coffee  Water\n",
            "Male    25.0    22.5   12.5\n",
            "Female  25.0    22.5   12.5\n"
          ]
        }
      ]
    },
    {
      "cell_type": "code",
      "source": [
        "#  Perform a goodness-of-fit test using Python to compare the observed data to an expected distribution.\n",
        "\n",
        "from scipy.stats import chisquare\n",
        "\n",
        "# Observed frequencies from a die roll\n",
        "observed = [10, 8, 12, 11, 9, 10]\n",
        "\n",
        "# Expected frequencies (assuming fair die)\n",
        "expected = [10, 10, 10, 10, 10, 10]\n",
        "\n",
        "# Perform Chi-square goodness-of-fit test\n",
        "chi2_stat, p_value = chisquare(f_obs=observed, f_exp=expected)\n",
        "\n",
        "# Print the results\n",
        "print(\"Observed Frequencies:\", observed)\n",
        "print(\"Expected Frequencies:\", expected)\n",
        "print(f\"\\nChi-square Statistic: {chi2_stat:.4f}\")\n",
        "print(f\"P-value: {p_value:.4f}\")\n",
        "\n",
        "# Interpretation\n",
        "alpha = 0.05\n",
        "if p_value < alpha:\n",
        "    print(\"\\nConclusion: The observed data does NOT fit the expected distribution (reject H0).\")\n",
        "else:\n",
        "    print(\"\\nConclusion: The observed data fits the expected distribution (fail to reject H0).\")\n"
      ],
      "metadata": {
        "id": "sYWok-06NZHv"
      },
      "execution_count": null,
      "outputs": []
    }
  ]
}