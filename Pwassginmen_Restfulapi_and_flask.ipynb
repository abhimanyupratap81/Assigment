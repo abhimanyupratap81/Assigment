{
  "nbformat": 4,
  "nbformat_minor": 0,
  "metadata": {
    "colab": {
      "provenance": []
    },
    "kernelspec": {
      "name": "python3",
      "display_name": "Python 3"
    },
    "language_info": {
      "name": "python"
    }
  },
  "cells": [
    {
      "cell_type": "markdown",
      "source": [
        "# What is a RESTful API?\n",
        "\n",
        "--> A RESTful API is an application programming interface that follows the principles of REST (Representational State Transfer)—a set of architectural constraints for building web services."
      ],
      "metadata": {
        "id": "TPIv2MPVjbuc"
      }
    },
    {
      "cell_type": "markdown",
      "source": [
        "# Explain the concept of API specification.\n",
        "\n",
        "--> An API specification is a detailed, formal description of how an API behaves and how clients can interact with it. Think of it as the blueprint or contract between the backend (which provides the API) and the frontend or external services (which consume it).\n",
        "\n",
        "What Does an API Specification Include?\n",
        "\n",
        "Endpoints:\n",
        "\n",
        "The URLs of the API.\n",
        "\n",
        "HTTP Methods:\n",
        "\n",
        "What actions can be performed on each endpoint (GET, POST, PUT, DELETE, etc.).\n",
        "\n",
        "Request Parameters:\n",
        "\n",
        "Path parameters: /users/{id}\n",
        "\n",
        "Query parameters: /users?page=2\n",
        "\n",
        "Headers: Authorization: Bearer token\n",
        "\n",
        "Request body schema (especially for POST and PUT)."
      ],
      "metadata": {
        "id": "xV1__VNy_kim"
      }
    },
    {
      "cell_type": "markdown",
      "source": [
        "# What is Flask, and why is it popular for building APIs?\n",
        "\n",
        "--> Flask is a lightweight web framework for Python that is especially popular for building APIs and small-to-medium web applications.\n",
        "\n",
        "What Is Flask:\n",
        "\n",
        "Flask is a microframework—meaning it provides the essentials (routing, request handling, etc.) but leaves out extras like database abstraction or form validation.\n",
        "\n",
        "It’s minimal, modular, and extensible, allowing developers to add only what they need using extensions or custom code."
      ],
      "metadata": {
        "id": "Y7vG0vJB_5jx"
      }
    },
    {
      "cell_type": "markdown",
      "source": [
        "# What is routing in Flask?\n",
        "\n",
        "--> Routing in Flask refers to the process of mapping URLs (web addresses) to functions in your application. These functions (called view functions) define what happens when a user or client accesses a specific URL.\n",
        "\n"
      ],
      "metadata": {
        "id": "Hc3zaofPAKWM"
      }
    },
    {
      "cell_type": "markdown",
      "source": [
        "# How do you create a simple Flask application?\n",
        "\n",
        "--> Step 1: Install Flask:\n",
        "Make sure you have Python installed, then run.\n",
        "\n",
        "Step 2: Create a Project File:\n",
        "Create a Python file, for example: app.py\n",
        "\n",
        "Step 3: Write Your Flask App.\n",
        "\n",
        " Step 4: Run the Flask App\n"
      ],
      "metadata": {
        "id": "veXOlplsAqIS"
      }
    },
    {
      "cell_type": "markdown",
      "source": [
        "# What are HTTP methods used in RESTful APIs?\n",
        "\n",
        "--> In RESTful APIs, HTTP methods (also known as verbs) define the type of operation the client wants to perform on a resource (like a user, product, or post). These methods correspond to CRUD operations—Create, Read, Update, Delete."
      ],
      "metadata": {
        "id": "OlNx8FDODm5T"
      }
    },
    {
      "cell_type": "markdown",
      "source": [
        "# What is the purpose of the @app.route() decorator in Flask?\n",
        "\n",
        "--> The @app.route() decorator in Flask is used to define the URL route (i.e., the web address) that is associated with a specific view function. It tells Flask: When a user visits this URL, run this function and return its result as the response."
      ],
      "metadata": {
        "id": "SDZ_RrxOD5CV"
      }
    },
    {
      "cell_type": "markdown",
      "source": [
        "# What is the difference between GET and POST HTTP methods?\n",
        "\n",
        "--> The GET and POST HTTP methods are commonly used in web applications to handle client-server communication. The GET method is used to retrieve data from the server and sends parameters through the URL, making it suitable for read-only operations like searching or displaying data. Because GET requests are visible in the browser’s address bar and can be cached, they are generally faster but less secure for transmitting sensitive information. In contrast, the POST method is used to send data to the server, typically for creating or submitting new information, such as form inputs or user registrations. It sends data in the request body, keeping it hidden from the URL and more secure for transmitting private or large amounts of data. Unlike GET, POST requests are not idempotent, meaning repeated requests can lead to duplicated actions or records.\n",
        "\n",
        "\n",
        "\n",
        "\n",
        "\n",
        "\n",
        "\n",
        "\n"
      ],
      "metadata": {
        "id": "5PZcvRWPEen3"
      }
    },
    {
      "cell_type": "markdown",
      "source": [
        "# How do you handle errors in Flask APIs?\n",
        "\n",
        "--> Using @app.errorhandler() Decorator:\n",
        "\n",
        "Define custom error responses for specific HTTP error codes (e.g., 404, 500).\n",
        "\n",
        "Customize the message and HTTP status code returned to the client.\n",
        "\n",
        "Using abort() to Trigger Errors:\n",
        "\n",
        "Manually trigger HTTP errors like 404 or 403 when certain conditions are met.\n",
        "\n",
        "Allows you to control when and how an error should occur during route execution.\n",
        "\n",
        "Handling Exceptions with try-except:\n",
        "\n",
        "Wrap potentially error-prone code in try-except blocks to catch exceptions.\n",
        "\n",
        "Return a custom error message and appropriate status code when an exception occurs.\n",
        "\n",
        "Custom Exception Classes (Advanced):\n",
        "\n",
        "Define your own custom exceptions to handle complex or app-specific error scenarios.\n",
        "\n",
        "Use custom error handlers to manage these exceptions and return specific error messages and status codes."
      ],
      "metadata": {
        "id": "qywmgGmKEyTY"
      }
    },
    {
      "cell_type": "markdown",
      "source": [
        "# How do you connect Flask to a SQL database?\n",
        "\n",
        "--> To connect Flask to a SQL database, you typically use an Object-Relational Mapping (ORM) library like SQLAlchemy or use Flask-SQLAlchemy which integrates SQLAlchemy seamlessly into Flask. Below are the general steps to connect Flask to a SQL database:\n",
        "\n",
        "Step 1: Install Required Packages\n",
        "You need to install Flask-SQLAlchemy to work with SQLAlchemy in Flask:\n",
        "\n",
        "Step 2: Configure the Database URI\n",
        "In your app.py, configure the database connection URI. This specifies the database you are connecting to, along with credentials.\n",
        "\n",
        "Step 3: Define Your Database Models\n",
        "Create classes to define your tables in the database. Each class represents a table, and each instance represents a row.\n",
        "\n",
        "Step 4: Create the Database\n",
        "To create the database and tables defined in your models, you can run the following in the Python shell:\n",
        "\n",
        "from app import db\n",
        "\n",
        "db.create_all()\n",
        "\n",
        " Step 5: Interacting with the Database\n"
      ],
      "metadata": {
        "id": "BY9Qn1RvF49s"
      }
    },
    {
      "cell_type": "markdown",
      "source": [
        "# What is the role of Flask-SQLAlchemy?\n",
        "\n",
        "--> Flask-SQLAlchemy is an extension for Flask that simplifies the integration of SQLAlchemy (an Object-Relational Mapping (ORM) library) with Flask applications. It provides a higher-level abstraction for working with SQL databases, making it easier to interact with the database and perform common operations like querying, inserting, updating, and deleting records.\n",
        "\n",
        "🔑 Role of Flask-SQLAlchemy\n",
        "Integration of SQLAlchemy with Flask:\n",
        "\n",
        "Flask-SQLAlchemy provides the necessary setup to use SQLAlchemy seamlessly in a Flask application. It sets up the database connection and integrates it with Flask’s application context.\n",
        "\n",
        "Database Models as Python Classes:\n",
        "\n",
        "Flask-SQLAlchemy allows you to define database tables as Python classes. These classes are then mapped to corresponding tables in the database.\n",
        "\n",
        "For example, defining a User class in your Flask app will correspond to a users table in the database.\n",
        "\n",
        "Simplified Querying and Transactions:\n",
        "\n",
        "It provides easy-to-use methods to query the database and manipulate data. You can perform queries using a Pythonic approach instead of writing raw SQL.\n",
        "\n",
        "You can also manage database sessions, transactions, and commits with simple commands like db.session.add(), db.session.commit(), etc.\n",
        "\n",
        "Automatic Session Management:\n",
        "\n",
        "Flask-SQLAlchemy integrates SQLAlchemy's session management into Flask’s request cycle. This ensures that database sessions are automatically committed at the end of a request and closed after the request is complete.\n",
        "\n",
        "Querying with ORM:\n",
        "\n",
        "Flask-SQLAlchemy provides powerful ORM querying tools that let you perform complex database queries using Python code instead of raw SQL.\n",
        "\n",
        "Cross-database Support:\n",
        "\n",
        "Flask-SQLAlchemy supports multiple databases like SQLite, PostgreSQL, MySQL, and others, making it versatile for different applications.\n",
        "\n",
        "Preventing SQL Injection:\n",
        "\n",
        "By using SQLAlchemy’s ORM features, Flask-SQLAlchemy helps prevent SQL injection attacks by safely handling queries and avoiding direct SQL string manipulation."
      ],
      "metadata": {
        "id": "Vrgc7KH5GxlW"
      }
    },
    {
      "cell_type": "markdown",
      "source": [
        "# What are Flask blueprints, and how are they useful?\n",
        "\n",
        "--> Flask Blueprints are a way to organize and structure your Flask application, especially when your application becomes large and complex. Blueprints allow you to split your application into modular components that can have their own routes, views, templates, static files, and other logic, all while still being part of the main Flask app. This modular approach makes your code more maintainable, reusable, and easier to scale.\n",
        "\n",
        "🔑 Role and Benefits of Flask Blueprints\n",
        "Modularize Your Application:\n",
        "\n",
        "Blueprints allow you to break your application into logical components or sections, such as authentication, admin panel, or user profiles. This helps you organize code based on functionality rather than having a monolithic structure.\n",
        "\n",
        "Reuse Across Multiple Applications:\n",
        "\n",
        "Blueprints can be reused in other Flask applications. For instance, if you have a \"blog\" module in one application, you can package it into a blueprint and reuse it in other projects without much modification.\n",
        "\n",
        "Maintainability:\n",
        "\n",
        "As your app grows, managing a single large file becomes unwieldy. Blueprints help to split the app into smaller, more manageable parts, each responsible for a specific feature or functionality.\n",
        "\n",
        "Cleaner and More Structured Code:\n",
        "\n",
        "By using blueprints, you can keep your app well-structured by grouping related routes and views into separate files. For example, all routes related to user management can be part of the auth blueprint, while admin-specific routes can belong to the admin blueprint.\n",
        "\n",
        "Separation of Concerns:\n",
        "\n",
        "Blueprints encourage a clean separation of concerns by grouping related code together. You can define routes, views, and logic that relate to specific features in one place, making it easier to maintain and debug.\n",
        "\n"
      ],
      "metadata": {
        "id": "6xbta4tbG_o6"
      }
    },
    {
      "cell_type": "markdown",
      "source": [
        "# What is the purpose of Flask's request object?\n",
        "\n",
        "--> The purpose of Flask's request object is to provide access to all the data sent by a client in an HTTP request. This includes form data submitted through HTML forms, query parameters appended to the URL, JSON data sent in the body of an API request, and file uploads. It also allows access to request headers, cookies, and information about the HTTP method used (such as GET or POST). Additionally, the request object provides details about the URL, path, and other metadata related to the request. Essentially, it serves as the interface between the client’s request and the server-side logic in a Flask application, enabling developers to retrieve and use incoming data effectively.\n",
        "\n",
        "\n",
        "\n",
        "\n",
        "\n",
        "\n",
        "\n"
      ],
      "metadata": {
        "id": "mIegliJYh7g4"
      }
    },
    {
      "cell_type": "markdown",
      "source": [
        "# How do you create a RESTful API endpoint using Flask?\n",
        "\n",
        "--> To create a RESTful API endpoint using Flask, you define a route that corresponds to a specific URL and associate it with a function that handles the request. You also specify the allowed HTTP methods such as GET, POST, PUT, or DELETE, depending on the operation you want the endpoint to perform. Within the function, you typically use Flask's request object to access incoming data and return a response using Flask's jsonify function or by returning a dictionary, which Flask automatically converts to JSON. The endpoint follows REST principles by using clear, resource-based URLs and standard HTTP methods to perform actions like retrieving, creating, updating, or deleting data. This approach allows you to build a clean, consistent, and scalable API.\n",
        "\n",
        "\n",
        "\n",
        "\n",
        "\n",
        "\n",
        "\n",
        "\n"
      ],
      "metadata": {
        "id": "alN6A12_jNHD"
      }
    },
    {
      "cell_type": "markdown",
      "source": [
        "# What is the purpose of Flask's jsonify() function?\n",
        "\n",
        "--> The purpose of Flask's jsonify() function is to convert Python data structures—such as dictionaries and lists—into a JSON-formatted HTTP response. This is especially useful in building RESTful APIs, where JSON is the standard format for data exchange between the client and server. jsonify() not only handles the conversion to JSON but also sets the correct Content-Type header (application/json) in the response, ensuring that clients recognize and properly handle the returned data. It also allows you to include HTTP status codes if needed. In short, jsonify() simplifies the process of sending well-formed JSON responses from a Flask application.\n",
        "\n",
        "\n",
        "\n",
        "\n",
        "\n",
        "\n",
        "\n",
        "\n"
      ],
      "metadata": {
        "id": "U85oe5HZjXjF"
      }
    },
    {
      "cell_type": "markdown",
      "source": [
        "# Explain Flask’s url_for() function.\n",
        "\n",
        "--> Flask’s url_for() function is used to dynamically build URLs for a given function (usually a view function) by referring to its name rather than hardcoding the URL path. This helps make your application more maintainable and less error-prone. If you ever change the route associated with a function, url_for() ensures that all internal links pointing to that function are automatically updated, since it generates the correct URL based on the function name and any arguments you pass. It can also generate URLs with query parameters or variable parts of a route. Overall, url_for() promotes clean, flexible code and is commonly used in templates and redirects within a Flask application."
      ],
      "metadata": {
        "id": "2irMbQr_jg2p"
      }
    },
    {
      "cell_type": "markdown",
      "source": [
        "#  How does Flask handle static files (CSS, JavaScript, etc.)?\n",
        "\n",
        "--> Flask handles static files like CSS, JavaScript, and images by serving them from a special folder named static within your project directory. By default, Flask automatically maps the URL path /static/ to this folder, allowing the browser to request and load these files when needed. For example, a file placed in static/css/style.css can be accessed in the browser via /static/css/style.css. In HTML templates, you typically use Flask’s url_for('static', filename='path/to/file') function to generate the correct URL for static assets. This approach keeps your project organized and ensures that static files are served efficiently alongside your dynamic content."
      ],
      "metadata": {
        "id": "sFmqsENzjsU1"
      }
    },
    {
      "cell_type": "markdown",
      "source": [
        "# What is an API specification, and how does it help in building a Flask API?\n",
        "\n",
        "--> An API specification is a detailed document or blueprint that defines how an API should behave and how clients can interact with it. It outlines the available endpoints, HTTP methods (like GET, POST, PUT, DELETE), request parameters, expected responses, data formats (such as JSON), authentication requirements, and error codes. In the context of building a Flask API, an API specification serves as a guide for both developers and users of the API. It ensures consistency, helps avoid misunderstandings, and makes collaboration between frontend and backend teams smoother. Tools like Swagger (OpenAPI) can use the specification to generate interactive documentation and even code scaffolding. Overall, an API specification acts as a contract that improves development efficiency, testing, and long-term maintainability of your Flask API.\n",
        "\n",
        "\n",
        "\n",
        "\n",
        "\n",
        "\n",
        "\n",
        "\n"
      ],
      "metadata": {
        "id": "PFSMwWu9jzyE"
      }
    },
    {
      "cell_type": "markdown",
      "source": [
        "# What are HTTP status codes, and why are they important in a Flask API?\n",
        "\n",
        "--> HTTP status codes are standardized three-digit numbers returned by a server in response to a client's request. They indicate the outcome of the request—whether it was successful, resulted in an error, or requires further action. In a Flask API, status codes are important because they communicate the result of an API call clearly and consistently, helping clients understand how to respond or handle the data.\n",
        "\n",
        "For example, a status code of 200 means success, 201 indicates a resource was created, 400 signals a bad request (like missing data), 401 means unauthorized access, and 404 means the requested resource wasn’t found. Using the correct status codes improves API usability, debugging, and integration with other systems or clients, since they follow a universal standard understood across web technologies.\n",
        "\n",
        "\n",
        "\n",
        "\n",
        "\n",
        "\n",
        "\n",
        "\n"
      ],
      "metadata": {
        "id": "h4E6STAzkCCL"
      }
    },
    {
      "cell_type": "markdown",
      "source": [
        "# How do you handle POST requests in Flask?\n",
        "\n",
        "--> To handle POST requests in Flask, you define a route that explicitly allows the POST method and write a view function to process the incoming data. When a client sends a POST request—typically to submit data such as form inputs or JSON payload—you use Flask’s request object to access that data. Depending on the content type, you might retrieve form data with request.form, JSON data with request.get_json(), or file uploads with request.files. After processing the data (e.g., validating input or saving to a database), the function usually returns a response, often using jsonify() along with an appropriate HTTP status code like 201 for a successful creation. This approach allows you to receive and manage client data securely and efficiently in a Flask API or web application."
      ],
      "metadata": {
        "id": "wPNKa8Bp2kog"
      }
    },
    {
      "cell_type": "markdown",
      "source": [
        "# How would you secure a Flask API?\n",
        "\n",
        "--> Securing a Flask API involves implementing multiple layers of protection to prevent unauthorized access, data breaches, and other security threats. Here are key strategies:\n",
        "\n",
        "Authentication and Authorization: Use methods like API keys, tokens (e.g., JWT), or OAuth to ensure that only authorized users can access certain endpoints. Authentication verifies identity, while authorization ensures users can only access resources they're permitted to.\n",
        "\n",
        "Input Validation and Sanitization: Always validate and sanitize user inputs to prevent injection attacks, such as SQL injection or cross-site scripting (XSS).\n",
        "\n",
        "HTTPS Only: Ensure the API is served over HTTPS to encrypt data in transit and protect against man-in-the-middle attacks.\n",
        "\n",
        "Rate Limiting: Implement rate limiting to protect against abuse and denial-of-service (DoS) attacks by limiting the number of requests a client can make in a given time period.\n",
        "\n",
        "Use Secure Headers: Add security-related HTTP headers such as Content-Security-Policy, X-Content-Type-Options, and X-Frame-Options to reduce vulnerabilities.\n",
        "\n",
        "Error Handling: Avoid exposing internal error details in responses. Use custom error handlers to return safe, user-friendly error messages.\n",
        "\n",
        "CORS Configuration: Properly configure Cross-Origin Resource Sharing (CORS) to control which domains can access your API."
      ],
      "metadata": {
        "id": "bMdhOtbx2pAS"
      }
    },
    {
      "cell_type": "markdown",
      "source": [
        "# What is the significance of the Flask-RESTful extension?\n",
        "\n",
        "--> The Flask-RESTful extension is significant because it simplifies the process of building RESTful APIs with Flask by providing a structured and efficient way to define resources and handle HTTP methods. Instead of manually managing routes and request parsing, Flask-RESTful allows you to create classes that represent resources, and map them to URLs. Each class can define methods like get(), post(), put(), and delete() to handle specific HTTP requests, making the code more organized and readable.\n",
        "\n",
        "Additionally, Flask-RESTful includes built-in tools for input validation and request parsing using its reqparse module, which helps handle incoming data cleanly and securely. It also integrates well with Flask's native features and supports returning consistent, automatically formatted JSON responses. Overall, Flask-RESTful streamlines REST API development by reducing boilerplate code and encouraging best practices, making it easier to scale and maintain Flask-based APIs.\n",
        "\n",
        "\n",
        "\n",
        "\n",
        "\n",
        "\n",
        "\n",
        "\n"
      ],
      "metadata": {
        "id": "CPpUndUw20En"
      }
    },
    {
      "cell_type": "markdown",
      "source": [
        "#  What is the role of Flask’s session object?\n",
        "\n",
        "--> The role of Flask’s session object is to store data specific to a user across multiple requests, allowing you to maintain state between page loads or API calls. It acts like a temporary storage mechanism for individual users—often used for things like tracking login status, storing user preferences, or maintaining a shopping cart.\n",
        "\n",
        "Flask's session data is stored on the client side inside a secure cookie, which is signed using the app’s secret key to prevent tampering. Although the data is stored on the client, Flask ensures its integrity by verifying that it hasn’t been modified. This makes the session object a lightweight and secure way to persist small pieces of user-related information without needing a full database call for every request."
      ],
      "metadata": {
        "id": "VRU_KMDL2-KU"
      }
    },
    {
      "cell_type": "code",
      "source": [
        "# How do you create a basic Flask application?\n",
        "\n",
        "from flask import Flask\n",
        "\n",
        "app = Flask(__name__)\n",
        "\n",
        "@app.route('/')\n",
        "def hello():\n",
        "    return 'Hello, World!'\n",
        "\n",
        "if __name__ == '__main__':\n",
        "    app.run(debug=True)\n"
      ],
      "metadata": {
        "colab": {
          "base_uri": "https://localhost:8080/"
        },
        "id": "aDMbVApT3L0m",
        "outputId": "be8f08ac-58b0-44f1-f03e-ce069d9af2b0"
      },
      "execution_count": 2,
      "outputs": [
        {
          "output_type": "stream",
          "name": "stdout",
          "text": [
            " * Serving Flask app '__main__'\n",
            " * Debug mode: on\n"
          ]
        },
        {
          "output_type": "stream",
          "name": "stderr",
          "text": [
            "INFO:werkzeug:\u001b[31m\u001b[1mWARNING: This is a development server. Do not use it in a production deployment. Use a production WSGI server instead.\u001b[0m\n",
            " * Running on http://127.0.0.1:5000\n",
            "INFO:werkzeug:\u001b[33mPress CTRL+C to quit\u001b[0m\n",
            "INFO:werkzeug: * Restarting with stat\n"
          ]
        }
      ]
    },
    {
      "cell_type": "code",
      "source": [
        "# How do you serve static files like images or CSS in Flask?\n",
        "\n",
        "from flask import Flask, render_template\n",
        "\n",
        "app = Flask(__name__)\n",
        "\n",
        "@app.route('/')\n",
        "def home():\n",
        "    return render_template('index.html')  # Render the HTML template\n",
        "\n",
        "if __name__ == '__main__':\n",
        "    app.run(debug=True)\n"
      ],
      "metadata": {
        "id": "_HRLGZJm6V3r"
      },
      "execution_count": null,
      "outputs": []
    },
    {
      "cell_type": "code",
      "source": [
        "# How do you define different routes with different HTTP methods in Flask?\n",
        "\n",
        "from flask import Flask, request\n",
        "\n",
        "app = Flask(__name__)\n",
        "\n",
        "# Route that handles both GET and POST methods\n",
        "@app.route('/submit', methods=['GET', 'POST'])\n",
        "def submit():\n",
        "    if request.method == 'GET':\n",
        "        return \"This is a GET request\"\n",
        "    elif request.method == 'POST':\n",
        "        data = request.form.get('name')  # Example of handling POST data\n",
        "        return f\"Hello, {data}!\"\n",
        "\n",
        "# Separate route for PUT method\n",
        "@app.route('/update', methods=['PUT'])\n",
        "def update():\n",
        "    return \"This is a PUT request\"\n",
        "\n",
        "# Separate route for DELETE method\n",
        "@app.route('/delete', methods=['DELETE'])\n",
        "def delete():\n",
        "    return \"This is a DELETE request\"\n",
        "\n",
        "if __name__ == '__main__':\n",
        "    app.run(debug=True)\n"
      ],
      "metadata": {
        "id": "IhI4SEWZ7MYe"
      },
      "execution_count": null,
      "outputs": []
    },
    {
      "cell_type": "code",
      "source": [
        "# How do you render HTML templates in Flask?\n",
        "\n",
        "from flask import Flask, render_template\n",
        "\n",
        "app = Flask(__name__)\n",
        "\n",
        "@app.route('/')\n",
        "def home():\n",
        "    return render_template('index.html')  # This renders the HTML page\n",
        "\n",
        "if __name__ == '__main__':\n",
        "    app.run(debug=True)\n"
      ],
      "metadata": {
        "id": "8wOxm-557WZW"
      },
      "execution_count": null,
      "outputs": []
    },
    {
      "cell_type": "code",
      "source": [
        "# How can you generate URLs for routes in Flask using url_for?\n",
        "\n",
        "from flask import Flask, url_for\n",
        "\n",
        "app = Flask(__name__)\n",
        "\n",
        "@app.route('/')\n",
        "def home():\n",
        "    return 'Home Page'\n",
        "\n",
        "@app.route('/about')\n",
        "def about():\n",
        "    return 'About Page'\n",
        "\n",
        "@app.route('/redirect-home')\n",
        "def redirect_home():\n",
        "    return f'Redirected to {url_for(\"home\")}'\n",
        "\n",
        "if __name__ == '__main__':\n",
        "    app.run(debug=True)\n"
      ],
      "metadata": {
        "id": "9MirszTs-_m2"
      },
      "execution_count": null,
      "outputs": []
    },
    {
      "cell_type": "code",
      "source": [
        "# How do you handle forms in Flask?\n",
        "\n",
        "from flask import Flask, render_template, request\n",
        "\n",
        "app = Flask(__name__)\n",
        "\n",
        "@app.route('/', methods=['GET', 'POST'])\n",
        "def home():\n",
        "    if request.method == 'POST':\n",
        "        username = request.form['username']\n",
        "        email = request.form['email']\n",
        "\n",
        "        return f'Hello, {username}! Your email is {email}.'\n",
        "\n",
        "    return render_template('form.html')\n",
        "\n",
        "if __name__ == '__main__':\n",
        "    app.run(debug=True)\n"
      ],
      "metadata": {
        "id": "CkNoywYZ_O7c"
      },
      "execution_count": null,
      "outputs": []
    },
    {
      "cell_type": "code",
      "source": [
        "# How can you validate form data in Flask?\n",
        "\n",
        "from flask import Flask, render_template, request\n",
        "\n",
        "app = Flask(__name__)\n",
        "\n",
        "@app.route('/', methods=['GET', 'POST'])\n",
        "def home():\n",
        "    if request.method == 'POST':\n",
        "        # Get form data\n",
        "        username = request.form.get('username')\n",
        "        email = request.form.get('email')\n",
        "\n",
        "        # Validate username (must not be empty)\n",
        "        if not username:\n",
        "            return \"Username is required\", 400  # 400: Bad Request\n",
        "\n",
        "        # Validate email (basic validation)\n",
        "        if not email or '@' not in email:\n",
        "            return \"Invalid email\", 400\n",
        "\n",
        "        # If validation passes\n",
        "        return f'Hello, {username}! Your email is {email}.'\n",
        "\n",
        "    return render_template('form.html')\n",
        "\n",
        "if __name__ == '__main__':\n",
        "    app.run(debug=True)\n"
      ],
      "metadata": {
        "id": "Hvtyt2P9_clM"
      },
      "execution_count": null,
      "outputs": []
    },
    {
      "cell_type": "code",
      "source": [
        "# How do you manage sessions in Flask?\n",
        "\n",
        "from flask import Flask, session, redirect, url_for, request\n",
        "\n",
        "app = Flask(__name__)\n",
        "app.config['SECRET_KEY'] = 'your_secret_key'  # Make sure to set this\n",
        "\n",
        "@app.route('/')\n",
        "def home():\n",
        "    # Check if the user is logged in by looking for the 'username' key in the session\n",
        "    if 'username' in session:\n",
        "        username = session['username']\n",
        "        return f'Hello, {username}!'\n",
        "    return 'You are not logged in.'\n",
        "\n",
        "@app.route('/login', methods=['GET', 'POST'])\n",
        "def login():\n",
        "    if request.method == 'POST':\n",
        "        # Get the username from the form and store it in the session\n",
        "        session['username'] = request.form['username']\n",
        "        return redirect(url_for('home'))\n",
        "    return '''\n",
        "        <form method=\"POST\">\n",
        "            Username: <input type=\"text\" name=\"username\"><br>\n",
        "            <input type=\"submit\" value=\"Login\">\n",
        "        </form>\n",
        "    '''\n",
        "\n",
        "@app.route('/logout')\n",
        "def logout():\n",
        "    # Remove the username from the session to log the user out\n",
        "    session.pop('username', None)\n",
        "    return redirect(url_for('home'))\n",
        "\n",
        "if __name__ == '__main__':\n",
        "    app.run(debug=True)\n"
      ],
      "metadata": {
        "id": "YBNHxT8j_mk1"
      },
      "execution_count": null,
      "outputs": []
    },
    {
      "cell_type": "code",
      "source": [
        "# How do you redirect to a different route in Flask?\n",
        "\n",
        "from flask import Flask, redirect, url_for\n",
        "\n",
        "app = Flask(__name__)\n",
        "\n",
        "@app.route('/')\n",
        "def home():\n",
        "    return \"Welcome to the Home Page! <a href='/login'>Login</a>\"\n",
        "\n",
        "@app.route('/login')\n",
        "def login():\n",
        "    return \"This is the Login Page.\"\n",
        "\n",
        "@app.route('/redirect_to_login')\n",
        "def redirect_to_login():\n",
        "    return redirect(url_for('login'))\n",
        "\n",
        "if __name__ == '__main__':\n",
        "    app.run(debug=True)\n"
      ],
      "metadata": {
        "id": "FwVlkipK_zYM"
      },
      "execution_count": null,
      "outputs": []
    },
    {
      "cell_type": "code",
      "source": [
        "# How do you handle errors in Flask (e.g., 404).\n",
        "\n",
        "from flask import Flask, render_template\n",
        "\n",
        "app = Flask(__name__)\n",
        "\n",
        "@app.route('/')\n",
        "def home():\n",
        "    return \"Welcome to the Home Page!\"\n",
        "\n",
        "@app.route('/cause_error')\n",
        "def cause_error():\n",
        "    # This route will intentionally cause a 404 error\n",
        "    return render_template('non_existent_page.html')  # This will trigger a 404 error\n",
        "\n",
        "# Handle 404 error (Page Not Found)\n",
        "@app.errorhandler(404)\n",
        "def page_not_found(error):\n",
        "    return render_template('404.html'), 404  # Custom 404 error page\n",
        "\n",
        "# Handle 500 error (Internal Server Error)\n",
        "@app.errorhandler(500)\n",
        "def internal_error(error):\n",
        "    return \"Sorry, something went wrong. Please try again later.\", 500\n",
        "\n",
        "if __name__ == '__main__':\n",
        "    app.run(debug=True)\n"
      ],
      "metadata": {
        "id": "-Pvwa1lVCOGs"
      },
      "execution_count": null,
      "outputs": []
    },
    {
      "cell_type": "code",
      "source": [
        "# How do you structure a Flask app using Blueprints?\n",
        "\n",
        "from flask import Blueprint, render_template\n",
        "\n",
        "# Create a Blueprint for blog-related routes\n",
        "blog_blueprint = Blueprint('blog', __name__, template_folder='templates', static_folder='static')\n",
        "\n",
        "@blog_blueprint.route('/post/<int:id>')\n",
        "def post(id):\n",
        "    return render_template('post.html', post_id=id)\n",
        "\n",
        "@blog_blueprint.route('/new_post')\n",
        "def new_post():\n",
        "    return \"Create a new post\"\n"
      ],
      "metadata": {
        "id": "SMGflfxCDS3o"
      },
      "execution_count": null,
      "outputs": []
    },
    {
      "cell_type": "code",
      "source": [
        "#How do you define a custom Jinja filter in Flask\n",
        "\n",
        "from flask import Flask\n",
        "\n",
        "app = Flask(__name__)\n",
        "\n",
        "# Define the custom filter function\n",
        "def capitalize_words(value):\n",
        "    # Capitalize the first letter of each word\n",
        "    return ' '.join([word.capitalize() for word in value.split()])\n",
        "\n",
        "# Register the custom filter with Flask\n",
        "app.jinja_env.filters['capitalize'] = capitalize_words\n",
        "\n",
        "app = Flask(__name__)\n",
        "\n",
        "# Define the custom filter\n",
        "def capitalize_words(value):\n",
        "    return ' '.join([word.capitalize() for word in value.split()])\n",
        "\n",
        "# Register the filter with Flask\n",
        "app.jinja_env.filters['capitalize'] = capitalize_words\n",
        "\n",
        "@app.route('/')\n",
        "def index():\n",
        "    return render_template('index.html')\n",
        "\n",
        "if __name__ == '__main__':\n",
        "    app.run(debug=True)\n"
      ],
      "metadata": {
        "id": "g84S3XuYDpga"
      },
      "execution_count": null,
      "outputs": []
    },
    {
      "cell_type": "code",
      "source": [
        "#  How can you redirect with query parameters in Flask?\n",
        "\n",
        "from flask import Flask, redirect, url_for, request\n",
        "\n",
        "app = Flask(__name__)\n",
        "\n",
        "@app.route('/')\n",
        "def home():\n",
        "    return 'Welcome to the Home Page! <a href=\"/redirect_to_page\">Go to Redirect</a>'\n",
        "\n",
        "@app.route('/redirect_to_page')\n",
        "def redirect_to_page():\n",
        "    # Create a URL with query parameters\n",
        "    return redirect(url_for('show_page', name='John', age=30))\n",
        "\n",
        "@app.route('/show_page')\n",
        "def show_page():\n",
        "    # Get query parameters from the request\n",
        "    name = request.args.get('name')\n",
        "    age = request.args.get('age')\n",
        "    return f'Name: {name}, Age: {age}'\n",
        "\n",
        "if __name__ == '__main__':\n",
        "    app.run(debug=True)\n"
      ],
      "metadata": {
        "id": "0hIiPxNID-YS"
      },
      "execution_count": null,
      "outputs": []
    },
    {
      "cell_type": "code",
      "source": [
        "# How do you return JSON responses in Flask?\n",
        "\n",
        "from flask import Flask, jsonify\n",
        "\n",
        "app = Flask(__name__)\n",
        "\n",
        "@app.route('/api/data')\n",
        "def get_data():\n",
        "    data = {\n",
        "        'name': 'Alice',\n",
        "        'age': 25,\n",
        "        'location': 'Wonderland'\n",
        "    }\n",
        "    return jsonify(data)\n",
        "\n",
        "if __name__ == '__main__':\n",
        "    app.run(debug=True)\n"
      ],
      "metadata": {
        "id": "F7d4d5WMELM3"
      },
      "execution_count": null,
      "outputs": []
    },
    {
      "cell_type": "code",
      "source": [
        "# How do you capture URL parameters in Flask?\n",
        "\n",
        "from flask import Flask\n",
        "\n",
        "app = Flask(__name__)\n",
        "\n",
        "@app.route('/user/<username>')\n",
        "def show_user_profile(username):\n",
        "    return f'User: {username}'\n",
        "\n"
      ],
      "metadata": {
        "id": "h3gNwpBEEcS_"
      },
      "execution_count": null,
      "outputs": []
    }
  ]
}