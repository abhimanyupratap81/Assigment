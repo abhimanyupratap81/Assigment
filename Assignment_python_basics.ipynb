{
  "nbformat": 4,
  "nbformat_minor": 0,
  "metadata": {
    "colab": {
      "provenance": []
    },
    "kernelspec": {
      "name": "python3",
      "display_name": "Python 3"
    },
    "language_info": {
      "name": "python"
    }
  },
  "cells": [
    {
      "cell_type": "markdown",
      "source": [
        "# What is Python, and why is it popular?\n",
        "\n",
        "--> Python is a high-level, interpreted programming language known for its simplicity and readability. It is widely used in various domains, including web development, data science, artificial intelligence, automation, and more.\n",
        "\n",
        "Easy to Learn & Use - Python’s simple syntax makes it beginner-friendly.\n",
        "\n",
        "Versatile - It can be used for web development, automation, AI, machine learning, data analysis, game development, etc.\n",
        "\n",
        "Large Community & Support - A vast community provides extensive documentation, tutorials, and libraries.\n",
        "\n",
        "Rich Libraries & Frameworks - Python has powerful libraries like NumPy, Pandas, TensorFlow, Django, Flask, etc.\n",
        "\n",
        "Cross-Platform Compatibility - It runs on Windows, macOS, and Linux without modification."
      ],
      "metadata": {
        "id": "osxcX1Uickdd"
      }
    },
    {
      "cell_type": "markdown",
      "source": [
        "# What is an interpreter in Python?\n",
        "\n",
        "--> An interpreter in Python is a program that executes Python code line by line rather than compiling the entire code at once (like a compiler does). This makes debugging easier and allows for interactive execution."
      ],
      "metadata": {
        "id": "azwgEq2PdE_Q"
      }
    },
    {
      "cell_type": "markdown",
      "source": [
        "# What are pre-defined keywords in Python?\n",
        "\n",
        "--> Pre-defined keywords in Python are reserved words that have a specific meaning and cannot be used as variable names, function names, or identifiers.\n",
        "\n",
        "Categories of Python Keywords\n",
        "Control Flow - if, else, elif, for, while, break, continue, pass\n",
        "\n",
        "Logical & Boolean - True, False, None, and, or, not\n",
        "\n",
        "Functions & Classes – def, return, lambda, class\n",
        "\n",
        "Exception Handling – try, except, finally, raise, assert"
      ],
      "metadata": {
        "id": "Q_HvWVnodP6q"
      }
    },
    {
      "cell_type": "markdown",
      "source": [
        "# Can keywords be used as variable names?\n",
        "\n",
        "--> NO"
      ],
      "metadata": {
        "id": "zpKkh9c2dkIL"
      }
    },
    {
      "cell_type": "markdown",
      "source": [
        "# What is mutability in Python?\n",
        "\n",
        "--> Mutability refers to whether an object in Python can be changed after it is created. Python objects are classified into two types based on this property:\n",
        "\n",
        "Mutable Objects – Can be modified after creation.\n",
        "\n",
        "Immutable Objects – Cannot be modified after creation."
      ],
      "metadata": {
        "id": "-O4x1_FhdfTc"
      }
    },
    {
      "cell_type": "markdown",
      "source": [
        "# Why are lists mutable, but tuples are immutable?\n",
        "\n",
        "--> Lists store references to elements not the fixed values on the other hand Tuples store fixed values in a single allocated memory block."
      ],
      "metadata": {
        "id": "o-q8Wt-Md5eD"
      }
    },
    {
      "cell_type": "markdown",
      "source": [
        "# What is the difference between “==” and “is” operators in Python?\n",
        "\n",
        "--> Python provides two different operators for comparing values and objects:\n",
        "\n",
        "== (Equality Operator) - Compares values (whether the contents are the same).\n",
        "is (Identity Operator) - Compares memory addresses (whether two variables refer to the same object)."
      ],
      "metadata": {
        "id": "cfWVBxPXefDd"
      }
    },
    {
      "cell_type": "markdown",
      "source": [
        "# What are logical operators in Python?\n",
        "\n",
        "--> Logical operators in Python are used to combine conditional statements and return a Boolean result\n",
        "Types of Logical Operators:\n",
        "and operator - Returns True if both conditions are True\n",
        "or operator -\tReturns True if at least one condition is True\n",
        "not - Reverses the Boolean result"
      ],
      "metadata": {
        "id": "UwBVDaXfe_6n"
      }
    },
    {
      "cell_type": "markdown",
      "source": [
        "# What is type casting in Python?\n",
        "\n",
        "--> Type casting (also called type conversion) is the process of converting one data type into another in Python.\n",
        "\n",
        "Types of Type Casting:\n",
        "\n",
        "Implicit Type Casting (Automatic Conversion): Python automatically converts a smaller data type into a larger one (to avoid data loss).\n",
        "\n",
        "Explicit Type Casting (Manual Conversion): The programmer manually converts a variable from one type to another using built-in functions."
      ],
      "metadata": {
        "id": "73yzIQ_GfmJH"
      }
    },
    {
      "cell_type": "markdown",
      "source": [
        "# What is the difference between implicit and explicit type casting?\n",
        "\n",
        "--> Types of Type Casting:\n",
        "\n",
        "Implicit Type Casting (Automatic Conversion): Python automatically converts a smaller data type into a larger one (to avoid data loss).\n",
        "\n",
        "Explicit Type Casting (Manual Conversion): The programmer manually converts a variable from one type to another using built-in functions."
      ],
      "metadata": {
        "id": "7wn_ahsLf5vL"
      }
    },
    {
      "cell_type": "markdown",
      "source": [
        "# What is the purpose of conditional statements in Python?\n",
        "\n",
        "--> Conditional statements in Python allow the program to make decisions based on certain conditions. They help control the flow of execution by running specific code blocks only when certain conditions are met.\n",
        "\n",
        "Decision Making – Allows programs to choose different actions based on conditions.\n",
        "\n",
        "Flow Control – Determines which part of the code runs and when.\n",
        "\n",
        "Efficiency – Prevents unnecessary execution of code.\n",
        "\n",
        "User Interaction – Helps in creating dynamic programs that respond to inputs."
      ],
      "metadata": {
        "id": "ZxlVbbsggNjI"
      }
    },
    {
      "cell_type": "markdown",
      "source": [
        "# How does the elif statement work?\n",
        "\n",
        "--> he elif (short for \"else if\") statement is used to check multiple conditions sequentially. It allows a program to make multiple decisions by evaluating conditions one by one.\n",
        "\n",
        "Working of elif:\n",
        "\n",
        "The if statement is checked first.\n",
        "If if is False, the program checks the elif condition.\n",
        "If an elif condition is True, its block of code runs, and the remaining conditions are skipped.\n",
        "If none of the conditions are True, the else block executes."
      ],
      "metadata": {
        "id": "34Su2oBchOIo"
      }
    },
    {
      "cell_type": "markdown",
      "source": [
        "# What is the difference between for and while loops?\n",
        "\n",
        "--> In Python, both for and while loops are used for iteration, but they serve different purposes. A for loop is used when the number of iterations is known beforehand, as it iterates over a sequence such as a list, tuple, string, or range. On the other hand, a while loop is used when the number of iterations is unknown and depends on a condition being met.\n",
        "\n",
        "The for loop is best for iterating through collections or performing a fixed number of repetitions. For example, if you want to print each element in a list, a for loop is the ideal choice. It automatically stops after iterating through all the elements, reducing the risk of infinite loops. A common use case of for loops is iterating through a range of numbers, such as for i in range(1, 6): print(i), which prints numbers from 1 to 5.\n",
        "\n",
        "On the other hand, a while loop continues running as long as a condition is True, making it suitable for situations where you don’t know in advance how many iterations are needed. For example, a program that asks for user input until a correct password is entered would use a while loop. However, because the condition must eventually become False, it's essential to ensure that the loop has an exit condition; otherwise, it can lead to an infinite loop.\n",
        "\n",
        "In summary, use a for loop when iterating over a sequence or when the number of iterations is predetermined. Use a while loop when repeating an action until a condition is met. Understanding when to use each loop helps in writing efficient and bug-free Python programs."
      ],
      "metadata": {
        "id": "kOSSgdezhfi3"
      }
    },
    {
      "cell_type": "markdown",
      "source": [
        "# Describe a scenario where a while loop is more suitable than a for loop.\n",
        "\n",
        "--> A while loop is more suitable than a for loop when the number of iterations is unknown and depends on a condition being met. One common scenario where a while loop is preferable is user authentication.\n",
        "\n",
        "Imagine a program that asks a user to enter the correct password before granting access. Since we don’t know how many attempts the user will take to enter the correct password, a while loop is the better choice. The loop should continue until the user inputs the correct password."
      ],
      "metadata": {
        "id": "hc-1NZbGisNA"
      }
    },
    {
      "cell_type": "code",
      "source": [
        "# Write a Python program to print \"Hello, World!\"\"\n",
        "print(\"Hello, World!\")"
      ],
      "metadata": {
        "id": "JPhF6S21i446"
      },
      "execution_count": null,
      "outputs": []
    },
    {
      "cell_type": "code",
      "source": [
        "# Write a Python program that displays your name and age\n",
        "name = \"Abhimanyu\"\n",
        "age = 20\n",
        "print(name, age)"
      ],
      "metadata": {
        "colab": {
          "base_uri": "https://localhost:8080/"
        },
        "id": "qNe2D0sqjEXs",
        "outputId": "0bc262d8-f39e-4152-e378-a7eb1eb074be"
      },
      "execution_count": 1,
      "outputs": [
        {
          "output_type": "stream",
          "name": "stdout",
          "text": [
            "Abhimanyu 20\n"
          ]
        }
      ]
    },
    {
      "cell_type": "code",
      "source": [
        "# Write a program that checks if a given word is a Python keyword0\n",
        "import keyword\n",
        "print(\"Python Keywords:\")\n",
        "print(keyword.kwlist)\n"
      ],
      "metadata": {
        "colab": {
          "base_uri": "https://localhost:8080/"
        },
        "id": "0F-eTOT_jK7V",
        "outputId": "497cceca-7762-42b8-fae8-58fe7e1d531f"
      },
      "execution_count": 2,
      "outputs": [
        {
          "output_type": "stream",
          "name": "stdout",
          "text": [
            "Python Keywords:\n",
            "['False', 'None', 'True', 'and', 'as', 'assert', 'async', 'await', 'break', 'class', 'continue', 'def', 'del', 'elif', 'else', 'except', 'finally', 'for', 'from', 'global', 'if', 'import', 'in', 'is', 'lambda', 'nonlocal', 'not', 'or', 'pass', 'raise', 'return', 'try', 'while', 'with', 'yield']\n"
          ]
        }
      ]
    },
    {
      "cell_type": "code",
      "source": [
        "# Create a list and tuple in Python, and demonstrate how attempting to change an element works differently\n",
        "my_list = [10, 22, 30, 40]\n",
        "my_tuple = (10, 20, 30, 40)\n",
        "my_list[1] = 16\n",
        "my_tuple[1] = 17\n",
        "print(\"Modified List:\", my_list)\n"
      ],
      "metadata": {
        "colab": {
          "base_uri": "https://localhost:8080/",
          "height": 193
        },
        "id": "lUIwMDTTjcur",
        "outputId": "946ef33b-3950-46ca-f544-469f1d70004f"
      },
      "execution_count": 6,
      "outputs": [
        {
          "output_type": "error",
          "ename": "TypeError",
          "evalue": "'tuple' object does not support item assignment",
          "traceback": [
            "\u001b[0;31m---------------------------------------------------------------------------\u001b[0m",
            "\u001b[0;31mTypeError\u001b[0m                                 Traceback (most recent call last)",
            "\u001b[0;32m<ipython-input-6-0c25e7f4799d>\u001b[0m in \u001b[0;36m<cell line: 0>\u001b[0;34m()\u001b[0m\n\u001b[1;32m      3\u001b[0m \u001b[0mmy_tuple\u001b[0m \u001b[0;34m=\u001b[0m \u001b[0;34m(\u001b[0m\u001b[0;36m10\u001b[0m\u001b[0;34m,\u001b[0m \u001b[0;36m20\u001b[0m\u001b[0;34m,\u001b[0m \u001b[0;36m30\u001b[0m\u001b[0;34m,\u001b[0m \u001b[0;36m40\u001b[0m\u001b[0;34m)\u001b[0m\u001b[0;34m\u001b[0m\u001b[0;34m\u001b[0m\u001b[0m\n\u001b[1;32m      4\u001b[0m \u001b[0mmy_list\u001b[0m\u001b[0;34m[\u001b[0m\u001b[0;36m1\u001b[0m\u001b[0;34m]\u001b[0m \u001b[0;34m=\u001b[0m \u001b[0;36m16\u001b[0m\u001b[0;34m\u001b[0m\u001b[0;34m\u001b[0m\u001b[0m\n\u001b[0;32m----> 5\u001b[0;31m \u001b[0mmy_tuple\u001b[0m\u001b[0;34m[\u001b[0m\u001b[0;36m1\u001b[0m\u001b[0;34m]\u001b[0m \u001b[0;34m=\u001b[0m \u001b[0;36m17\u001b[0m\u001b[0;34m\u001b[0m\u001b[0;34m\u001b[0m\u001b[0m\n\u001b[0m\u001b[1;32m      6\u001b[0m \u001b[0mprint\u001b[0m\u001b[0;34m(\u001b[0m\u001b[0;34m\"Modified List:\"\u001b[0m\u001b[0;34m,\u001b[0m \u001b[0mmy_list\u001b[0m\u001b[0;34m)\u001b[0m\u001b[0;34m\u001b[0m\u001b[0;34m\u001b[0m\u001b[0m\n",
            "\u001b[0;31mTypeError\u001b[0m: 'tuple' object does not support item assignment"
          ]
        }
      ]
    },
    {
      "cell_type": "code",
      "source": [
        "# Write a function to demonstrate the behavior of mutable and immutable arguments\n",
        "def modify_values(num, num_list):\n",
        "    num += 10\n",
        "    num_list.append(100)\n",
        "\n",
        "    print(\"Inside function - num:\", num)\n",
        "    print(\"Inside function - num_list:\", num_list)\n",
        "\n",
        "x = 5\n",
        "y = [1, 2, 3]\n",
        "modify_values(x, y)\n",
        "print(\"Outside function - x:\", x)\n",
        "print(\"Outside function - y:\", y)\n"
      ],
      "metadata": {
        "colab": {
          "base_uri": "https://localhost:8080/"
        },
        "id": "CF6RRXdzjX5n",
        "outputId": "609ee9a8-939f-4756-8544-904b6c31c5cd"
      },
      "execution_count": 7,
      "outputs": [
        {
          "output_type": "stream",
          "name": "stdout",
          "text": [
            "Inside function - num: 15\n",
            "Inside function - num_list: [1, 2, 3, 100]\n",
            "Outside function - x: 5\n",
            "Outside function - y: [1, 2, 3, 100]\n"
          ]
        }
      ]
    },
    {
      "cell_type": "code",
      "source": [
        "# Write a function to demonstrate the behavior of mutable and immutable arguments\n",
        "def modify_values(num, num_list):\n",
        "    num += 10\n",
        "    num_list.append(100)\n",
        "\n",
        "    print(\"Inside function - num:\", num)\n",
        "    print(\"Inside function - num_list:\", num_list)\n",
        "\n",
        "x = 5\n",
        "y = [1, 2, 3]\n",
        "modify_values(x, y)\n",
        "print(\"Outside function - x:\", x)\n",
        "print(\"Outside function - y:\", y)\n"
      ],
      "metadata": {
        "colab": {
          "base_uri": "https://localhost:8080/"
        },
        "id": "hSQ19rL3knKS",
        "outputId": "7c763ed5-1e8d-4e0a-8c01-9456b07980ab"
      },
      "execution_count": 8,
      "outputs": [
        {
          "output_type": "stream",
          "name": "stdout",
          "text": [
            "Inside function - num: 15\n",
            "Inside function - num_list: [1, 2, 3, 100]\n",
            "Outside function - x: 5\n",
            "Outside function - y: [1, 2, 3, 100]\n"
          ]
        }
      ]
    },
    {
      "cell_type": "code",
      "source": [
        "x = 10\n",
        "y = 5\n",
        "\n",
        "print(\"Both conditions are True:\", x > 5 and y > 2)\n",
        "print(\"At least one condition is True:\", x > 5 or y > 10)\n",
        "print(\"Negating the condition:\", not (x > 5))\n"
      ],
      "metadata": {
        "colab": {
          "base_uri": "https://localhost:8080/"
        },
        "id": "w63kgiMVlGWE",
        "outputId": "29c11cd1-b637-4044-c501-cbb7b825fdba"
      },
      "execution_count": 9,
      "outputs": [
        {
          "output_type": "stream",
          "name": "stdout",
          "text": [
            "Both conditions are True: True\n",
            "At least one condition is True: True\n",
            "Negating the condition: False\n"
          ]
        }
      ]
    },
    {
      "cell_type": "code",
      "source": [
        "# Write a Python program to convert user input from string to integer, float, and boolean types\n",
        "user_input = input(\"Enter a value \")\n",
        "\n",
        "try:\n",
        "    int_value = int(user_input)\n",
        "    print(\"Integer:\", int_value)\n",
        "except ValueError:\n",
        "    print(\"Cannot convert to integer.\")\n",
        "\n",
        "try:\n",
        "    float_value = float(user_input)\n",
        "    print(\"Float:\", float_value)\n",
        "except ValueError:\n",
        "    print(\"Cannot convert to float.\")\n",
        "\n",
        "bool_value = bool(user_input)  # Any non-empty string is True\n",
        "print(\"Boolean:\", bool_value)\n"
      ],
      "metadata": {
        "colab": {
          "base_uri": "https://localhost:8080/"
        },
        "id": "osl5EOVBleFt",
        "outputId": "19171cd4-6605-4207-cc44-0c01ec493c90"
      },
      "execution_count": 11,
      "outputs": [
        {
          "output_type": "stream",
          "name": "stdout",
          "text": [
            "Enter a value happy\n",
            "Cannot convert to integer.\n",
            "Cannot convert to float.\n",
            "Boolean: True\n"
          ]
        }
      ]
    },
    {
      "cell_type": "code",
      "source": [
        "# Write code to demonstrate type casting with list elements\n",
        "str_list = [\"10\", \"20.89\", \"30\", \"40.5\", \"50.8\", \"34.765\"]\n",
        "int_list = [int(x) for x in str_list if x.isdigit()]\n",
        "print(\"Integer List:\", int_list)\n",
        "float_list = [float(x) for x in str_list if x.replace(\".\", \"\", 1).isdigit()]\n",
        "print(\"Float List:\", float_list)\n",
        "bool_list = [bool(x) for x in str_list]\n",
        "print(\"Boolean List:\", bool_list)\n"
      ],
      "metadata": {
        "colab": {
          "base_uri": "https://localhost:8080/"
        },
        "id": "jkW4QYN4mavt",
        "outputId": "e46fb255-8184-41d9-8ac8-dff9c957028e"
      },
      "execution_count": 13,
      "outputs": [
        {
          "output_type": "stream",
          "name": "stdout",
          "text": [
            "Integer List: [10, 20, 30]\n",
            "Float List: [10.0, 20.0, 30.0, 40.5, 50.8, 34.765]\n",
            "Boolean List: [True, True, True, True, True, True]\n"
          ]
        }
      ]
    },
    {
      "cell_type": "code",
      "source": [
        "# Write a program that checks if a number is positive, negative, or zero\n",
        "num = float(input(\"Enter a number: \"))\n",
        "if num > 0:\n",
        "    print(\"The number is positive.\")\n",
        "elif num < 0:\n",
        "    print(\"The number is negative.\")\n",
        "else:\n",
        "    print(\"The number is zero.\")\n"
      ],
      "metadata": {
        "colab": {
          "base_uri": "https://localhost:8080/"
        },
        "id": "rVVC2-lqmtEf",
        "outputId": "41e3fdd0-7f89-49fd-d0f3-ef631e25676a"
      },
      "execution_count": 14,
      "outputs": [
        {
          "output_type": "stream",
          "name": "stdout",
          "text": [
            "Enter a number: -98\n",
            "The number is negative.\n"
          ]
        }
      ]
    },
    {
      "cell_type": "code",
      "source": [
        "#  Write a for loop to print numbers from 1 to 10\n",
        "for i in range(1,11):\n",
        "  print(i)"
      ],
      "metadata": {
        "colab": {
          "base_uri": "https://localhost:8080/"
        },
        "id": "3gOye9ennAX1",
        "outputId": "0a1323f6-e3b8-4707-f3b9-1b140ae93ad5"
      },
      "execution_count": 16,
      "outputs": [
        {
          "output_type": "stream",
          "name": "stdout",
          "text": [
            "1\n",
            "2\n",
            "3\n",
            "4\n",
            "5\n",
            "6\n",
            "7\n",
            "8\n",
            "9\n",
            "10\n"
          ]
        }
      ]
    },
    {
      "cell_type": "code",
      "source": [
        "from re import I\n",
        "#  Write a Python program to find the sum of all even numbers between 1 and 50\n",
        "sum = 0\n",
        "for i in range(1,51):\n",
        "  if i %2 == 0:\n",
        "    sum += i\n",
        "print(sum)"
      ],
      "metadata": {
        "colab": {
          "base_uri": "https://localhost:8080/"
        },
        "id": "Ni8iFyt9nMiD",
        "outputId": "928cb434-6182-4a06-e41f-37ef044d7694"
      },
      "execution_count": 17,
      "outputs": [
        {
          "output_type": "stream",
          "name": "stdout",
          "text": [
            "650\n"
          ]
        }
      ]
    },
    {
      "cell_type": "code",
      "source": [
        "# Write a program to reverse a string using a while loop\n",
        "text = input(str())\n",
        "reversed_text = \"\"\n",
        "index = len(text) - 1\n",
        "while index >= 0:\n",
        "    reversed_text += text[index]\n",
        "    index -= 1\n",
        "print(reversed_text)\n"
      ],
      "metadata": {
        "colab": {
          "base_uri": "https://localhost:8080/"
        },
        "id": "uyXVc3k2ngFG",
        "outputId": "42dc8af1-64a9-47b6-ef61-cd2c99692f4a"
      },
      "execution_count": 19,
      "outputs": [
        {
          "output_type": "stream",
          "name": "stdout",
          "text": [
            "happy\n",
            "yppah\n"
          ]
        }
      ]
    },
    {
      "cell_type": "code",
      "source": [
        "# Write a Python program to calculate the factorial of a number provided by the user using a while loop.\n",
        "num = int(input(\"Enter a number: \"))\n",
        "factorial = 1\n",
        "i = num\n",
        "\n",
        "while i > 0:\n",
        "    factorial *= i\n",
        "    i -= 1\n",
        "\n",
        "print(f\"Factorial of {num} is {factorial}\")\n"
      ],
      "metadata": {
        "colab": {
          "base_uri": "https://localhost:8080/"
        },
        "id": "0LfUQjLRnpzL",
        "outputId": "087079d3-9bbc-4b3d-adf7-154629b19867"
      },
      "execution_count": 20,
      "outputs": [
        {
          "output_type": "stream",
          "name": "stdout",
          "text": [
            "Enter a number: 5\n",
            "Factorial of 5 is 120\n"
          ]
        }
      ]
    },
    {
      "cell_type": "code",
      "source": [],
      "metadata": {
        "id": "rQBA9diMoIpa"
      },
      "execution_count": null,
      "outputs": []
    }
  ]
}