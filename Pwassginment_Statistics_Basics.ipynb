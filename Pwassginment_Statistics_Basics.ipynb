{
  "nbformat": 4,
  "nbformat_minor": 0,
  "metadata": {
    "colab": {
      "provenance": []
    },
    "kernelspec": {
      "name": "python3",
      "display_name": "Python 3"
    },
    "language_info": {
      "name": "python"
    }
  },
  "cells": [
    {
      "cell_type": "markdown",
      "source": [
        "# What is statistics, and why is it important?\n",
        "\n",
        "--> Statistics is the branch of mathematics that deals with collecting, organizing, analyzing, interpreting, and presenting data. It provides methods to understand complex data and make informed decisions based on it.\n",
        "\n",
        "Statistics is Important because:\n",
        "\n",
        "Informed Decision-Making:\n",
        "It helps individuals, businesses, and governments make decisions based on evidence rather than guesswork.\n",
        "\n",
        "Understanding Trends & Patterns:\n",
        "Statistics reveals patterns in data (e.g., customer behavior, climate trends, disease outbreaks).\n",
        "\n",
        "Evaluating Outcomes:\n",
        "In medicine, science, and social research, statistics helps evaluate the success or failure of an intervention or treatment.\n",
        "\n",
        "Reducing Uncertainty:\n",
        "Through probability and sampling, statistics quantifies uncertainty and risk."
      ],
      "metadata": {
        "id": "-zWQlaWTr5ee"
      }
    },
    {
      "cell_type": "markdown",
      "source": [
        "# What are the two main types of statistics?\n",
        "\n",
        "--> (i) Descriptive Statistics\n",
        "\n",
        "Purpose: To summarize and describe the main features of a dataset.\n",
        "\n",
        "Key Characteristics:\n",
        "\n",
        "1. Focuses on what the data shows.\n",
        "\n",
        "2. Does not make predictions or generalizations beyond the data.\n",
        "\n",
        "(ii) Inferential Statistics\n",
        "\n",
        "Purpose: To make predictions, estimates, or generalizations about a population based on a sample.\n",
        "\n",
        "Key Characteristics:\n",
        "\n",
        "Uses probability theory.\n",
        "\n",
        "Involves drawing conclusions beyond the data at hand."
      ],
      "metadata": {
        "id": "UoZ795ZrtJkA"
      }
    },
    {
      "cell_type": "markdown",
      "source": [
        "# What are descriptive statistics?\n",
        "\n",
        "--> Descriptive statistics are methods used to summarize, organize, and describe the main features of a dataset. They give a quick overview of the data without making any predictions or generalizations beyond it.\n",
        "\n",
        "Key Functions of Descriptive Statistics:\n",
        "\n",
        "Summarize large data sets into understandable measures.\n",
        "\n",
        "Highlight patterns, trends, and relationships in data.\n",
        "\n",
        "Provide visual and numerical summaries.\n",
        "\n"
      ],
      "metadata": {
        "id": "0qvUoG3_tx4Z"
      }
    },
    {
      "cell_type": "markdown",
      "source": [
        "# What is inferential statistics?\n",
        "\n",
        "--> Inferential statistics is the branch of statistics that allows you to make predictions, estimates, or generalizations about a population based on data from a sample."
      ],
      "metadata": {
        "id": "OYCVsK1Ct9Y7"
      }
    },
    {
      "cell_type": "markdown",
      "source": [
        "# What is sampling in statistics?\n",
        "\n",
        "--> Sampling in statistics is the process of selecting a subset (sample) from a larger group (population) to analyze and make inferences about the whole population."
      ],
      "metadata": {
        "id": "EtNSamStuJ8a"
      }
    },
    {
      "cell_type": "markdown",
      "source": [
        "# What are the different types of sampling methods?\n",
        "\n",
        "--> 1. Probability Sampling Methods\n",
        "Every member of the population has a known, non-zero chance of being selected. These methods are more reliable for generalizing results.\n",
        "\n",
        "Simple Random Sampling\n",
        "\n",
        "Each member has an equal chance of being selected.\n",
        "\n",
        "Example: Drawing names from a hat.\n",
        "\n",
        "Stratified Sampling\n",
        "\n",
        "Population is divided into subgroups (strata) based on a characteristic (e.g., age, gender), and a random sample is taken from each.\n",
        "\n",
        "Ensures representation of all subgroups.\n",
        "\n",
        "Systematic Sampling\n",
        "\n",
        "Select every kth item from a list after a random starting point.\n",
        "\n",
        "Example: Choose every 10th person in a queue.\n",
        "\n",
        " Non-Probability Sampling Methods\n",
        "Not every member has a known or equal chance of selection. These are quicker and cheaper but more prone to bias.\n",
        "\n",
        "2. Common Non-Probability Sampling Methods:\n",
        "Convenience Sampling\n",
        "\n",
        "Choose people who are easy to reach.\n",
        "\n",
        "Example: Surveying classmates or shoppers in a nearby mall.\n",
        "\n",
        "Judgmental (Purposive) Sampling\n",
        "\n",
        "Researcher selects people based on expertise or judgment.\n",
        "\n",
        "Useful in qualitative research or when targeting specific individuals.\n",
        "\n",
        "Snowball Sampling\n",
        "\n",
        "Existing participants recruit new ones, often used for hard-to-reach populations (e.g., undocumented workers, niche communities)."
      ],
      "metadata": {
        "id": "e1W2i8E_uSuh"
      }
    },
    {
      "cell_type": "markdown",
      "source": [
        "# What is the difference between random and non-random sampling?\n",
        "\n",
        "-->\n",
        "1. Random Sampling:\n",
        "Definition: Every individual in the population has an equal and known chance of being selected.\n",
        "\n",
        "Purpose: To eliminate bias and ensure the sample represents the population.\n",
        "\n",
        "Examples:\n",
        "\n",
        "Simple random sampling (e.g., lottery method)\n",
        "\n",
        "Stratified sampling\n",
        "\n",
        "Systematic sampling\n",
        "\n",
        "✅ Pros:\n",
        "\n",
        "Reduces selection bias\n",
        "\n",
        "Allows for statistical inference\n",
        "\n",
        "❌ Cons:\n",
        "\n",
        "May be time-consuming or expensive\n",
        "\n",
        "Requires a complete list of the population\n",
        "\n",
        "2. Non-Random Sampling (Non-Probability Sampling):\n",
        "Definition: Individuals are selected based on non-random criteria, such as convenience or judgment.\n",
        "\n",
        "Purpose: Often used when random sampling isn't feasible.\n",
        "\n",
        "Examples:\n",
        "\n",
        "Convenience sampling\n",
        "\n",
        "Purposive sampling\n",
        "\n",
        "Quota sampling\n",
        "\n",
        "✅ Pros:\n",
        "\n",
        "Quick and inexpensive\n",
        "\n",
        "Useful for exploratory research\n",
        "\n",
        "❌ Cons:\n",
        "\n",
        "Higher risk of bias\n",
        "\n",
        "Limited generalizability\n",
        "\n"
      ],
      "metadata": {
        "id": "3CdyrSBJvhU7"
      }
    },
    {
      "cell_type": "markdown",
      "source": [
        "# Define and give examples of qualitative and quantitative data?\n",
        "\n",
        "--> Qualitative Data: Non-numerical data that describes qualities or characteristics.\n",
        "\n",
        "Purpose: Captures descriptive information, often used to understand opinions, behaviors, or experiences.\n",
        "\n",
        "Examples:\n",
        "\n",
        "Eye color (e.g., blue, brown, green)\n",
        "\n",
        "Customer feedback (e.g., \"The service was excellent\")\n",
        "\n",
        "Types of cuisine (e.g., Italian, Chinese, Mexican)\n",
        "\n",
        "Quantitative Data: Numerical data that can be measured and analyzed statistically.\n",
        "\n",
        "Purpose: Captures quantifiable information to identify patterns or test hypotheses.\n",
        "\n",
        "Examples:\n",
        "\n",
        "Age (e.g., 25 years)\n",
        "\n",
        "Height (e.g., 5'9\" or 175 cm)\n",
        "\n",
        "Income (e.g., $50,000/year)"
      ],
      "metadata": {
        "id": "fVvh5GBVjlEG"
      }
    },
    {
      "cell_type": "markdown",
      "source": [
        "# What are the different types of data in statistics?\n",
        "\n",
        "--> 1. Qualitative Data (Categorical Data)\n",
        "Represents characteristics, labels, or names—not numbers.\n",
        "\n",
        "a. Nominal Data\n",
        "Data with no natural order.\n",
        "\n",
        "Examples: Gender (male, female), blood type (A, B, AB, O), colors (red, blue, green)\n",
        "\n",
        "b. Ordinal Data\n",
        "Data with a meaningful order, but no fixed intervals.\n",
        "\n",
        "Examples: Satisfaction level (satisfied, neutral, dissatisfied), education level (high school, bachelor's, master's)\n",
        "\n",
        "2. Quantitative Data (Numerical Data)\n",
        "Represents measurable quantities—numbers.\n",
        "\n",
        "a. Discrete Data\n",
        "Countable numbers, usually integers.\n",
        "\n",
        "Examples: Number of students in a class, number of cars, test scores out of 100\n",
        "\n",
        "b. Continuous Data\n",
        "Measurable values that can take any value within a range.\n",
        "\n",
        "Examples: Height, weight, temperature, time, distance"
      ],
      "metadata": {
        "id": "T09fvOa6j_hj"
      }
    },
    {
      "cell_type": "markdown",
      "source": [
        "#  Explain nominal, ordinal, interval, and ratio levels of measurement.\n",
        "\n",
        "--> 1. Nominal Level: Data is categorized without a natural order or ranking.\n",
        "\n",
        "Characteristics: Names, labels, or categories only.\n",
        "\n",
        "Mathematical meaning: Can't perform arithmetic.\n",
        "\n",
        "2. Ordinal Level: Data can be ordered or ranked, but intervals are not meaningful.\n",
        "\n",
        "Characteristics: Relative position only; differences between ranks aren’t equal.\n",
        "\n",
        "3. 2. Ordinal Level: Data can be ordered or ranked, but intervals are not meaningful.\n",
        "\n",
        "Characteristics: Relative position only; differences between ranks aren’t equal."
      ],
      "metadata": {
        "id": "MhzkzoTZkhMS"
      }
    },
    {
      "cell_type": "markdown",
      "source": [
        "# What is the measure of central tendency?\n",
        "\n",
        "-->\n",
        "\n",
        "A measure of central tendency is a single value that represents the center or typical value of a dataset. It gives you an idea of where most data points lie.\n",
        "\n",
        "The Three Main Measures:\n",
        "\n",
        "1. Mean (Average)\n",
        "Definition: Sum of all values divided by the number of values.\n",
        "\n",
        "2. Median\n",
        "Definition: The middle value when data is arranged in order.\n",
        "\n",
        "3. Mode\n",
        "Definition: The most frequently occurring value(s).\n",
        "\n"
      ],
      "metadata": {
        "id": "IoBCfxfXlBvh"
      }
    },
    {
      "cell_type": "markdown",
      "source": [
        "# Define mean, median, and mode.\n",
        "\n",
        "--> Mean (Average)\n",
        "Definition: The sum of all values in a dataset divided by the number of values.\n",
        "\n",
        "Formula:\n",
        "\n",
        "Mean = Sum of values/Number of values\n",
        "\n",
        "Median\n",
        "Definition: The middle value in a dataset when the values are arranged in order.\n",
        "\n",
        "How to Find:\n",
        "\n",
        "If odd number of values: middle value\n",
        "\n",
        "If even number of values: average of the two middle values\n",
        "\n",
        " Mode\n",
        "Definition: The value(s) that appear most frequently in a dataset."
      ],
      "metadata": {
        "id": "SKfpXJFxlZEo"
      }
    },
    {
      "cell_type": "markdown",
      "source": [
        "# What is the significance of the measure of central tendency?\n",
        "\n",
        "--> Significance of the Measure of Central Tendency\n",
        "The measure of central tendency is crucial in statistics because it provides a single, representative value that summarizes a dataset, making large sets of numbers easier to understand and compare.\n",
        "\n",
        "🔹 Why It’s Important:\n",
        "Simplifies Data Interpretation\n",
        "\n",
        "Condenses a dataset into a single, meaningful value.\n",
        "\n",
        "Example: Saying the average test score is 85 gives a quick understanding of overall performance.\n",
        "\n",
        "Helps Compare Groups or Datasets\n",
        "\n",
        "Allows you to compare different datasets based on their central values.\n",
        "\n",
        "Example: Comparing median incomes of two countries.\n",
        "\n",
        "Guides Decision-Making\n",
        "\n",
        "Used in business, healthcare, economics, education, etc., to make informed choices.\n",
        "\n",
        "Example: A company may use average sales data to plan inventory.\n",
        "\n",
        "Identifies Patterns and Outliers\n",
        "\n",
        "Highlights whether data is symmetrical or skewed.\n",
        "\n",
        "If the mean is very different from the median, the dataset may have outliers or be skewed.\n",
        "\n",
        "Foundation for Further Statistical Analysis\n",
        "\n",
        "Measures of central tendency are the basis for more advanced stats like standard deviation, variance, hypothesis testing, etc."
      ],
      "metadata": {
        "id": "XzAuBfnQl9Mn"
      }
    },
    {
      "cell_type": "markdown",
      "source": [
        "# What is variance, and how is it calculated?\n",
        "\n",
        "--> Variance is a statistical measure of how spread out the values in a dataset are around the mean. It shows how much the data points differ from the average value.\n",
        "\n",
        "Definition:\n",
        "Variance measures the average of the squared differences from the mean.\n",
        "\n",
        "A low variance means values are close to the mean.\n",
        "\n",
        "A high variance means values are more spread out."
      ],
      "metadata": {
        "id": "4_t0sZsimLwB"
      }
    },
    {
      "cell_type": "markdown",
      "source": [
        "# What is standard deviation, and why is it important?\n",
        "\n",
        "--> Standard deviation is a statistical measure that tells you how spread out the values in a dataset are around the mean. It’s the square root of the variance, and it expresses variability in the same units as the original data.\n",
        "\n",
        "Definition:\n",
        "\n",
        "Standard deviation shows the average distance of each data point from the mean.\n",
        "\n",
        "Low standard deviation: Data points are close to the mean (less variability)\n",
        "\n",
        "High standard deviation: Data points are more spread out (greater variability)\n",
        "\n"
      ],
      "metadata": {
        "id": "ywn1hgMtmY_r"
      }
    },
    {
      "cell_type": "markdown",
      "source": [
        "#  Define and explain the term range in statistics.\n",
        "\n",
        "--> Definition:\n",
        "The range is the simplest measure of dispersion. It tells you the difference between the highest and lowest values in a dataset.\n",
        "\n",
        "🔹 Formula:\n",
        "Range = Maximum Value − Minimum Value\n"
      ],
      "metadata": {
        "id": "78B_13QPmm2k"
      }
    },
    {
      "cell_type": "markdown",
      "source": [
        "# What is the difference between variance and standard deviation?\n",
        "\n",
        "--> Data analysis plays a crucial role in decision-making across various fields, including business, healthcare, and research. By systematically examining data, organizations can identify patterns, trends, and correlations that help them make informed choices. It allows businesses to optimize processes, predict future outcomes, and understand customer behavior, ultimately improving efficiency and profitability. In healthcare, data analysis helps in diagnosing diseases, determining treatment effectiveness, and improving patient care. Moreover, with the rise of big data, analyzing vast amounts of information has become more critical than ever, enabling professionals to uncover insights that were previously inaccessible. Therefore, mastering data analysis is essential for anyone seeking to stay competitive in today’s data-driven world."
      ],
      "metadata": {
        "id": "fslHqUrzm63C"
      }
    },
    {
      "cell_type": "markdown",
      "source": [
        "# What is skewness in a dataset?\n",
        "\n",
        "--> Skewness refers to the asymmetry or lack of symmetry in the distribution of data. It indicates whether the data is skewed to the left or right of the mean."
      ],
      "metadata": {
        "id": "smaaim3NnT4P"
      }
    },
    {
      "cell_type": "markdown",
      "source": [
        "# What does it mean if a dataset is positively or negatively skewed?\n",
        "\n",
        "--> When a dataset is described as positively skewed or negatively skewed, it refers to the direction in which the data distribution is stretched, and how the mean, median, and mode are positioned in relation to each other.\n",
        "\n",
        "Positively Skewed (Right Skew)\n",
        "Definition: In a positively skewed dataset, the right tail (larger values) is longer or more spread out than the left tail. This means there are a few large values that pull the mean towards the right, away from the center.\n",
        "\n",
        "Characteristics:\n",
        "\n",
        "Mean > Median > Mode\n",
        "\n",
        "The mean is greater than the median because the few large values on the right side increase the average.\n",
        "\n",
        "The mode (most frequent value) is smaller than both the median and mean.\n",
        "\n",
        "Visual Representation:\n",
        "A histogram for a positively skewed distribution would show most of the data points clustered on the left side, with a long tail extending to the right.\n",
        "\n",
        "Examples:\n",
        "\n",
        "Income distribution: Most people earn moderate to low incomes, but a few individuals earn extremely high amounts, pulling the mean to the right.\n",
        "\n",
        "Real estate prices: Most homes are moderately priced, but a few luxury homes are priced much higher, creating a skew.\n",
        "\n",
        "Negatively Skewed (Left Skew)\n",
        "Definition: In a negatively skewed dataset, the left tail (smaller values) is longer or more spread out than the right tail. This means there are a few small values that pull the mean towards the left.\n",
        "\n",
        "Characteristics:\n",
        "\n",
        "Mean < Median < Mode\n",
        "\n",
        "The mean is smaller than the median because the few small values on the left side decrease the average.\n",
        "\n",
        "The mode is typically larger than both the median and mean.\n",
        "\n",
        "Visual Representation:\n",
        "A histogram for a negatively skewed distribution would show most of the data points clustered on the right side, with a long tail extending to the left.\n",
        "\n",
        "Examples:\n",
        "\n",
        "Age at retirement: Many people retire in their 60s or later, but some may retire earlier, say in their 30s or 40s, pulling the mean to the left.\n",
        "\n",
        "Test scores: A few students who score very low can drag the average score down, creating a left skew.\n",
        "\n"
      ],
      "metadata": {
        "id": "ncR2NeVbnkeG"
      }
    },
    {
      "cell_type": "markdown",
      "source": [
        "#  Define and explain kurtosis.\n",
        "\n",
        "--> Kurtosis is a statistical measure that describes the shape of a data distribution, specifically its tails and peaks. It indicates whether the data has heavy tails or outliers, or if the distribution is more \"normal\" in shape.\n",
        "\n",
        "What Does Kurtosis Measure?\n",
        "Kurtosis focuses on the extremes of the distribution, particularly the presence of outliers and how heavy or light the tails are compared to a normal distribution. It helps to describe the peak and tail thickness of the data."
      ],
      "metadata": {
        "id": "Du0RBBqZosSB"
      }
    },
    {
      "cell_type": "markdown",
      "source": [
        "# What is the purpose of covariance?\n",
        "\n",
        "--> Covariance is a statistical measure that helps to determine the relationship between two variables. It indicates whether two variables increase or decrease together, or if one increases while the other decreases.\n",
        "\n",
        "What Does Covariance Measure?\n",
        "\n",
        "Covariance measures the direction of the linear relationship between two variables.\n",
        "\n",
        "A positive covariance means that as one variable increases, the other also tends to increase.\n",
        "\n",
        "A negative covariance means that as one variable increases, the other tends to decrease.\n",
        "\n",
        "A covariance close to zero suggests there is no linear relationship between the two variables.\n",
        "\n"
      ],
      "metadata": {
        "id": "4Hz6BIBUo87y"
      }
    },
    {
      "cell_type": "markdown",
      "source": [
        "# What does correlation measure in statistics?\n",
        "\n",
        "--> Correlation is a statistical measure that describes the strength and direction of the relationship between two variables. It tells you whether and how strongly two variables are related, and if so, whether they increase or decrease together.\n",
        "\n"
      ],
      "metadata": {
        "id": "tULTcFsnpUb9"
      }
    },
    {
      "cell_type": "markdown",
      "source": [
        "# What is the difference between covariance and correlation?\n",
        "\n",
        "--> Key Insights:\n",
        "\n",
        "1. Covariance:\n",
        "\n",
        "Measures whether two variables move together (positive covariance) or in opposite directions (negative covariance).\n",
        "\n",
        "However, because it is dependent on the scale of the variables, the magnitude of covariance is hard to interpret on its own.\n",
        "\n",
        "A large covariance does not necessarily indicate a strong relationship if the units are large, and a small covariance doesn't necessarily mean a weak relationship.\n",
        "\n",
        "2. Correlation:\n",
        "\n",
        "Standardizes the relationship between the variables, providing a more intuitive measure.\n",
        "\n",
        "It ranges from -1 to +1, making it easier to interpret and compare relationships across different pairs of variables.\n",
        "\n",
        "Since correlation is unit-less, it can be used to compare relationships between different pairs of variables, even if they have different units of measurement."
      ],
      "metadata": {
        "id": "JhE956j4pgMe"
      }
    },
    {
      "cell_type": "markdown",
      "source": [
        "# What are some real-world applications of statistics?\n",
        "\n",
        "-->  \n",
        "1. Business and Economics\n",
        "Market Research: Businesses use statistics to analyze consumer behavior, preferences, and trends. Surveys, focus groups, and customer feedback help companies improve products and tailor marketing strategies.\n",
        "\n",
        "  Sales Forecasting: Statistical models, like time series analysis, are used to predict future sales based on past performance, allowing businesses to plan inventory and resources.\n",
        "\n",
        "  Quality Control: Companies apply statistical methods like control charts and process optimization to ensure products meet quality standards and to identify defects in manufacturing processes.\n",
        "\n",
        "2. Healthcare and Medicine\n",
        "Clinical Trials: Statistics is used to design and analyze clinical trials, assessing the effectiveness and safety of new drugs or treatments. Hypothesis testing and confidence intervals are often used in these studies.\n",
        "\n",
        "  Epidemiology: Public health officials use statistics to track the spread of diseases (like COVID-19), identify risk factors, and predict disease outbreaks. This involves data collection, sampling, and modeling.\n",
        "\n",
        "  Medical Diagnostics: Machine learning models, which often rely on statistical techniques, are used to diagnose diseases from medical images (e.g., MRI scans) or patient data (e.g., blood tests).\n",
        "\n",
        "3. Sports\n",
        "Player Performance Analysis: Teams and analysts use statistics to evaluate player performance, track improvement over time, and develop strategies. Metrics like batting averages, shooting percentages, and player efficiency ratings are common.\n",
        "\n",
        "  Predictive Analytics: Sports analysts use statistical models to predict outcomes of games, player injuries, and team performance, aiding betting markets and team management.\n",
        "\n",
        "  Sports Science: Statistical methods are used in understanding the physical and physiological aspects of athletes, such as recovery rates, endurance, and muscle performance.\n",
        "\n",
        " 4. Social Sciences\n",
        "Psychology: Psychologists use statistics to analyze behavior, mental health conditions, and the effectiveness of therapies. Statistical techniques like factor analysis and regression models help understand patterns in human behavior.\n",
        "\n",
        "  Sociology: Sociologists use statistics to study social trends, inequalities, crime rates, education, and other societal issues. Surveys and population sampling are common methods.\n",
        "\n",
        "  Education: Education researchers use statistics to analyze test scores, educational policies, and student performance. They use tools like ANOVA and regression analysis to compare data across different schools or regions.\n",
        "\n",
        " 5. Government and Policy Making\n",
        "Census and Surveys: Governments use statistical methods to gather and analyze data about populations (e.g., national censuses, employment surveys) to make informed decisions on policies, funding, and resources.\n",
        "\n",
        "  Economic Planning: Economists use statistical tools to study national income, inflation, unemployment rates, and GDP growth. Models are used to forecast future economic conditions and recommend policies.\n",
        "\n",
        "  Crime Analysis: Law enforcement agencies use statistics to identify trends in crime, allocate resources, and evaluate the effectiveness of crime prevention programs.\n",
        "\n"
      ],
      "metadata": {
        "id": "aHK9eyC4puuI"
      }
    },
    {
      "cell_type": "code",
      "source": [
        "# How do you calculate the mean, median, and mode of a dataset?\n",
        "\n",
        "import statistics\n",
        "\n",
        "# Function to calculate Mean, Median, and Mode\n",
        "def calculate_statistics(data):\n",
        "    mean = sum(data) / len(data)\n",
        "\n",
        "    median = statistics.median(data)\n",
        "\n",
        "    try:\n",
        "        mode = statistics.mode(data)\n",
        "    except statistics.StatisticsError:\n",
        "        mode = \"No unique mode\"\n",
        "\n",
        "    return mean, median, mode\n",
        "\n",
        "data = [3, 5, 7, 10, 15]\n",
        "\n",
        "mean, median, mode = calculate_statistics(data)\n",
        "print(f\"Mean: {mean}\")\n",
        "print(f\"Median: {median}\")\n",
        "print(f\"Mode: {mode}\")\n"
      ],
      "metadata": {
        "colab": {
          "base_uri": "https://localhost:8080/"
        },
        "id": "m3qiB0bFq1Ym",
        "outputId": "852fbbda-7d59-470e-819e-8a1df7dcdcd8"
      },
      "execution_count": null,
      "outputs": [
        {
          "output_type": "stream",
          "name": "stdout",
          "text": [
            "Mean: 8.0\n",
            "Median: 7\n",
            "Mode: 3\n"
          ]
        }
      ]
    },
    {
      "cell_type": "code",
      "source": [
        "#  Write a Python program to compute the variance and standard deviation of a dataset.\n",
        "\n",
        "import statistics\n",
        "\n",
        "def compute_variance_std(data):\n",
        "    variance = statistics.variance(data)\n",
        "\n",
        "    std_dev = statistics.stdev(data)\n",
        "    return variance, std_dev\n",
        "\n",
        "data = [3, 5, 7, 10, 15]\n",
        "\n",
        "variance, std_dev = compute_variance_std(data)\n",
        "print(f\"Variance: {variance}\")\n",
        "print(f\"Standard Deviation: {std_dev}\")\n"
      ],
      "metadata": {
        "id": "dQ6NgVHkmr3g"
      },
      "execution_count": null,
      "outputs": []
    },
    {
      "cell_type": "code",
      "source": [
        "# Create a dataset and classify it into nominal, ordinal, interval, and ratio types.\n",
        "students = [\n",
        "    {\"Name\": \"A\", \"Gender\": \"Male\",   \"Grade_Level\": \"Freshman\", \"Temperature\": 36, \"Exam_Score\": 82},\n",
        "    {\"Name\": \"B\", \"Gender\": \"Female\", \"Grade_Level\": \"Sophomore\", \"Temperature\": 37, \"Exam_Score\": 90},\n",
        "    {\"Name\": \"C\", \"Gender\": \"Female\", \"Grade_Level\": \"Junior\",    \"Temperature\": 38, \"Exam_Score\": 75},\n",
        "    {\"Name\": \"D\", \"Gender\": \"Male\",   \"Grade_Level\": \"Senior\",    \"Temperature\": 36, \"Exam_Score\": 88},\n",
        "    {\"Name\": \"E\", \"Gender\": \"Female\", \"Grade_Level\": \"Freshman\",  \"Temperature\": 37, \"Exam_Score\": 95},\n",
        "]\n",
        "\n",
        "measurement_levels = {\n",
        "    \"Gender\": \"Nominal - Categorical with no order\",\n",
        "    \"Grade_Level\": \"Ordinal - Categorical with a meaningful order\",\n",
        "    \"Temperature\": \"Interval - Numeric with no true zero\",\n",
        "    \"Exam_Score\": \"Ratio - Numeric with a true zero\"\n",
        "}\n",
        "\n",
        "print(\"Dataset:\\n\")\n",
        "for student in students:\n",
        "    print(student)\n",
        "\n",
        "print(\"\\nLevel of Measurement Classification:\\n\")\n",
        "for variable, level in measurement_levels.items():\n",
        "    print(f\"{variable}: {level}\")\n"
      ],
      "metadata": {
        "id": "BE0YkgYGnar_"
      },
      "execution_count": null,
      "outputs": []
    },
    {
      "cell_type": "code",
      "source": [
        "# Implement sampling techniques like random sampling and stratified sampling.\n",
        "\n",
        "import random\n",
        "import pandas as pd\n",
        "from sklearn.model_selection import train_test_split\n",
        "\n",
        "data = {\n",
        "    \"Name\": [\"A\", \"B\", \"C\", \"D\", \"E\", \"F\", \"G\", \"H\", \"I\", \"J\"],\n",
        "    \"Gender\": [\"Male\", \"Female\", \"Female\", \"Male\", \"Female\", \"Male\", \"Female\", \"Male\", \"Female\", \"Male\"],\n",
        "    \"Grade_Level\": [\"Freshman\", \"Sophomore\", \"Junior\", \"Senior\", \"Freshman\", \"Junior\", \"Senior\", \"Sophomore\", \"Junior\", \"Senior\"]\n",
        "}\n",
        "\n",
        "df = pd.DataFrame(data)\n",
        "print(\"Original Dataset:\")\n",
        "print(df)\n",
        "\n",
        "random_sample = df.sample(n=4, random_state=1)\n",
        "print(\"\\nRandom Sample (4 students):\")\n",
        "print(random_sample)\n",
        "\n",
        "\n",
        "stratified_sample, _ = train_test_split(df, test_size=0.6, stratify=df[\"Grade_Level\"], random_state=1)\n",
        "print(\"\\nStratified Sample (40% of each Grade Level):\")\n",
        "print(stratified_sample)\n"
      ],
      "metadata": {
        "id": "Mtf77m08nlQo"
      },
      "execution_count": null,
      "outputs": []
    },
    {
      "cell_type": "code",
      "source": [
        "# Write a Python function to calculate the range of a dataset.\n",
        "\n",
        "def calculate_range(data):\n",
        "    if not data:\n",
        "        return \"Dataset is empty\"\n",
        "    data_range = max(data) - min(data)\n",
        "    return data_range\n",
        "\n",
        "# Example usage\n",
        "dataset = [3, 5, 7, 10, 15]\n",
        "result = calculate_range(dataset)\n",
        "print(result)\n"
      ],
      "metadata": {
        "colab": {
          "base_uri": "https://localhost:8080/"
        },
        "id": "H-du4lW0oPSG",
        "outputId": "fb154e1e-e335-4b27-a9f1-f82f83ef0cbf"
      },
      "execution_count": null,
      "outputs": [
        {
          "output_type": "stream",
          "name": "stdout",
          "text": [
            "12\n"
          ]
        }
      ]
    },
    {
      "cell_type": "code",
      "source": [
        "# Create a dataset and plot its histogram to visualize skewness.\n",
        "\n",
        "import numpy as np\n",
        "import matplotlib.pyplot as plt\n",
        "import seaborn as sns\n",
        "\n",
        "np.random.seed(42)\n",
        "data = np.random.exponential(scale=2, size=1000)  # Right-skewed data\n",
        "\n",
        "plt.figure(figsize=(8, 5))\n",
        "sns.histplot(data, bins=30, kde=True, color='skyblue')\n",
        "plt.title(\"Histogram of Positively Skewed Data\")\n",
        "plt.xlabel(\"Value\")\n",
        "plt.ylabel(\"Frequency\")\n",
        "plt.grid(True)\n",
        "plt.show()\n"
      ],
      "metadata": {
        "colab": {
          "base_uri": "https://localhost:8080/",
          "height": 487
        },
        "id": "RR8AfOGWoqCK",
        "outputId": "d263828f-f4ac-42a2-bef0-22ad89934afe"
      },
      "execution_count": null,
      "outputs": [
        {
          "output_type": "display_data",
          "data": {
            "text/plain": [
              "<Figure size 800x500 with 1 Axes>"
            ],
            "image/png": "[encoded data removed]"
          },
          "metadata": {}
        }
      ]
    },
    {
      "cell_type": "code",
      "source": [
        "# Calculate skewness and kurtosis of a dataset using Python libraries.\n",
        "\n",
        "import numpy as np\n",
        "import pandas as pd\n",
        "from scipy.stats import skew, kurtosis\n",
        "\n",
        "data = np.random.exponential(scale=2, size=1000)  # Positively skewed\n",
        "\n",
        "data_skewness = skew(data)\n",
        "\n",
        "data_kurtosis = kurtosis(data)\n",
        "\n",
        "print(f\"Skewness: {data_skewness:.4f}\")\n",
        "print(f\"Kurtosis: {data_kurtosis:.4f}\")\n"
      ],
      "metadata": {
        "colab": {
          "base_uri": "https://localhost:8080/"
        },
        "id": "vxUOR_qPo5gz",
        "outputId": "38a10cd7-c2ff-4088-93d4-b49e57edd46f"
      },
      "execution_count": null,
      "outputs": [
        {
          "output_type": "stream",
          "name": "stdout",
          "text": [
            "Skewness: 1.9920\n",
            "Kurtosis: 5.2361\n"
          ]
        }
      ]
    },
    {
      "cell_type": "code",
      "source": [
        "# Generate a dataset and demonstrate positive and negative skewness.\n",
        "\n",
        "import numpy as np\n",
        "import matplotlib.pyplot as plt\n",
        "import seaborn as sns\n",
        "from scipy.stats import skew\n",
        "\n",
        "# Set seed for reproducibility\n",
        "np.random.seed(42)\n",
        "\n",
        "\n",
        "positive_skew = np.random.exponential(scale=2, size=1000)\n",
        "negative_skew = -np.random.exponential(scale=2, size=1000) + 10\n",
        "\n",
        "pos_skew_value = skew(positive_skew)\n",
        "neg_skew_value = skew(negative_skew)\n",
        "\n",
        "plt.figure(figsize=(12, 5))\n",
        "\n",
        "plt.subplot(1, 2, 1)\n",
        "sns.histplot(positive_skew, bins=30, kde=True, color='skyblue')\n",
        "plt.title(f\"Positive Skewness (Right)\\nSkew = {pos_skew_value:.2f}\")\n",
        "plt.xlabel(\"Value\")\n",
        "plt.ylabel(\"Frequency\")\n",
        "\n",
        "plt.subplot(1, 2, 2)\n",
        "sns.histplot(negative_skew, bins=30, kde=True, color='salmon')\n",
        "plt.title(f\"Negative Skewness (Left)\\nSkew = {neg_skew_value:.2f}\")\n",
        "plt.xlabel(\"Value\")\n",
        "plt.ylabel(\"Frequency\")\n",
        "\n",
        "plt.tight_layout()\n",
        "plt.show()\n"
      ],
      "metadata": {
        "colab": {
          "base_uri": "https://localhost:8080/",
          "height": 506
        },
        "id": "tcrtjXKHqDoZ",
        "outputId": "aa3a369e-1a89-4b53-e9ba-60d78d2ff4a9"
      },
      "execution_count": null,
      "outputs": [
        {
          "output_type": "display_data",
          "data": {
            "text/plain": [
              "<Figure size 1200x500 with 2 Axes>"
            ],
            "image/png": "[encoded data removed]"
          },
          "metadata": {}
        }
      ]
    },
    {
      "cell_type": "code",
      "source": [
        "#  Write a Python script to calculate covariance between two datasets.\n",
        "\n",
        "def calculate_covariance(x, y):\n",
        "    if len(x) != len(y):\n",
        "        raise ValueError(\"Datasets x and y must have the same number of elements\")\n",
        "\n",
        "    n = len(x)\n",
        "    mean_x = sum(x) / n\n",
        "    mean_y = sum(y) / n\n",
        "\n",
        "    covariance = sum((x[i] - mean_x) * (y[i] - mean_y) for i in range(n)) / n\n",
        "    return covariance\n",
        "\n",
        "dataset_x = [2.1, 2.5, 3.6, 4.0]\n",
        "dataset_y = [8, 10, 12, 14]\n",
        "\n",
        "cov = calculate_covariance(dataset_x, dataset_y)\n",
        "print(f\"Covariance: {cov}\")\n",
        "\n",
        "\n"
      ],
      "metadata": {
        "id": "bGCvjWzTsRqd"
      },
      "execution_count": null,
      "outputs": []
    },
    {
      "cell_type": "code",
      "source": [
        "# Write a Python script to calculate the correlation coefficient between two datasets.\n",
        "\n",
        "def calculate_correlation(x, y):\n",
        "    if len(x) != len(y):\n",
        "        raise ValueError(\"Datasets x and y must have the same number of elements\")\n",
        "\n",
        "    n = len(x)\n",
        "    mean_x = sum(x) / n\n",
        "    mean_y = sum(y) / n\n",
        "\n",
        "    numerator = sum((x[i] - mean_x) * (y[i] - mean_y) for i in range(n))\n",
        "    denominator_x = sum((x[i] - mean_x) ** 2 for i in range(n))\n",
        "    denominator_y = sum((y[i] - mean_y) ** 2 for i in range(n))\n",
        "\n",
        "    denominator = (denominator_x * denominator_y) ** 0.5\n",
        "    if denominator == 0:\n",
        "        raise ValueError(\"Standard deviation is zero; correlation is undefined\")\n",
        "\n",
        "    correlation = numerator / denominator\n",
        "    return correlation\n",
        "\n",
        "dataset_x = [2.1, 2.5, 3.6, 4.0]\n",
        "dataset_y = [8, 10, 12, 14]\n",
        "\n",
        "corr = calculate_correlation(dataset_x, dataset_y)\n",
        "print(f\"Correlation Coefficient: {corr}\")\n"
      ],
      "metadata": {
        "id": "C_BA7rPCEBnl"
      },
      "execution_count": null,
      "outputs": []
    },
    {
      "cell_type": "code",
      "source": [
        "# Create a scatter plot to visualize the relationship between two variables.\n",
        "\n",
        "import matplotlib.pyplot as plt\n",
        "\n",
        "x = [2.1, 2.5, 3.6, 4.0, 4.5, 5.0]\n",
        "y = [8, 10, 12, 14, 16, 18]\n",
        "\n",
        "plt.scatter(x, y, color='blue', marker='o')\n",
        "plt.title('Scatter Plot of Two Variables')\n",
        "plt.xlabel('Variable X')\n",
        "plt.ylabel('Variable Y')\n",
        "plt.grid(True)\n",
        "plt.show()\n"
      ],
      "metadata": {
        "colab": {
          "base_uri": "https://localhost:8080/",
          "height": 472
        },
        "id": "Sywg7VFdEi9K",
        "outputId": "4cd4b321-5851-4161-8138-5131806e5421"
      },
      "execution_count": 1,
      "outputs": [
        {
          "output_type": "display_data",
          "data": {
            "text/plain": [
              "<Figure size 640x480 with 1 Axes>"
            ],
            "image/png": "[encoded data removed]"
          },
          "metadata": {}
        }
      ]
    },
    {
      "cell_type": "code",
      "source": [
        "#  Implement and compare simple random sampling and systematic sampling.\n",
        "\n",
        "import random\n",
        "import math\n",
        "\n",
        "def simple_random_sampling(data, sample_size):\n",
        "    return random.sample(data, sample_size)\n",
        "\n",
        "def systematic_sampling(data, sample_size):\n",
        "    step = len(data) // sample_size\n",
        "    start = random.randint(0, step - 1)\n",
        "    return [data[i] for i in range(start, len(data), step)][:sample_size]\n",
        "\n",
        "population = list(range(1, 101))  # Population of 100 elements\n",
        "sample_size = 10\n",
        "\n",
        "simple_random_sample = simple_random_sampling(population, sample_size)\n",
        "systematic_sample = systematic_sampling(population, sample_size)\n",
        "\n",
        "print(\"Simple Random Sample:\", simple_random_sample)\n",
        "print(\"Systematic Sample:\", systematic_sample)\n"
      ],
      "metadata": {
        "colab": {
          "base_uri": "https://localhost:8080/"
        },
        "id": "_icSCoY8Ew7X",
        "outputId": "19080cec-3e1f-4980-87e5-0806e10a26af"
      },
      "execution_count": 2,
      "outputs": [
        {
          "output_type": "stream",
          "name": "stdout",
          "text": [
            "Simple Random Sample: [55, 67, 72, 27, 75, 82, 44, 81, 59, 31]\n",
            "Systematic Sample: [1, 11, 21, 31, 41, 51, 61, 71, 81, 91]\n"
          ]
        }
      ]
    },
    {
      "cell_type": "code",
      "source": [
        "# Calculate the mean, median, and mode of grouped data.\n",
        "\n",
        "def mean_grouped(data):\n",
        "    total_freq = 0\n",
        "    total_fx = 0\n",
        "    for lower, upper, freq in data:\n",
        "        midpoint = (lower + upper) / 2\n",
        "        total_fx += midpoint * freq\n",
        "        total_freq += freq\n",
        "    return total_fx / total_freq\n",
        "\n",
        "def median_grouped(data):\n",
        "    data.sort()\n",
        "    cumulative_freq = []\n",
        "    total = 0\n",
        "    for _, _, freq in data:\n",
        "        total += freq\n",
        "        cumulative_freq.append(total)\n",
        "\n",
        "    n = total\n",
        "    median_class_index = next(i for i, cf in enumerate(cumulative_freq) if cf >= n / 2)\n",
        "\n",
        "    L = data[median_class_index][0]\n",
        "    F = data[median_class_index][2]\n",
        "    h = data[median_class_index][1] - data[median_class_index][0]\n",
        "    cf_before = cumulative_freq[median_class_index - 1] if median_class_index > 0 else 0\n",
        "\n",
        "    median = L + ((n / 2 - cf_before) / F) * h\n",
        "    return median\n",
        "\n",
        "def mode_grouped(data):\n",
        "    data.sort(key=lambda x: x[2])\n",
        "    modal_class_index = len(data) - 1\n",
        "    L = data[modal_class_index][0]\n",
        "    f1 = data[modal_class_index][2]\n",
        "    f0 = data[modal_class_index - 1][2] if modal_class_index > 0 else 0\n",
        "    f2 = data[modal_class_index + 1][2] if modal_class_index < len(data) - 1 else 0\n",
        "    h = data[modal_class_index][1] - data[modal_class_index][0]\n",
        "\n",
        "    mode = L + ((f1 - f0) / ((f1 - f0) + (f1 - f2))) * h if (f1 - f0) + (f1 - f2) != 0 else L\n",
        "    return mode\n",
        "\n",
        "grouped_data = [\n",
        "    (0, 10, 5),\n",
        "    (10, 20, 8),\n",
        "    (20, 30, 15),\n",
        "    (30, 40, 16),\n",
        "    (40, 50, 6),\n",
        "]\n",
        "\n",
        "mean = mean_grouped(grouped_data)\n",
        "median = median_grouped(grouped_data)\n",
        "mode = mode_grouped(grouped_data)\n",
        "\n",
        "print(f\"Mean: {mean}\")\n",
        "print(f\"Median: {median}\")\n",
        "print(f\"Mode: {mode}\")\n"
      ],
      "metadata": {
        "id": "4zahzslcE_Zp"
      },
      "execution_count": null,
      "outputs": []
    },
    {
      "cell_type": "code",
      "source": [
        "# Simulate data using Python and calculate its central tendency and dispersion.\n",
        "\n",
        "import numpy as np\n",
        "import scipy.stats as stats\n",
        "\n",
        "\n",
        "np.random.seed(42)  # For reproducibility\n",
        "data = np.random.normal(loc=50, scale=10, size=1000)  # mean=50, std=10, n=1000\n",
        "\n",
        "mean = np.mean(data)\n",
        "median = np.median(data)\n",
        "mode = stats.mode(data, keepdims=False).mode\n",
        "\n",
        "data_range = np.ptp(data)\n",
        "variance = np.var(data)\n",
        "std_dev = np.std(data)\n",
        "iqr = stats.iqr(data)\n",
        "\n",
        "print(f\"Mean: {mean:.2f}\")\n",
        "print(f\"Median: {median:.2f}\")\n",
        "print(f\"Mode: {mode:.2f}\")\n",
        "print(f\"Range: {data_range:.2f}\")\n",
        "print(f\"Variance: {variance:.2f}\")\n",
        "print(f\"Standard Deviation: {std_dev:.2f}\")\n",
        "print(f\"IQR (Interquartile Range): {iqr:.2f}\")\n"
      ],
      "metadata": {
        "id": "Mf7V6rG4FeqR"
      },
      "execution_count": null,
      "outputs": []
    },
    {
      "cell_type": "code",
      "source": [
        "# Use NumPy or pandas to summarize a dataset’s descriptive statistics.\n",
        "\n",
        "import pandas as pd\n",
        "\n",
        "data = {\n",
        "    'Age': [25, 30, 22, 28, 35, 40, 29, 32, 31, 38],\n",
        "    'Salary': [40000, 50000, 38000, 45000, 60000, 75000, 47000, 52000, 51000, 68000]\n",
        "}\n",
        "\n",
        "df = pd.DataFrame(data)\n",
        "\n",
        "summary = df.describe()\n",
        "\n",
        "print(\"Descriptive Statistics (pandas):\")\n",
        "print(summary)\n"
      ],
      "metadata": {
        "id": "nb4gFDngFyS9"
      },
      "execution_count": null,
      "outputs": []
    },
    {
      "cell_type": "code",
      "source": [
        "# Plot a boxplot to understand the spread and identify outliers.\n",
        "\n",
        "import matplotlib.pyplot as plt\n",
        "import seaborn as sns\n",
        "import numpy as np\n",
        "\n",
        "np.random.seed(42)\n",
        "data = np.random.normal(loc=50, scale=10, size=100)\n",
        "\n",
        "plt.figure(figsize=(8, 5))\n",
        "sns.boxplot(data=data, color=\"skyblue\")\n",
        "\n",
        "plt.title(\"Boxplot of Sample Data\")\n",
        "plt.xlabel(\"Values\")\n",
        "\n",
        "plt.grid(True)\n",
        "plt.show()\n"
      ],
      "metadata": {
        "id": "yPgkwN06GBLR"
      },
      "execution_count": null,
      "outputs": []
    },
    {
      "cell_type": "code",
      "source": [
        "# Calculate the interquartile range (IQR) of a dataset.\n",
        "\n",
        "import numpy as np\n",
        "\n",
        "data = [12, 15, 14, 10, 18, 20, 25, 30, 22, 24]\n",
        "\n",
        "data = np.array(data)\n",
        "\n",
        "q1 = np.percentile(data, 25)\n",
        "q3 = np.percentile(data, 75)\n",
        "\n",
        "iqr = q3 - q1\n",
        "\n",
        "print(f\"Q1 (25th percentile): {q1}\")\n",
        "print(f\"Q3 (75th percentile): {q3}\")\n",
        "print(f\"IQR: {iqr}\")\n"
      ],
      "metadata": {
        "id": "4URzHFGkGRiG"
      },
      "execution_count": null,
      "outputs": []
    },
    {
      "cell_type": "code",
      "source": [
        "# Implement Z-score normalization and explain its significance\n",
        "\n",
        "import numpy as np\n",
        "\n",
        "data = np.array([10, 12, 14, 16, 18, 20, 22, 24])\n",
        "\n",
        "mean = np.mean(data)\n",
        "std_dev = np.std(data)\n",
        "\n",
        "z_scores = (data - mean) / std_dev\n",
        "\n",
        "print(\"Original Data:\", data)\n",
        "print(\"Z-Score Normalized Data:\", z_scores)\n"
      ],
      "metadata": {
        "id": "fG53CWJUGe3m"
      },
      "execution_count": null,
      "outputs": []
    },
    {
      "cell_type": "code",
      "source": [
        "# Compare two datasets using their standard deviations.\n",
        "\n",
        "import numpy as np\n",
        "\n",
        "dataset_1 = [12, 15, 14, 10, 18, 20, 25, 30, 22, 24]\n",
        "dataset_2 = [40, 45, 48, 50, 49, 47, 51, 52, 53, 55]\n",
        "\n",
        "std_dev_1 = np.std(dataset_1)\n",
        "std_dev_2 = np.std(dataset_2)\n",
        "\n",
        "print(f\"Standard Deviation of Dataset 1: {std_dev_1:.2f}\")\n",
        "print(f\"Standard Deviation of Dataset 2: {std_dev_2:.2f}\")\n",
        "\n",
        "if std_dev_1 > std_dev_2:\n",
        "    print(\"Dataset 1 has more variability.\")\n",
        "elif std_dev_1 < std_dev_2:\n",
        "    print(\"Dataset 2 has more variability.\")\n",
        "else:\n",
        "    print(\"Both datasets have the same variability.\")\n"
      ],
      "metadata": {
        "id": "y3B0IV0uGt-9"
      },
      "execution_count": null,
      "outputs": []
    },
    {
      "cell_type": "code",
      "source": [
        "# Write a Python program to visualize covariance using a heatmap.\n",
        "\n",
        "import numpy as np\n",
        "import pandas as pd\n",
        "import seaborn as sns\n",
        "import matplotlib.pyplot as plt\n",
        "\n",
        "data = {\n",
        "    'X': [2.1, 2.5, 3.6, 4.0, 5.2],\n",
        "    'Y': [8, 10, 12, 14, 16],\n",
        "    'Z': [1, 4, 6, 8, 9]\n",
        "}\n",
        "\n",
        "df = pd.DataFrame(data)\n",
        "\n",
        "cov_matrix = df.cov()\n",
        "\n",
        "plt.figure(figsize=(8, 6))\n",
        "sns.heatmap(cov_matrix, annot=True, cmap='coolwarm', fmt='.2f', linewidths=1)\n",
        "plt.title('Covariance Matrix Heatmap')\n",
        "plt.show()\n"
      ],
      "metadata": {
        "id": "3pThoKz4G6ZP"
      },
      "execution_count": null,
      "outputs": []
    },
    {
      "cell_type": "code",
      "source": [
        "# Use seaborn to create a correlation matrix for a dataset.\n",
        "\n",
        "import seaborn as sns\n",
        "import matplotlib.pyplot as plt\n",
        "import pandas as pd\n",
        "\n",
        "data = {\n",
        "    'X': [2.1, 2.5, 3.6, 4.0, 5.2],\n",
        "    'Y': [8, 10, 12, 14, 16],\n",
        "    'Z': [1, 4, 6, 8, 9]\n",
        "}\n",
        "\n",
        "\n",
        "df = pd.DataFrame(data)\n",
        "\n",
        "corr_matrix = df.corr()\n",
        "\n",
        "plt.figure(figsize=(8, 6))\n",
        "sns.heatmap(corr_matrix, annot=True, cmap='coolwarm', fmt='.2f', linewidths=1)\n",
        "plt.title('Correlation Matrix Heatmap')\n",
        "plt.show()\n"
      ],
      "metadata": {
        "id": "dqFtFEFVHPSM"
      },
      "execution_count": null,
      "outputs": []
    },
    {
      "cell_type": "code",
      "source": [
        "#  Generate a dataset and implement both variance and standard deviation computations.\n",
        "\n",
        "import numpy as np\n",
        "import pandas as pd\n",
        "\n",
        "np.random.seed(42)\n",
        "data = np.random.normal(loc=50, scale=10, size=1000)\n",
        "\n",
        "df = pd.DataFrame(data, columns=[\"Value\"])\n",
        "\n",
        "variance = np.var(df[\"Value\"])\n",
        "std_deviation = np.std(df[\"Value\"])\n",
        "\n",
        "variance, std_deviation\n"
      ],
      "metadata": {
        "id": "feNbTIv0Hh2S"
      },
      "execution_count": null,
      "outputs": []
    },
    {
      "cell_type": "code",
      "source": [
        "# Visualize skewness and kurtosis using Python libraries like matplotlib or seaborn.\n",
        "\n",
        "import numpy as np\n",
        "import pandas as pd\n",
        "import seaborn as sns\n",
        "import matplotlib.pyplot as plt\n",
        "from scipy.stats import skew, kurtosis\n",
        "\n",
        "\n",
        "np.random.seed(42)\n",
        "data = np.random.normal(loc=50, scale=10, size=1000)\n",
        "\n",
        "df = pd.DataFrame(data, columns=[\"Value\"])\n",
        "\n",
        "data_skewness = skew(df[\"Value\"])\n",
        "data_kurtosis = kurtosis(df[\"Value\"])\n",
        "\n",
        "plt.figure(figsize=(12, 6))\n",
        "\n",
        "plt.subplot(1, 2, 1)\n",
        "sns.histplot(df[\"Value\"], kde=True, color=\"skyblue\", bins=30)\n",
        "plt.title(f\"Histogram with Skewness = {data_skewness:.2f}\")\n",
        "\n",
        "plt.subplot(1, 2, 2)\n",
        "sns.qqplot(df[\"Value\"], line=\"45\")\n",
        "plt.title(f\"Q-Q Plot\\nKurtosis = {data_kurtosis:.2f}\")\n",
        "\n",
        "plt.tight_layout()\n",
        "plt.show()\n",
        "\n",
        "print(f\"Skewness: {data_skewness:.2f}\")\n",
        "print(f\"Kurtosis: {data_kurtosis:.2f}\")\n"
      ],
      "metadata": {
        "id": "3VCmsnbbIBs2"
      },
      "execution_count": null,
      "outputs": []
    },
    {
      "cell_type": "code",
      "source": [
        "# Implement the Pearson and Spearman correlation coefficients for a dataset.\n",
        "\n",
        "import numpy as np\n",
        "import pandas as pd\n",
        "from scipy.stats import pearsonr, spearmanr\n",
        "\n",
        "# Sample data\n",
        "data = {\n",
        "    'X': [2.1, 2.5, 3.6, 4.0, 5.2],\n",
        "    'Y': [8, 10, 12, 14, 16],\n",
        "    'Z': [1, 4, 6, 8, 9]\n",
        "}\n",
        "\n",
        "df = pd.DataFrame(data)\n",
        "\n",
        "pearson_corr, _ = pearsonr(df['X'], df['Y'])\n",
        "print(f\"Pearson Correlation (X, Y): {pearson_corr:.2f}\")\n",
        "\n",
        "spearman_corr, _ = spearmanr(df['X'], df['Y'])\n",
        "print(f\"Spearman Correlation (X, Y): {spearman_corr:.2f}\")\n",
        "\n",
        "corr_matrix = df.corr()\n",
        "print(\"\\nCorrelation Matrix (Pearson):\")\n",
        "print(corr_matrix)\n",
        "\n",
        "spearman_matrix = df.corr(method='spearman')\n",
        "print(\"\\nSpearman Correlation Matrix:\")\n",
        "print(spearman_matrix)\n"
      ],
      "metadata": {
        "id": "KN7Zxia7IYJ2"
      },
      "execution_count": null,
      "outputs": []
    }
  ]
}