{
  "nbformat": 4,
  "nbformat_minor": 0,
  "metadata": {
    "colab": {
      "provenance": []
    },
    "kernelspec": {
      "name": "python3",
      "display_name": "Python 3"
    },
    "language_info": {
      "name": "python"
    }
  },
  "cells": [
    {
      "cell_type": "markdown",
      "source": [
        "# What are data structures, and why are they important?\n",
        "\n",
        "--> Data structures are ways of organizing, storing, and managing data efficiently so that operations like searching, inserting, deleting, and updating can be performed effectively. They are the foundation of programming and algorithms. Importance of data structure are:\n",
        "\n",
        "Efficiency - They help optimize memory usage and processing time.\n",
        "Scalability - Good data structures allow applications to handle large amounts of data efficiently.\n",
        "Code Organization - They help in structuring and managing complex data logically.\n",
        "Faster Processing - Proper data structures improve the speed of operations like searching (e.g., binary search trees) or sorting (e.g., heaps).\n",
        "Real-world Applications - Used in databases, operating systems, AI, networking, etc.\n"
      ],
      "metadata": {
        "id": "emP1vk-pWKHI"
      }
    },
    {
      "cell_type": "markdown",
      "source": [
        "# Explain the difference between mutable and immutable data types with examples\n",
        "\n",
        "--> Mutable data types: These are those data types that can be modified after creation. Examples- Lists, Dictionaries, etc.\n",
        "\n",
        "Immutable data types: These are those data types that can not be modified after creation. Examples- Strings, Tuples, etc."
      ],
      "metadata": {
        "id": "V_Q7Im-oW_ZZ"
      }
    },
    {
      "cell_type": "markdown",
      "source": [
        "# What are the main differences between lists and tuples in Python?\n",
        "\n",
        "--> In Python 3, lists and tuples are both used to store collections of elements, but they have distinct characteristics. A list is a mutable data structure, meaning its elements can be modified, added, or removed after creation. Lists are defined using square brackets ([]) and provide various methods like append(), remove(), and pop(). On the other hand, a tuple is immutable, meaning its elements cannot be changed once assigned. Tuples are defined using parentheses (()) and have fewer built-in methods compared to lists. Because of their immutability, tuples are more memory-efficient and faster in iteration, making them ideal for storing fixed data. Additionally, tuples can be used as dictionary keys if they contain only immutable elements, while lists cannot. The choice between a list and a tuple depends on whether the data needs to be modified, with lists being preferable for dynamic collections and tuples for fixed or read-only data."
      ],
      "metadata": {
        "id": "Z_znknh8ZkWL"
      }
    },
    {
      "cell_type": "markdown",
      "source": [
        "# Describe how dictionaries store data.\n",
        "\n",
        "--> In Python, dictionaries store data as key-value pairs using a hash table implementation. Each key in a dictionary is unique and is mapped to a corresponding value. The dictionary uses a hashing function to compute an index for each key, allowing for fast lookups, insertions, and deletions (on average, O(1) time complexity).\n",
        "\n",
        "Working of Storing of Data:\n",
        "Hashing Mechanism: When a key is added, Python applies a hash function to generate a unique hash value, which determines where the key-value pair is stored in memory.\n",
        "Buckets: The dictionary maintains an internal structure called buckets (or slots), where key-value pairs are stored.\n",
        "Collision Handling: If two keys hash to the same index (hash collision), Python uses techniques like open addressing or chaining to resolve conflicts.\n",
        "Dynamic Resizing: Python dictionaries automatically resize when they reach a certain load factor (to maintain efficiency), reallocating elements to a larger space.\n",
        "Ordered Storage: Since Python 3.7+, dictionaries maintain insertion order, meaning items are retrieved in the order they were added."
      ],
      "metadata": {
        "id": "z9wvDnMwisQ9"
      }
    },
    {
      "cell_type": "markdown",
      "source": [
        "# Why might you use a set instead of a list in Python?\n",
        "\n",
        "--> 1.Uniqueness:\n",
        "Sets automatically remove duplicate values, ensuring all elements are distinct.\n",
        "If you need a collection of unique items, a set is more efficient than manually filtering a list.\n",
        "\n",
        "2.Faster Membership Tests (in operator):\n",
        "Checking if an item exists in a set is O(1) on average, thanks to its hash table implementation.\n",
        "Checking membership in a list is O(n) since it requires scanning the entire list.\n",
        "\n",
        "3.Set Operations (Union, Intersection, Difference):\n",
        "Sets support mathematical operations like union (|), intersection (&), and difference (-), which are much faster than using loops with lists.\n",
        "\n"
      ],
      "metadata": {
        "id": "jsXbdF9xjJ9j"
      }
    },
    {
      "cell_type": "markdown",
      "source": [
        "# What is a string in Python, and how is it different from a list?\n",
        "\n",
        "A string in Python is a sequence of characters enclosed in quotes (' ', \" \", ''' ''', or \"\"\" \"\"\"). Strings are immutable, meaning they cannot be changed after creation.\n",
        "\n",
        "Strings are diferent from list as they are immutables and lists are mutables."
      ],
      "metadata": {
        "id": "HhoQJV3Olqg4"
      }
    },
    {
      "cell_type": "markdown",
      "source": [
        "# How do tuples ensure data integrity in Python?\n",
        "\n",
        "Tuples in Python help ensure data integrity by being immutable, meaning their elements cannot be changed after creation. This immutability provides several advantages when it comes to maintaining the consistency and reliability of data.Tuples are also great for storing fixed data that should not change, such as configurations, coordinates, or database records."
      ],
      "metadata": {
        "id": "KbttgETOnQDM"
      }
    },
    {
      "cell_type": "markdown",
      "source": [
        "# What is a hash table, and how does it relate to dictionaries in Python?\n",
        "\n",
        "-->A hash table is a data structure that stores key-value pairs and allows for fast data retrieval. It uses a hash function to compute an index (or hash code) for each key, which determines where the corresponding value is stored in an array. This allows for average O(1) time complexity for lookups, insertions, and deletions.\n",
        "\n",
        "How Hash Tables Relate to Dictionaries in Python\n",
        "In Python 3, the built-in dict (dictionary) is implemented using a hash table. Here’s how they relate:\n",
        "\n",
        "Fast Lookups - Because dictionaries use a hash table under the hood, retrieving a value from a dictionary by its key is very fast (on average O(1) time complexity).\n",
        "\n",
        "Key Uniqueness - Each key in a dictionary must be unique because it acts as an index in the hash table.\n",
        "\n",
        "Handling Collisions - Hash tables need a way to handle collisions (when two keys produce the same hash). Python’s dictionaries handle collisions using a technique called open addressing (specifically, perturbation-based probing).\n",
        "\n",
        "Order Preservation - Since Python 3.7+, dictionaries maintain the insertion order of keys, meaning that when you iterate over a dictionary, the items appear in the order they were added."
      ],
      "metadata": {
        "id": "dUXWofzHdUjv"
      }
    },
    {
      "cell_type": "markdown",
      "source": [
        "# Can lists contain different data types in Python?\n",
        "\n",
        "--> YES"
      ],
      "metadata": {
        "id": "ocTcsyPndwmu"
      }
    },
    {
      "cell_type": "markdown",
      "source": [
        "# Explain why strings are immutable in Python?\n",
        "\n",
        "--> Reasons for String Immutability\n",
        "Memory Efficiency: Strings are commonly used in programs. Immutability allows Python to store and reuse the same string in memory instead of creating multiple copies. Python interns some strings (especially short or frequently used ones), meaning that identical string literals point to the same memory location.\n",
        "\n",
        "Performance Optimization: Because strings are immutable, they can be hashed, making them usable as dictionary keys and set elements.\n",
        "If strings were mutable, changing a string used as a dictionary key would make the hash invalid, leading to unexpected behavior.\n",
        "\n",
        "Thread Safety: Since multiple threads can safely read a string without worrying about changes, immutability prevents data corruption in multi-threaded programs.\n",
        "\n",
        "Avoids Unintended Side Effects: If a string were mutable, modifying a substring within a list or function could unintentionally affect other parts of the program that reference the same string."
      ],
      "metadata": {
        "id": "rGijjQ4Iew04"
      }
    },
    {
      "cell_type": "markdown",
      "source": [
        "# What advantages do dictionaries offer over lists for certain tasks?\n",
        "\n",
        "--> Dictionaries (dict) offer several advantages over lists (list) for certain tasks, especially when dealing with key-value lookups, fast access, and structured data storage. Here’s why dictionaries can be preferable:\n",
        "\n",
        "1. Faster Lookups (O(1) vs. O(n))\n",
        "Dictionaries use a hash table under the hood, allowing average O(1) time complexity for retrieving values by key.\n",
        "Lists, on the other hand, require O(n) time complexity for searching an element unless the index is known.\n",
        "\n",
        "2. More Readable & Intuitive Data Organization\n",
        "If data is naturally structured as key-value pairs, a dictionary provides better organization.\n",
        "Lists only store sequential values without explicit labels.\n",
        "\n",
        "3. Avoiding Duplicates & Enforcing Uniqueness\n",
        "Dictionaries enforce unique keys, preventing duplicate data.\n",
        "Lists allow duplicate values without restriction."
      ],
      "metadata": {
        "id": "W3DApi7CgNt_"
      }
    },
    {
      "cell_type": "markdown",
      "source": [
        "# Describe a scenario where using a tuple would be preferable over a list.\n",
        "\n",
        "--> Imagine you are developing a navigation app that stores GPS coordinates for locations. Since coordinates should never change once they are set, a tuple is a better choice than a list."
      ],
      "metadata": {
        "id": "GnT76SqSsZ_Z"
      }
    },
    {
      "cell_type": "markdown",
      "source": [
        "# How do sets handle duplicate values in Python?\n",
        "\n",
        "--> In Python 3, sets automatically eliminate duplicate values because they are implemented as unordered collections of unique elements. If you try to add a duplicate, Python simply ignores it.\n",
        "\n",
        "How Sets Handle Duplicates Internally\n",
        "Sets use a hash table, meaning each value is stored based on its hash.\n",
        "When a new element is added, Python checks its hash:\n",
        "\n",
        "  -If it already exists, it is ignored.\n",
        "  \n",
        "  -If it's new, it gets stored."
      ],
      "metadata": {
        "id": "Gxjb1TYVf9Dt"
      }
    },
    {
      "cell_type": "markdown",
      "source": [
        "# How does the “in” keyword work differently for lists and dictionaries?\n",
        "\n",
        "--> When used with a list, in checks if a given value exists by iterating through the entire list (linear search). This means the time complexity is O(n) in the worst case.\n",
        "\n",
        "--> hen used with a dictionary, in checks for the presence of a key, NOT a value. Since dictionaries use hash tables, lookups are much faster on average (O(1) time complexity).\n",
        "\n",
        "\n",
        "\n",
        "\n"
      ],
      "metadata": {
        "id": "geb7BqbSudk5"
      }
    },
    {
      "cell_type": "markdown",
      "source": [
        "# Can you modify the elements of a tuple? Explain why or why not\n",
        "\n",
        "--> No, tuples are immutable in Python, meaning once they are created, their elements cannot be modified, added, or removed.\n",
        "\n",
        "Tuples are Immutable due to following reasons:\n",
        "\n",
        "Memory Efficiency – Tuples require less memory because they do not need dynamic resizing like lists.\n",
        "\n",
        "Performance Optimization – Since tuples are immutable, Python can optimize their storage and access, making them slightly faster than lists.\n",
        "\n",
        "Data Integrity – Ensures that data remains unchanged, which is useful in scenarios where stability is required (e.g., database keys, function returns).\n",
        "\n"
      ],
      "metadata": {
        "id": "-3bYJCIk0nyY"
      }
    },
    {
      "cell_type": "markdown",
      "source": [
        "# What is a nested dictionary, and give an example of its use case?\n",
        "\n",
        "--> A nested dictionary is a dictionary where one or more values are dictionaries themselves. This allows for multi-level data organization, making it useful for storing structured data like JSON.\n",
        "\n",
        "Example Use Case: Storing Student Records,\n",
        "A school database could use a nested dictionary to store student information, where each student has a unique ID, and their details are stored in another dictionary."
      ],
      "metadata": {
        "id": "o25d8RQC1Zt7"
      }
    },
    {
      "cell_type": "markdown",
      "source": [
        "# Describe the time complexity of accessing elements in a dictionary.\n",
        "\n",
        "--> Dictionary lookups (dict[key]) are O(1) on average because Python computes a hash for the key and directly accesses the corresponding value.\n"
      ],
      "metadata": {
        "id": "s6HKrl-L2mEs"
      }
    },
    {
      "cell_type": "markdown",
      "source": [
        "# In what situations are lists preferred over dictionaries?\n",
        "\n",
        "When You Need Ordered, Indexed Data (Positional Access)\n",
        "Lists maintain order and allow direct access by index, which makes them great for sequentially stored data.\n",
        "Dictionaries store key-value pairs, but before Python 3.7, they did not guarantee order."
      ],
      "metadata": {
        "id": "drWUp3f_4cTR"
      }
    },
    {
      "cell_type": "markdown",
      "source": [
        "#  Why are dictionaries considered unordered, and how does that affect data retrieval?\n",
        "\n",
        "--> Before Python 3.7, dictionaries in Python were considered unordered because they used a hash table to store key-value pairs, meaning the order of insertion was not necessarily the order of retrieval. This could cause inconsistencies when iterating over dictionary elements. However, starting from Python 3.7, dictionaries began preserving insertion order as an implementation detail, and in Python 3.8, this behavior was officially guaranteed. Despite this change, dictionary lookups remain O(1) on average, thanks to their underlying hash table structure, making them significantly faster than lists for key-based searches. While older versions of Python required OrderedDict from the collections module to maintain order, modern Python versions no longer need this workaround. The transition to ordered dictionaries improves data predictability, making them even more useful for tasks involving structured data retrieval and iteration."
      ],
      "metadata": {
        "id": "T-36A1R74inS"
      }
    },
    {
      "cell_type": "markdown",
      "source": [
        "# Explain the difference between a list and a dictionary in terms of data retrieval.\n",
        "\n",
        "--> Lists are ideal when order matters, and data is accessed by position, while dictionaries are best for fast lookups using keys. If you need to retrieve values frequently based on a unique identifier, a dictionary is the better choice for efficiency. However, if you need an ordered collection of elements, a list is the simpler choice."
      ],
      "metadata": {
        "id": "-NoRa0H15Ebh"
      }
    },
    {
      "cell_type": "code",
      "source": [
        "# Write a code to create a string with your name and print it\n",
        "\n",
        "string = \"Happy life\"\n",
        "print(string)"
      ],
      "metadata": {
        "colab": {
          "base_uri": "https://localhost:8080/"
        },
        "id": "99wSjTnP5qq8",
        "outputId": "2929a60d-91c8-421c-bf16-e9dddbfcf541"
      },
      "execution_count": 1,
      "outputs": [
        {
          "output_type": "stream",
          "name": "stdout",
          "text": [
            "Happy life\n"
          ]
        }
      ]
    },
    {
      "cell_type": "code",
      "source": [
        "# Write a code to find the length of the string \"Hello World\"\n",
        "\n",
        "string = \"Hello World\"\n",
        "print(len(string))"
      ],
      "metadata": {
        "colab": {
          "base_uri": "https://localhost:8080/"
        },
        "id": "UXVKYhsh51t8",
        "outputId": "39ffd98a-8973-4a0e-a553-9c21177c98fb"
      },
      "execution_count": 2,
      "outputs": [
        {
          "output_type": "stream",
          "name": "stdout",
          "text": [
            "11\n"
          ]
        }
      ]
    },
    {
      "cell_type": "code",
      "source": [
        "# Write a code to slice the first 3 characters from the string \"Python Programming\"\n",
        "\n",
        "string = \"Python Programming\"\n",
        "print(string[0:3])"
      ],
      "metadata": {
        "colab": {
          "base_uri": "https://localhost:8080/"
        },
        "id": "R5Ye35T_6D3U",
        "outputId": "70459c79-230b-481b-99b7-def60296325b"
      },
      "execution_count": 3,
      "outputs": [
        {
          "output_type": "stream",
          "name": "stdout",
          "text": [
            "Pyt\n"
          ]
        }
      ]
    },
    {
      "cell_type": "code",
      "source": [
        "# Write a code to convert the string \"hello\" to uppercase\n",
        "string = \"hello\"\n",
        "print(string.upper())"
      ],
      "metadata": {
        "colab": {
          "base_uri": "https://localhost:8080/"
        },
        "id": "sCK94S8z6P84",
        "outputId": "c97fec8b-767f-4b82-861d-cc4a1fea60ea"
      },
      "execution_count": 8,
      "outputs": [
        {
          "output_type": "stream",
          "name": "stdout",
          "text": [
            "HELLO\n"
          ]
        }
      ]
    },
    {
      "cell_type": "code",
      "source": [
        "# Write a code to replace the word \"apple\" with \"orange\" in the string \"I like apple\"\n",
        "\n",
        "string = \"I like apple\"\n",
        "how = string.replace(\"apple\",\"orange\")\n",
        "print(how)"
      ],
      "metadata": {
        "colab": {
          "base_uri": "https://localhost:8080/"
        },
        "id": "udpLRvLD6bZp",
        "outputId": "c1bba4bb-06c7-4f3c-e004-11aad51a4314"
      },
      "execution_count": 9,
      "outputs": [
        {
          "output_type": "stream",
          "name": "stdout",
          "text": [
            "I like orange\n"
          ]
        }
      ]
    },
    {
      "cell_type": "code",
      "source": [
        "# Write a code to create a list with numbers 1 to 5 and print itP\n",
        "lst = [1,2,3,4,5]\n",
        "print(lst)"
      ],
      "metadata": {
        "colab": {
          "base_uri": "https://localhost:8080/"
        },
        "id": "DY22Pmxj7jop",
        "outputId": "3df0b324-0027-4b19-8303-9c0e74c4f09f"
      },
      "execution_count": 10,
      "outputs": [
        {
          "output_type": "stream",
          "name": "stdout",
          "text": [
            "[1, 2, 3, 4, 5]\n"
          ]
        }
      ]
    },
    {
      "cell_type": "code",
      "source": [
        "lst = [1,2,3,4]\n",
        "lst.append(10)\n",
        "print(lst)"
      ],
      "metadata": {
        "colab": {
          "base_uri": "https://localhost:8080/"
        },
        "id": "U6q5xtXg7pzq",
        "outputId": "b735be93-739d-4866-c8a1-ca26e9b89322"
      },
      "execution_count": 14,
      "outputs": [
        {
          "output_type": "stream",
          "name": "stdout",
          "text": [
            "[1, 2, 3, 4, 10]\n"
          ]
        }
      ]
    },
    {
      "cell_type": "code",
      "source": [
        "lst = [1,2,3,4,5]\n",
        "lst.remove(3)\n",
        "print(lst)\n"
      ],
      "metadata": {
        "colab": {
          "base_uri": "https://localhost:8080/"
        },
        "id": "rJitVFEZ7_0U",
        "outputId": "722b385e-d5cd-4860-cf91-fb5229f73aa0"
      },
      "execution_count": 15,
      "outputs": [
        {
          "output_type": "stream",
          "name": "stdout",
          "text": [
            "[1, 2, 4, 5]\n"
          ]
        }
      ]
    },
    {
      "cell_type": "code",
      "source": [
        "lst = ['a','b','c','d']\n",
        "print(lst[1])"
      ],
      "metadata": {
        "colab": {
          "base_uri": "https://localhost:8080/"
        },
        "id": "eEYEnxFS8XIS",
        "outputId": "55ed7101-025f-4bb5-ba57-1e219726567c"
      },
      "execution_count": 16,
      "outputs": [
        {
          "output_type": "stream",
          "name": "stdout",
          "text": [
            "c\n"
          ]
        }
      ]
    },
    {
      "cell_type": "code",
      "source": [
        "lst = [10,20,30,40,50]\n",
        "lst.reverse()\n",
        "print(lst)"
      ],
      "metadata": {
        "colab": {
          "base_uri": "https://localhost:8080/"
        },
        "id": "ixqjSINs8lea",
        "outputId": "54a89d59-a69f-43d4-80cc-fe96827a47df"
      },
      "execution_count": 17,
      "outputs": [
        {
          "output_type": "stream",
          "name": "stdout",
          "text": [
            "[50, 40, 30, 20, 10]\n"
          ]
        }
      ]
    },
    {
      "cell_type": "code",
      "source": [
        "tup = (100,200,300)\n",
        "print(tup)"
      ],
      "metadata": {
        "colab": {
          "base_uri": "https://localhost:8080/"
        },
        "id": "WVmETLOv82P-",
        "outputId": "67543fd1-05b0-4b7d-b75e-ce441a018cd3"
      },
      "execution_count": 18,
      "outputs": [
        {
          "output_type": "stream",
          "name": "stdout",
          "text": [
            "(100, 200, 300)\n"
          ]
        }
      ]
    },
    {
      "cell_type": "code",
      "source": [
        "tup = ('red','green','blue','yellow')\n",
        "print(tup[-2])"
      ],
      "metadata": {
        "colab": {
          "base_uri": "https://localhost:8080/"
        },
        "id": "MFqVJa1x9hH1",
        "outputId": "02d7a00a-5c59-4539-a900-462b3475c593"
      },
      "execution_count": 19,
      "outputs": [
        {
          "output_type": "stream",
          "name": "stdout",
          "text": [
            "blue\n"
          ]
        }
      ]
    },
    {
      "cell_type": "code",
      "source": [
        "tup = (10,20,5,15)\n",
        "\n",
        "min_i = tup[0]\n",
        "def happy(tup):\n",
        "  for i in range(len(tup)-1):\n",
        "    if tup[i] > tup[i+1]:\n",
        "      min_i = tup[i+1]\n",
        "      print(min_i)\n",
        "happy(tup)\n"
      ],
      "metadata": {
        "colab": {
          "base_uri": "https://localhost:8080/"
        },
        "id": "fD8EJahn96aD",
        "outputId": "1be3320f-7aec-491b-accf-4816fe1de585"
      },
      "execution_count": 35,
      "outputs": [
        {
          "output_type": "stream",
          "name": "stdout",
          "text": [
            "5\n"
          ]
        }
      ]
    },
    {
      "cell_type": "code",
      "source": [
        "tup = ('dog','cat','rabbit')\n",
        "\n",
        "h = tup.index('cat')\n",
        "print(h)"
      ],
      "metadata": {
        "colab": {
          "base_uri": "https://localhost:8080/"
        },
        "id": "oRMTXq1XHTmX",
        "outputId": "7fc9f6c7-509e-4d6a-9b95-b3b4941dc509"
      },
      "execution_count": 36,
      "outputs": [
        {
          "output_type": "stream",
          "name": "stdout",
          "text": [
            "1\n"
          ]
        }
      ]
    },
    {
      "cell_type": "code",
      "source": [
        "fruits = (\"apple\", \"banana\", \"cherry\")\n",
        "\n",
        "if \"kiwi\" in fruits:\n",
        "    print(\"Kiwi is in the tuple!\")\n",
        "else:\n",
        "    print(\"Kiwi is NOT in the tuple.\")\n"
      ],
      "metadata": {
        "colab": {
          "base_uri": "https://localhost:8080/"
        },
        "id": "LLeO4a29JeV3",
        "outputId": "80d0534e-56ce-460a-e142-8ecfb9449072"
      },
      "execution_count": 37,
      "outputs": [
        {
          "output_type": "stream",
          "name": "stdout",
          "text": [
            "Kiwi is NOT in the tuple.\n"
          ]
        }
      ]
    },
    {
      "cell_type": "code",
      "source": [
        "m = {'a','b','c'}\n",
        "print(m)"
      ],
      "metadata": {
        "colab": {
          "base_uri": "https://localhost:8080/"
        },
        "id": "zR5Ky9lqOFT3",
        "outputId": "522aae6b-973f-48dd-ecb1-1a6ca0f67744"
      },
      "execution_count": 75,
      "outputs": [
        {
          "output_type": "stream",
          "name": "stdout",
          "text": [
            "{'c', 'a', 'b'}\n"
          ]
        }
      ]
    },
    {
      "cell_type": "code",
      "source": [
        "num = {1,2,3,4,5}\n",
        "num.clear()\n",
        "print(num)"
      ],
      "metadata": {
        "colab": {
          "base_uri": "https://localhost:8080/"
        },
        "id": "snNXFCI5ONDO",
        "outputId": "8bbb7ec0-4867-4c2b-c226-f2723923ef36"
      },
      "execution_count": 41,
      "outputs": [
        {
          "output_type": "stream",
          "name": "stdout",
          "text": [
            "set()\n"
          ]
        }
      ]
    },
    {
      "cell_type": "code",
      "source": [
        "num_1 = {1,2,3,4}\n",
        "num_1.remove(4)\n",
        "print(num_1)"
      ],
      "metadata": {
        "colab": {
          "base_uri": "https://localhost:8080/"
        },
        "id": "jowKKd6zPNtx",
        "outputId": "61fa757a-33a7-43d3-d361-7f89cfc449f4"
      },
      "execution_count": 42,
      "outputs": [
        {
          "output_type": "stream",
          "name": "stdout",
          "text": [
            "{1, 2, 3}\n"
          ]
        }
      ]
    },
    {
      "cell_type": "code",
      "source": [
        "s1 = {1,2,3}\n",
        "s2 = {3,4,5}\n",
        "\n",
        "union_se = s1.union(s2)\n",
        "print(union_se)\n"
      ],
      "metadata": {
        "colab": {
          "base_uri": "https://localhost:8080/"
        },
        "id": "8dvJGKNIPYa8",
        "outputId": "2711560e-1bcd-4515-e6a5-d4a256eac71e"
      },
      "execution_count": 76,
      "outputs": [
        {
          "output_type": "stream",
          "name": "stdout",
          "text": [
            "{1, 2, 3, 4, 5}\n"
          ]
        }
      ]
    },
    {
      "cell_type": "code",
      "source": [
        "et1 = {1,2,3}\n",
        "et2 = {3,4,5}\n",
        "\n",
        "int_et = et1.intersection(et2)\n",
        "print(int_et)"
      ],
      "metadata": {
        "colab": {
          "base_uri": "https://localhost:8080/"
        },
        "id": "4-jbTcyEP4nh",
        "outputId": "d927695f-6dde-4c5c-d9b5-d869760279cd"
      },
      "execution_count": 77,
      "outputs": [
        {
          "output_type": "stream",
          "name": "stdout",
          "text": [
            "{3}\n"
          ]
        }
      ]
    },
    {
      "cell_type": "code",
      "source": [
        "person = {\n",
        "    \"name\": \"Abhimanyu\",\n",
        "    \"age\": 20,\n",
        "    \"city\": \"Delhi\"\n",
        "}\n",
        "\n",
        "print(person)\n"
      ],
      "metadata": {
        "colab": {
          "base_uri": "https://localhost:8080/"
        },
        "id": "sVI5XreBRS1N",
        "outputId": "3ca71e5b-46bf-47b6-f344-84ec8b4e408b"
      },
      "execution_count": 57,
      "outputs": [
        {
          "output_type": "stream",
          "name": "stdout",
          "text": [
            "{'name': 'Abhimanyu', 'age': 20, 'city': 'Delhi'}\n"
          ]
        }
      ]
    },
    {
      "cell_type": "code",
      "source": [
        "person = {\"name\": \"John\", \"age\": \"25\"}\n",
        "\n",
        "person[\"country\"] = \"USA\"\n",
        "print(person)"
      ],
      "metadata": {
        "colab": {
          "base_uri": "https://localhost:8080/"
        },
        "id": "96DPkpHKUuKg",
        "outputId": "792dc747-6c4f-4a91-a11f-031dda98050c"
      },
      "execution_count": 59,
      "outputs": [
        {
          "output_type": "stream",
          "name": "stdout",
          "text": [
            "{'name': 'John', 'age': '25', 'country': 'USA'}\n"
          ]
        }
      ]
    },
    {
      "cell_type": "code",
      "source": [
        "person = {\"name\": \"Alice\", \"age\": \"30\"}\n",
        "name_value = person.get('name')\n",
        "print(name_value)\n"
      ],
      "metadata": {
        "colab": {
          "base_uri": "https://localhost:8080/"
        },
        "id": "WO2GiBJtVHDs",
        "outputId": "c36aa830-d175-44a1-a401-b2e186bf2dab"
      },
      "execution_count": 60,
      "outputs": [
        {
          "output_type": "stream",
          "name": "stdout",
          "text": [
            "Alice\n"
          ]
        }
      ]
    },
    {
      "cell_type": "code",
      "source": [
        "h = {'name': 'Bob', 'age': 22, 'city': 'New York'}\n",
        "\n",
        "del h['age']\n",
        "print(h)"
      ],
      "metadata": {
        "colab": {
          "base_uri": "https://localhost:8080/"
        },
        "id": "i1oPf57najj3",
        "outputId": "60afaab0-cfdb-4d68-be19-6ee2aa4f95cb"
      },
      "execution_count": 62,
      "outputs": [
        {
          "output_type": "stream",
          "name": "stdout",
          "text": [
            "{'name': 'Bob', 'city': 'New York'}\n"
          ]
        }
      ]
    },
    {
      "cell_type": "code",
      "source": [
        "person = {'name': 'Alice', 'city': 'Paris'}\n",
        "\n",
        "if 'city' in person:\n",
        "    print(\"Key 'city' exists in the dictionary!\")\n",
        "else:\n",
        "    print(\"Key 'city' does not exist.\")\n"
      ],
      "metadata": {
        "colab": {
          "base_uri": "https://localhost:8080/"
        },
        "id": "fW89qsBGdACc",
        "outputId": "5b7a6679-d071-4a35-a0c2-db964ded99af"
      },
      "execution_count": 63,
      "outputs": [
        {
          "output_type": "stream",
          "name": "stdout",
          "text": [
            "Key 'city' exists in the dictionary!\n"
          ]
        }
      ]
    },
    {
      "cell_type": "code",
      "source": [
        "my_list = [1, 2, 3, 4, 5]\n",
        "\n",
        "my_tuple = ('apple', 'banana', 'cherry')\n",
        "\n",
        "my_dict = {'name': 'Alice', 'age': 30, 'city': 'Paris'}\n",
        "\n",
        "\n",
        "print(\"List:\", my_list)\n",
        "print(\"Tuple:\", my_tuple)\n",
        "print(\"Dictionary:\", my_dict)\n"
      ],
      "metadata": {
        "colab": {
          "base_uri": "https://localhost:8080/"
        },
        "id": "2Ely7SxrfcG9",
        "outputId": "a589dcdb-09f5-40c9-a6c1-f7e4d5117a7d"
      },
      "execution_count": 64,
      "outputs": [
        {
          "output_type": "stream",
          "name": "stdout",
          "text": [
            "List: [1, 2, 3, 4, 5]\n",
            "Tuple: ('apple', 'banana', 'cherry')\n",
            "Dictionary: {'name': 'Alice', 'age': 30, 'city': 'Paris'}\n"
          ]
        }
      ]
    },
    {
      "cell_type": "code",
      "source": [
        "import random\n",
        "random_numbers = random.sample(range(1, 101), 5)\n",
        "random_numbers.sort()\n",
        "print(\"Sorted Random Numbers:\", random_numbers)\n"
      ],
      "metadata": {
        "colab": {
          "base_uri": "https://localhost:8080/"
        },
        "id": "C2te7JpNdKLT",
        "outputId": "6132a5fe-8e85-4b6f-cecc-92e4e924b8c0"
      },
      "execution_count": 65,
      "outputs": [
        {
          "output_type": "stream",
          "name": "stdout",
          "text": [
            "Sorted Random Numbers: [2, 9, 71, 79, 85]\n"
          ]
        }
      ]
    },
    {
      "cell_type": "code",
      "source": [
        "my_list = [1,2,3,4,5]\n",
        "third_index_element = my_list[3]\n",
        "print(\"Element at index 3:\", third_index_element)\n"
      ],
      "metadata": {
        "colab": {
          "base_uri": "https://localhost:8080/"
        },
        "id": "gRWSpmH8ddWf",
        "outputId": "764a9be2-2353-4dd4-d089-83e49dded1f1"
      },
      "execution_count": 67,
      "outputs": [
        {
          "output_type": "stream",
          "name": "stdout",
          "text": [
            "Element at index 3: 4\n"
          ]
        }
      ]
    },
    {
      "cell_type": "code",
      "source": [
        "dict1 = {'a': 1, 'b': 2}\n",
        "dict2 = {'c': 3, 'd': 4}\n",
        "\n",
        "dict1.update(dict2)\n",
        "\n",
        "print(dict1)\n"
      ],
      "metadata": {
        "colab": {
          "base_uri": "https://localhost:8080/"
        },
        "id": "UZ-ZPOPRdsiW",
        "outputId": "83f67944-46b1-41cc-8050-62544ffd9d9f"
      },
      "execution_count": 68,
      "outputs": [
        {
          "output_type": "stream",
          "name": "stdout",
          "text": [
            "{'a': 1, 'b': 2, 'c': 3, 'd': 4}\n"
          ]
        }
      ]
    },
    {
      "cell_type": "code",
      "source": [
        "list = [\"Happy\",\"Fox\",\"Jumps\",\"Over\",\"The\",\"Dog\"]\n",
        "h = set(list)\n",
        "print(h)\n"
      ],
      "metadata": {
        "collapsed": true,
        "id": "oGKFsngQeJ3_"
      },
      "execution_count": null,
      "outputs": []
    }
  ]
}