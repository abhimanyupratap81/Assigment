{
  "nbformat": 4,
  "nbformat_minor": 0,
  "metadata": {
    "colab": {
      "provenance": []
    },
    "kernelspec": {
      "name": "python3",
      "display_name": "Python 3"
    },
    "language_info": {
      "name": "python"
    }
  },
  "cells": [
    {
      "cell_type": "markdown",
      "source": [
        "#  What is NumPy, and why is it widely used in Python?\n",
        "\n",
        "--> NumPy (short for Numerical Python) is a fundamental package for numerical computing in Python. It's widely used because it provides powerful tools for working with arrays, mathematical functions, and large datasets efficiently.\n",
        "\n",
        "Speed and Performance\n",
        "\n",
        "NumPy arrays are stored more efficiently than Python lists.\n",
        "\n",
        "Operations are faster because they're implemented in C under the hood.\n",
        "\n",
        "Ease of Use\n",
        "\n",
        "Syntax is clean and intuitive for matrix and vector operations.\n",
        "\n",
        "Reduces the need for writing complex loops.\n",
        "\n",
        "Interoperability\n",
        "\n",
        "Works seamlessly with other libraries like Pandas, Matplotlib, Scikit-learn, and TensorFlow.\n",
        "\n",
        "Foundation for Data Science and Machine Learning\n",
        "\n",
        "Most data science workflows start with NumPy due to its efficiency with numerical data.\n",
        "\n",
        "Memory Efficiency\n",
        "\n",
        "Speed and Performance\n",
        "\n",
        "NumPy arrays are stored more efficiently than Python lists.\n",
        "\n",
        "Operations are faster because they're implemented in C under the hood.\n",
        "\n",
        "Ease of Use\n",
        "\n",
        "Syntax is clean and intuitive for matrix and vector operations.\n",
        "\n",
        "Reduces the need for writing complex loops.\n",
        "\n",
        "Interoperability\n",
        "\n",
        "Works seamlessly with other libraries like Pandas, Matplotlib, Scikit-learn, and TensorFlow.\n",
        "\n",
        "Foundation for Data Science and Machine Learning\n",
        "\n",
        "Most data science workflows start with NumPy due to its efficiency with numerical data.\n",
        "\n",
        "Memory Efficiency\n",
        "\n"
      ],
      "metadata": {
        "id": "ROwmNoyVOmuq"
      }
    },
    {
      "cell_type": "markdown",
      "source": [
        "# How does broadcasting work in NumPy?\n",
        "\n",
        "--> Broadcasting describes how NumPy treats arrays with different shapes during arithmetic operations. It automatically expands the smaller array to match the shape of the larger one without actually copying the data."
      ],
      "metadata": {
        "id": "ECDEkyyOUleo"
      }
    },
    {
      "cell_type": "markdown",
      "source": [
        "# What is a Pandas DataFrame?\n",
        "\n",
        "--> A DataFrame is a core data structure in the Pandas library. Think of it as:\n",
        "\n",
        "1. Rows = observations / entries\n",
        "\n",
        "2. Columns = variables / features\n",
        "\n",
        "3. Labels = row & column names (called index and columns)\n",
        "\n",
        "It’s built on top of NumPy, and it's optimized for data analysis and manipulation.\n"
      ],
      "metadata": {
        "id": "cfm3XeFqWE8q"
      }
    },
    {
      "cell_type": "markdown",
      "source": [
        "# A Explain the use of the groupby() method in Pandas?\n",
        "\n",
        "--> The groupby() method in Pandas is one of its most powerful tools 🔧 — it’s used to split data into groups, apply a function, and then combine the results. This is often called the “split-apply-combine” pattern. It lets you group rows based on the values in one or more columns — then perform operations like sum, mean, count, min, max, etc., on each group."
      ],
      "metadata": {
        "id": "0HMTFQCUW5zh"
      }
    },
    {
      "cell_type": "markdown",
      "source": [
        "# A Why is Seaborn preferred for statistical visualizations?\n",
        "\n",
        "--> Seaborn is preferred for statistical visualizations in Python because it's built specifically for making complex statistical plots simple and beautiful — with just a few lines of code.\n",
        "\n",
        "1. High-Level API\n",
        "Seaborn simplifies the creation of complex visualizations like:\n",
        "\n",
        "Box plots\n",
        "\n",
        "Violin plots\n",
        "\n",
        "Heatmaps\n",
        "\n",
        "Pair plots\n",
        "\n",
        "Regression plots\n",
        "\n",
        "2. Built-In Statistical Support\n",
        "\n",
        "Supports aggregations, regressions, and distributions directly.\n",
        "\n",
        "You can easily visualize confidence intervals, kernel density estimates, and categorical comparisons."
      ],
      "metadata": {
        "id": "yOoF-blvXXUe"
      }
    },
    {
      "cell_type": "markdown",
      "source": [
        "#  What are the differences between NumPy arrays and Python lists?\n",
        "\n",
        "--> NumPy arrays and Python lists are both used to store collections of data, but they differ significantly in functionality, performance, and usage. Python lists are built-in data structures that can hold elements of different data types, such as integers, strings, and floats, within the same list. They are flexible and easy to use for general-purpose programming. However, they are not optimized for numerical computations, which makes them slower and more memory-intensive when dealing with large datasets. In contrast, NumPy arrays (from the NumPy library) are specifically designed for efficient numerical and scientific computing. They store elements of the same data type, which allows for optimized memory usage and faster computation. NumPy arrays support powerful features like vectorized operations, broadcasting, and a vast collection of mathematical and statistical functions, all of which make them ideal for tasks like data analysis, machine learning, and scientific simulations. While Python lists are great for flexible, small-scale tasks, NumPy arrays are preferred when performance and numerical efficiency are essential.\n",
        "\n",
        "\n",
        "\n",
        "\n",
        "\n",
        "\n",
        "\n",
        "\n"
      ],
      "metadata": {
        "id": "FjomlBxSYLHJ"
      }
    },
    {
      "cell_type": "markdown",
      "source": [
        "# What is a heatmap, and when should it be used?\n",
        "\n",
        "--> A heatmap is a type of data visualization that uses color to represent values in a two-dimensional matrix or table. Each cell in the heatmap shows the magnitude of a value using a color gradient — typically, darker or more intense colors indicate higher values, while lighter colors indicate lower values.\n",
        "\n",
        "When to Use a Heatmap?\n",
        "Heatmaps are especially useful when you want to:\n",
        "\n",
        "Visualize Correlations\n",
        "\n",
        "See relationships between variables.\n",
        "\n",
        "Example: A correlation matrix showing how closely related each pair of features is in a dataset.\n",
        "\n",
        "Compare Large Amounts of Data\n",
        "\n",
        "Spot patterns, trends, or outliers quickly.\n",
        "\n",
        "Example: Website click maps, population density maps, or sales performance by region.\n",
        "\n",
        "Identify Clusters or Anomalies\n",
        "\n",
        "Great for spotting grouping behavior or unusual values.\n",
        "\n",
        "Example: Detecting areas with high error rates in machine learning model performance.\n",
        "\n",
        "Explore Categorical vs Numerical Data\n",
        "\n",
        "Like mean sales by product category and store location."
      ],
      "metadata": {
        "id": "bELeqCuFnFFs"
      }
    },
    {
      "cell_type": "markdown",
      "source": [
        "# What does the term “vectorized operation” mean in NumPy?\n",
        "\n",
        "--> The term \"vectorized operation\" in NumPy refers to performing element-wise operations on entire arrays without using explicit loops in Python. Instead of iterating through each element manually, NumPy performs the operation behind the scenes in optimized C code, which is much faster and more efficient."
      ],
      "metadata": {
        "id": "C8wiZ4pAnZF_"
      }
    },
    {
      "cell_type": "markdown",
      "source": [
        "# How does Matplotlib differ from Plotly?\n",
        "\n",
        "-->  Matplotlib and Plotly are both popular Python libraries for data visualization, but they differ significantly in terms of interactivity, style, ease of use, and use cases.\n",
        "\n",
        "1.  Matplotlib – The Classic Workhorse\n",
        "Matplotlib is the oldest and most widely-used plotting library in Python. It’s highly customizable and great for producing static, publication-quality charts.\n",
        "\n",
        "Key Features:\n",
        "\n",
        "Generates static images (PNG, PDF, SVG, etc.)\n",
        "\n",
        "Very flexible, but code can be verbose\n",
        "\n",
        "Excellent for basic plots, scientific figures, and fine-grained control\n",
        "\n",
        "Integrates well with NumPy and Pandas\n",
        "\n",
        "Limited interactivity unless combined with tools like mpld3 or Jupyter widgets\n",
        "\n",
        "2. Plotly – The Interactive Star\n",
        "Plotly creates interactive, web-based visualizations that can be embedded in dashboards, notebooks, or web apps.\n",
        "\n",
        "Key Features:\n",
        "\n",
        "Creates interactive charts (hover, zoom, pan, tooltips)\n",
        "\n",
        "Great default styles and modern, polished look\n",
        "\n",
        "Built-in support for dashboards via Dash\n",
        "\n",
        "Works well with Plotly Express for quick plotting\n",
        "\n",
        "Can export to HTML or static images with ease"
      ],
      "metadata": {
        "id": "oBNEhlvrnsbO"
      }
    },
    {
      "cell_type": "markdown",
      "source": [
        "# What is the significance of hierarchical indexing in Pandas?\n",
        "\n",
        "--> Hierarchical indexing in Pandas (also known as MultiIndex) is a powerful feature that allows you to work with multiple levels of indexing on your DataFrame or Series. This means you can organize and access data in a more structured and hierarchical manner, which is especially useful when you have data with multiple categorical levels or want to perform more complex operations."
      ],
      "metadata": {
        "id": "S40gNwz0n81a"
      }
    },
    {
      "cell_type": "markdown",
      "source": [
        "# What is the role of Seaborn’s pairplot() function?\n",
        "\n",
        "--> The pairplot() function in Seaborn is an incredibly useful tool for visualizing pairwise relationships between multiple variables in a dataset. It creates a matrix of scatterplots where each variable is plotted against every other variable in the dataset, helping to identify patterns, correlations, and distributions at a glance.\n",
        "\n",
        "Key Features of pairplot()\n",
        "Scatterplot Matrix\n",
        "\n",
        "It generates a grid of scatterplots showing relationships between each pair of numerical columns in your dataset.\n",
        "\n",
        "Diagonal Histograms\n",
        "\n",
        "By default, the diagonal of the plot contains histograms or KDE plots (Kernel Density Estimations), showing the distribution of each individual variable.\n",
        "\n",
        "Color-Coding with Hue\n",
        "\n",
        "You can color the plots by a categorical variable using the hue parameter. This is useful for distinguishing between different groups or classes in your data.\n",
        "\n",
        "Pairwise Analysis\n",
        "\n",
        "Great for visualizing correlations, spotting outliers, or identifying linear/non-linear relationships between variables."
      ],
      "metadata": {
        "id": "pEvWkE5Fo8hv"
      }
    },
    {
      "cell_type": "markdown",
      "source": [
        "# What is the purpose of the describe() function in Pandas?\n",
        "\n",
        "--> The describe() function in Pandas is a powerful tool that provides a summary of statistics for numerical columns in a DataFrame or Series. It helps you quickly understand the central tendency, spread, and shape of your data, offering insights into the distribution of values across the dataset.\n",
        "\n",
        "Summarize Key Statistics\n",
        "It returns a table of important descriptive statistics for numerical data, including:\n",
        "\n",
        "Count: Number of non-null entries\n",
        "\n",
        "Mean: Average value\n",
        "\n",
        "Standard Deviation (std): Measure of data spread\n",
        "\n",
        "Min: The smallest value\n",
        "\n",
        "25th percentile (Q1): The lower quartile (25% of data is below this point)\n",
        "\n",
        "50th percentile (Median or Q2): The middle value (50% of data is below or above this point)\n",
        "\n",
        "75th percentile (Q3): The upper quartile (75% of data is below this point)\n",
        "\n",
        "Max: The largest value"
      ],
      "metadata": {
        "id": "tGFWd-wIpMlT"
      }
    },
    {
      "cell_type": "markdown",
      "source": [
        "# Why is handling missing data important in Pandas?\n",
        "\n",
        "-->\n",
        "\n",
        "1. Accurate Analysis and Insights\n",
        "Missing data can skew descriptive statistics (like mean, median, or standard deviation) and result in misleading insights. For example, if you leave out rows with missing values, the mean of your dataset will be biased because it is calculated on fewer data points than expected.\n",
        "\n",
        "2. Prevent Errors in Calculations\n",
        "Many mathematical operations (like sum, mean, or regression) will fail or give inaccurate results if missing values are not handled. Pandas often returns NaN (Not a Number) when performing operations on missing data, which can propagate and cause errors in further calculations.\n",
        "\n",
        "3. Improves Machine Learning Models\n",
        "Most machine learning algorithms (especially those that use mathematical optimization) cannot handle missing data directly. Imputation (filling in missing values) or removal of incomplete rows/columns is necessary to ensure algorithms can process the data effectively.\n",
        "\n",
        "4. Prevents Loss of Information\n",
        "Dropping rows with missing values may lead to the loss of valuable data, especially when the missing values are not randomly distributed. Imputation or filling missing values can help retain as much information as possible."
      ],
      "metadata": {
        "id": "kuV-FYEaxSZw"
      }
    },
    {
      "cell_type": "markdown",
      "source": [
        "# What are the benefits of using Plotly for data visualization?\n",
        "\n",
        "1. Interactive Visualizations\n",
        "Interactivity by Default: One of the standout features of Plotly is its ability to create interactive plots out of the box. Users can zoom, pan, hover for tooltips, and click for more details. This makes your visualizations not only more engaging but also more informative.\n",
        "\n",
        "Dynamic Exploration: The interactivity allows users to explore the data themselves, filtering or inspecting various parts of the visualization, which is especially useful when working with large or complex datasets.\n",
        "\n",
        "2. Beautiful, Publication-Ready Visuals\n",
        "High-Quality Aesthetics: Plotly’s default styling is modern, clean, and polished. The visualizations are ready for publication or presentation without needing much customization.\n",
        "\n",
        "Customizable Appearance: Even though the defaults are great, Plotly allows for detailed customization in terms of colors, labels, gridlines, titles, and more. This flexibility ensures your plots look exactly how you want them.\n",
        "\n",
        "3. Wide Range of Plot Types\n",
        "Plotly supports a wide variety of chart types, making it highly versatile for different data visualization needs. These include:\n",
        "\n",
        "2D plots: Line, Scatter, Bar, Histogram, Box plots, etc.\n",
        "\n",
        "3D plots: 3D scatter plots, surface plots, mesh plots, etc.\n",
        "\n",
        "Geographical maps: Choropleth maps, scatter plots on maps, etc.\n",
        "\n",
        "Specialized plots: Candlestick charts (for financial data), Sankey diagrams (flow charts), and more.\n",
        "\n",
        "This extensive variety of plot types helps users to present data in the most meaningful way for their specific application.\n",
        "\n",
        "4. Seamless Integration with Dash for Web Apps\n",
        "Dash Framework: Plotly works hand-in-hand with Dash, a web framework also created by Plotly, for building interactive web applications and dashboards. This is especially beneficial when you need to share dynamic data visualizations in a web environment.\n",
        "\n",
        "Easy Embedding: You can embed Plotly charts in web apps, Jupyter notebooks, or as standalone HTML files, making it highly versatile for different types of projects and sharing.\n",
        "\n",
        "5. Easy to Use and Integrate\n",
        "Python and R Support: Plotly supports multiple programming languages, including Python, R, Julia, and MATLAB, making it accessible for users across different platforms.\n",
        "\n",
        "Integration with Pandas: Plotly works very well with Pandas DataFrames. You can directly pass data from a DataFrame into Plotly for seamless plotting without having to convert it into a different format."
      ],
      "metadata": {
        "id": "g8z8tH06xg_y"
      }
    },
    {
      "cell_type": "markdown",
      "source": [
        "# How does NumPy handle multidimensional arrays?\n",
        "\n",
        "--> NumPy handles multidimensional arrays using its core object called the ndarray (short for n-dimensional array). This structure allows NumPy to efficiently store and manipulate large volumes of data organized in multiple dimensions, such as 1D vectors, 2D matrices, and even higher-dimensional data structures like 3D arrays or tensors.\n",
        "\n"
      ],
      "metadata": {
        "id": "laTthLe8J8va"
      }
    },
    {
      "cell_type": "markdown",
      "source": [
        "# What is the role of Bokeh in data visualization?\n",
        "\n",
        "--> Bokeh is a powerful Python library specifically designed for creating interactive and visually appealing data visualizations for the web. Its primary role is to help developers and data scientists build interactive plots, dashboards, and web apps directly from Python code, without needing to write JavaScript or HTML.\n",
        "\n",
        "🔹 Key Roles and Benefits of Bokeh in Data Visualization:\n",
        "1. Interactive Visualizations\n",
        "Bokeh excels at building highly interactive plots. Features like:\n",
        "\n",
        "Hover tooltips\n",
        "\n",
        "Zooming & panning\n",
        "\n",
        "Click & selection events\n",
        "\n",
        "Linked brushing across plots\n",
        "...make it ideal for exploring data dynamically.\n",
        "\n",
        "2. Web-Ready Plots\n",
        "Bokeh outputs plots as HTML and JavaScript, which can be:\n",
        "\n",
        "Embedded in web pages\n",
        "\n",
        "Displayed in Jupyter notebooks\n",
        "\n",
        "Served as standalone interactive dashboards This makes Bokeh perfect for creating web applications and visual reports that can be shared online.\n",
        "\n",
        "3. Python-Based, No JavaScript Needed\n",
        "One of Bokeh’s main appeals is that it lets you create rich, browser-based plots using pure Python, so you don’t need to dive into frontend technologies to build interactive visuals.\n",
        "\n",
        "4. Supports Large Datasets\n",
        "Bokeh can handle large datasets efficiently and supports streaming and real-time data updates, making it useful for dashboards and monitoring systems.\n",
        "\n",
        "5. Customizable and Extensible\n",
        "You can easily customize tools, layouts, colors, themes, and events. For advanced users, Bokeh supports embedding JavaScript callbacks for custom interactivity.\n",
        "\n",
        "6. Integrated with Pandas and NumPy\n",
        "Bokeh works seamlessly with Pandas DataFrames and NumPy arrays, allowing quick plotting from familiar data structures."
      ],
      "metadata": {
        "id": "WPDY-0fXKQjp"
      }
    },
    {
      "cell_type": "markdown",
      "source": [
        "# Explain the difference between apply() and map() in Pandas.\n",
        "\n",
        "--> In Pandas, both apply() and map() are used to apply functions to data, but they are used differently, depending on the context and data structure involved. Here's a clear breakdown of the differences between the two:\n",
        "\n",
        "1. map() — Element-wise Function on a Series\n",
        "Used only on Series (1D)\n",
        "\n",
        "Applies a function element-wise to each value in the Series.\n",
        "\n",
        "Ideal for simple transformations like formatting strings or converting values.\n",
        "\n",
        "2. apply() — Applies a Function Along Axis\n",
        "Can be used on both Series and DataFrames.\n",
        "\n",
        "On a Series: works like map().\n",
        "\n",
        "On a DataFrame: can apply a function row-wise (axis=1) or column-wise (axis=0).\n",
        "\n",
        "Useful for more complex logic, especially when working with multiple columns."
      ],
      "metadata": {
        "id": "pQwEVY34Kem1"
      }
    },
    {
      "cell_type": "markdown",
      "source": [
        "# What are some advanced features of NumPy?\n",
        "\n",
        "--> 1. Broadcasting\n",
        "Broadcasting allows NumPy to perform arithmetic operations between arrays of different shapes without explicit looping or reshaping. It follows specific rules to automatically expand arrays to compatible shapes.\n",
        "\n",
        "2. Vectorized Operations\n",
        "NumPy enables vectorized computations, meaning operations are applied to entire arrays, not individual elements. This is faster and more efficient than using Python loops.\n",
        "\n",
        "3. Masked Arrays\n",
        "Masked arrays handle missing or invalid data in numerical computations. They allow you to mask out certain values from operations."
      ],
      "metadata": {
        "id": "2iSxar5iK8mT"
      }
    },
    {
      "cell_type": "markdown",
      "source": [
        "# How does Pandas simplify time series analysis?\n",
        "\n",
        "--> Pandas simplifies time series analysis by offering powerful, intuitive tools to handle date/time data, perform date-based indexing, and implement time-aware computations. Its functionality allows analysts and developers to work with time series data as easily as any tabular data, while also supporting operations specific to temporal sequences.\n",
        "\n",
        "1. Datetime Indexing & Conversion\n",
        "Pandas makes it easy to work with dates and times by converting strings or numeric timestamps into datetime objects using pd.to_datetime().\n",
        "\n",
        "2.  Resampling & Frequency Conversion\n",
        "Pandas lets you resample time series data to different frequencies using .resample(). You can aggregate over time (downsample) or fill in data (upsample).\n",
        "\n",
        "3. Rolling Windows & Moving Averages\n",
        "With .rolling(), you can calculate moving averages, rolling sums, and other statistics over time windows."
      ],
      "metadata": {
        "id": "5pl5wolaLHj8"
      }
    },
    {
      "cell_type": "markdown",
      "source": [
        "#  What is the role of a pivot table in Pandas?\n",
        "\n",
        "--> A pivot table in Pandas plays a crucial role in summarizing, reorganizing, and analyzing data in a structured format. It's especially useful when you want to group data by one or more keys and then apply an aggregation function (like mean, sum, count, etc.) to generate meaningful insights from large datasets.\n",
        "\n",
        "What is a Pivot Table in Pandas?\n",
        "\n",
        "A pivot table allows you to reshape data by:\n",
        "\n",
        "Setting one or more columns as index (rows),\n",
        "\n",
        "Choosing one or more columns as columns (labels),\n",
        "\n",
        "Defining values to aggregate, and\n",
        "\n",
        "Applying an aggregation function (e.g., sum, mean, count, etc.)."
      ],
      "metadata": {
        "id": "RlVON9fWLh_j"
      }
    },
    {
      "cell_type": "markdown",
      "source": [
        "# Why is NumPy’s array slicing faster than Python’s list slicing?\n",
        "\n",
        "--> NumPy’s array slicing is significantly faster than Python’s list slicing because NumPy arrays are implemented in C and designed for high-performance numerical computing. Several key differences in the underlying structure and memory management explain this performance gap:\n",
        "\n",
        "🔹 1. Contiguous Block of Memory\n",
        "NumPy arrays store data in a contiguous block of memory of the same data type, whereas Python lists store references to objects, which can be scattered in memory. This allows NumPy to access and manipulate data more efficiently using pointer arithmetic instead of following references.\n",
        "\n",
        "🔹 2. Fixed Data Type\n",
        "All elements in a NumPy array have the same data type (int32, float64, etc.). This uniformity allows NumPy to apply slicing and other operations using optimized low-level C code that can operate on raw memory addresses without needing to type-check or box/unbox values.\n",
        "\n",
        "🔹 3. Views Instead of Copies\n",
        "When you slice a NumPy array, it typically returns a view (a new array object pointing to the same data), not a copy. This makes slicing operations instantaneous, as no data is moved around in memory."
      ],
      "metadata": {
        "id": "FyyBqBbvL6UE"
      }
    },
    {
      "cell_type": "markdown",
      "source": [
        "# What are some common use cases for Seaborn?\n",
        "\n",
        "--> Seaborn is a powerful Python library built on top of Matplotlib, specifically designed for statistical data visualization. It simplifies the process of creating attractive and informative graphics with just a few lines of code. Its ability to integrate tightly with Pandas DataFrames makes it especially useful for analyzing real-world datasets.\n",
        "\n",
        "1. Exploratory Data Analysis (EDA)\n",
        "Seaborn is widely used for quickly exploring data to uncover patterns, trends, and outliers.\n",
        "\n",
        "Visualize distributions of numeric variables with histograms or KDE plots.\n",
        "\n",
        "Understand relationships between variables using scatter plots and pair plots.\n",
        "\n",
        "Detect outliers and anomalies using boxplots and violin plots.\n",
        "\n",
        "2. Distribution Visualization\n",
        "Helps to analyze the shape and spread of data.\n",
        "\n",
        "sns.histplot(): Histogram with optional KDE overlay\n",
        "\n",
        "sns.kdeplot(): Kernel density estimate plot\n",
        "\n",
        "sns.displot(): Combined interface for histograms and KDEs"
      ],
      "metadata": {
        "id": "MroFsssfMJVF"
      }
    },
    {
      "cell_type": "code",
      "source": [
        "# How do you create a 2D NumPy array and calculate the sum of each row?\n",
        "\n",
        "import numpy as np\n",
        "\n",
        "arr = np.array([[1, 2, 3],\n",
        "                [4, 5, 6],\n",
        "                [7, 8, 9]])\n",
        "\n",
        "row_sums = arr.sum(axis=1)\n",
        "\n",
        "print(\"Array:\")\n",
        "print(arr)\n",
        "\n",
        "print(\"\\nSum of each row:\")\n",
        "print(row_sums)\n"
      ],
      "metadata": {
        "colab": {
          "base_uri": "https://localhost:8080/"
        },
        "id": "UnEKV8MCMX9I",
        "outputId": "8f33603d-8fdc-47f1-f8ee-5e469339ded5"
      },
      "execution_count": 1,
      "outputs": [
        {
          "output_type": "stream",
          "name": "stdout",
          "text": [
            "Array:\n",
            "[[1 2 3]\n",
            " [4 5 6]\n",
            " [7 8 9]]\n",
            "\n",
            "Sum of each row:\n",
            "[ 6 15 24]\n"
          ]
        }
      ]
    },
    {
      "cell_type": "code",
      "source": [
        "# Write a Pandas script to find the mean of a specific column in a DataFrame\n",
        "\n",
        "import pandas as pd\n",
        "\n",
        "data = {\n",
        "    'Name': ['Alice', 'Bob', 'Charlie', 'David'],\n",
        "    'Age': [25, 30, 22, 28],\n",
        "    'Salary': [50000, 60000, 55000, 58000]\n",
        "}\n",
        "\n",
        "df = pd.DataFrame(data)\n",
        "\n",
        "mean_salary = df['Salary'].mean()\n",
        "\n",
        "print(\"Mean Salary:\", mean_salary)\n"
      ],
      "metadata": {
        "colab": {
          "base_uri": "https://localhost:8080/"
        },
        "id": "lf-OidVbMmD4",
        "outputId": "768c70ec-f81e-4330-9752-7ba5797b6894"
      },
      "execution_count": 2,
      "outputs": [
        {
          "output_type": "stream",
          "name": "stdout",
          "text": [
            "Mean Salary: 55750.0\n"
          ]
        }
      ]
    },
    {
      "cell_type": "code",
      "source": [
        "# Create a scatter plot using Matplotlib.\n",
        "\n",
        "import matplotlib.pyplot as plt\n",
        "\n",
        "x = [1, 2, 3, 4, 5]\n",
        "y = [2, 4, 6, 8, 10]\n",
        "\n",
        "plt.scatter(x, y)\n",
        "\n",
        "plt.title(\"Simple Scatter Plot\")\n",
        "plt.xlabel(\"X-axis\")\n",
        "plt.ylabel(\"Y-axis\")\n",
        "\n",
        "plt.show()\n"
      ],
      "metadata": {
        "colab": {
          "base_uri": "https://localhost:8080/",
          "height": 472
        },
        "id": "Va8GRQy-M03_",
        "outputId": "cec788bd-d0d5-41e4-afe7-77556ac6c7c9"
      },
      "execution_count": 3,
      "outputs": [
        {
          "output_type": "display_data",
          "data": {
            "text/plain": [
              "<Figure size 640x480 with 1 Axes>"
            ],
            "image/png": "[encoded data removed]"
          },
          "metadata": {}
        }
      ]
    },
    {
      "cell_type": "code",
      "source": [
        "# How do you calculate the correlation matrix using Seaborn and visualize it with a heatmap?\n",
        "\n",
        "data = {\n",
        "    'A': [1, 2, 3, 4, 5],\n",
        "    'B': [5, 4, 3, 2, 1],\n",
        "    'C': [2, 3, 4, 5, 6],\n",
        "    'D': [6, 5, 4, 3, 2]\n",
        "}\n",
        "\n",
        "df = pd.DataFrame(data)\n",
        "\n",
        "corr_matrix = df.corr()\n",
        "\n",
        "plt.figure(figsize=(8, 6))\n",
        "sns.heatmap(corr_matrix, annot=True, cmap='coolwarm', linewidths=0.5, fmt='.2f')\n",
        "\n",
        "plt.title('Correlation Matrix Heatmap')\n",
        "\n",
        "plt.show()\n"
      ],
      "metadata": {
        "id": "Atnk_ldbNh78"
      },
      "execution_count": null,
      "outputs": []
    },
    {
      "cell_type": "code",
      "source": [
        "#  Generate a bar plot using Plotly.\n",
        "\n",
        "import plotly.express as px\n",
        "\n",
        "data = {\n",
        "    'Category': ['A', 'B', 'C', 'D', 'E'],\n",
        "    'Values': [10, 20, 30, 40, 50]\n",
        "}\n",
        "\n",
        "fig = px.bar(data, x='Category', y='Values', title=\"Bar Plot using Plotly\")\n",
        "\n",
        "fig.show()\n"
      ],
      "metadata": {
        "colab": {
          "base_uri": "https://localhost:8080/",
          "height": 542
        },
        "id": "uQSk8B9fN456",
        "outputId": "3b13069d-43dc-4754-f189-075a94136da8"
      },
      "execution_count": 4,
      "outputs": [
        {
          "output_type": "display_data",
          "data": {
            "text/html": [
              "<html>\n",
              "<head><meta charset=\"utf-8\" /></head>\n",
              "<body>\n",
              "    <div>            <script src=\"https://cdnjs.cloudflare.com/ajax/libs/mathjax/2.7.5/MathJax.js?config=TeX-AMS-MML_SVG\"></script><script type=\"text/javascript\">if (window.MathJax && window.MathJax.Hub && window.MathJax.Hub.Config) {window.MathJax.Hub.Config({SVG: {font: \"STIX-Web\"}});}</script>                <script type=\"text/javascript\">window.PlotlyConfig = {MathJaxConfig: 'local'};</script>\n",
              "        <script charset=\"utf-8\" src=\"https://cdn.plot.ly/plotly-2.35.2.min.js\"></script>                <div id=\"a9a65dc8-dc03-45e8-a655-3f316829ad30\" class=\"plotly-graph-div\" style=\"height:525px; width:100%;\"></div>            <script type=\"text/javascript\">                                    window.PLOTLYENV=window.PLOTLYENV || {};                                    if (document.getElementById(\"a9a65dc8-dc03-45e8-a655-3f316829ad30\")) {                    Plotly.newPlot(                        \"a9a65dc8-dc03-45e8-a655-3f316829ad30\",                        [{\"alignmentgroup\":\"True\",\"hovertemplate\":\"Category=%{x}\\u003cbr\\u003eValues=%{y}\\u003cextra\\u003e\\u003c\\u002fextra\\u003e\",\"legendgroup\":\"\",\"marker\":{\"color\":\"#636efa\",\"pattern\":{\"shape\":\"\"}},\"name\":\"\",\"offsetgroup\":\"\",\"orientation\":\"v\",\"showlegend\":false,\"textposition\":\"auto\",\"x\":[\"A\",\"B\",\"C\",\"D\",\"E\"],\"xaxis\":\"x\",\"y\":[10,20,30,40,50],\"yaxis\":\"y\",\"type\":\"bar\"}],                        {\"template\":{\"data\":{\"histogram2dcontour\":[{\"type\":\"histogram2dcontour\",\"colorbar\":{\"outlinewidth\":0,\"ticks\":\"\"},\"colorscale\":[[0.0,\"#0d0887\"],[0.1111111111111111,\"#46039f\"],[0.2222222222222222,\"#7201a8\"],[0.3333333333333333,\"#9c179e\"],[0.4444444444444444,\"#bd3786\"],[0.5555555555555556,\"#d8576b\"],[0.6666666666666666,\"#ed7953\"],[0.7777777777777778,\"#fb9f3a\"],[0.8888888888888888,\"#fdca26\"],[1.0,\"#f0f921\"]]}],\"choropleth\":[{\"type\":\"choropleth\",\"colorbar\":{\"outlinewidth\":0,\"ticks\":\"\"}}],\"histogram2d\":[{\"type\":\"histogram2d\",\"colorbar\":{\"outlinewidth\":0,\"ticks\":\"\"},\"colorscale\":[[0.0,\"#0d0887\"],[0.1111111111111111,\"#46039f\"],[0.2222222222222222,\"#7201a8\"],[0.3333333333333333,\"#9c179e\"],[0.4444444444444444,\"#bd3786\"],[0.5555555555555556,\"#d8576b\"],[0.6666666666666666,\"#ed7953\"],[0.7777777777777778,\"#fb9f3a\"],[0.8888888888888888,\"#fdca26\"],[1.0,\"#f0f921\"]]}],\"heatmap\":[{\"type\":\"heatmap\",\"colorbar\":{\"outlinewidth\":0,\"ticks\":\"\"},\"colorscale\":[[0.0,\"#0d0887\"],[0.1111111111111111,\"#46039f\"],[0.2222222222222222,\"#7201a8\"],[0.3333333333333333,\"#9c179e\"],[0.4444444444444444,\"#bd3786\"],[0.5555555555555556,\"#d8576b\"],[0.6666666666666666,\"#ed7953\"],[0.7777777777777778,\"#fb9f3a\"],[0.8888888888888888,\"#fdca26\"],[1.0,\"#f0f921\"]]}],\"heatmapgl\":[{\"type\":\"heatmapgl\",\"colorbar\":{\"outlinewidth\":0,\"ticks\":\"\"},\"colorscale\":[[0.0,\"#0d0887\"],[0.1111111111111111,\"#46039f\"],[0.2222222222222222,\"#7201a8\"],[0.3333333333333333,\"#9c179e\"],[0.4444444444444444,\"#bd3786\"],[0.5555555555555556,\"#d8576b\"],[0.6666666666666666,\"#ed7953\"],[0.7777777777777778,\"#fb9f3a\"],[0.8888888888888888,\"#fdca26\"],[1.0,\"#f0f921\"]]}],\"contourcarpet\":[{\"type\":\"contourcarpet\",\"colorbar\":{\"outlinewidth\":0,\"ticks\":\"\"}}],\"contour\":[{\"type\":\"contour\",\"colorbar\":{\"outlinewidth\":0,\"ticks\":\"\"},\"colorscale\":[[0.0,\"#0d0887\"],[0.1111111111111111,\"#46039f\"],[0.2222222222222222,\"#7201a8\"],[0.3333333333333333,\"#9c179e\"],[0.4444444444444444,\"#bd3786\"],[0.5555555555555556,\"#d8576b\"],[0.6666666666666666,\"#ed7953\"],[0.7777777777777778,\"#fb9f3a\"],[0.8888888888888888,\"#fdca26\"],[1.0,\"#f0f921\"]]}],\"surface\":[{\"type\":\"surface\",\"colorbar\":{\"outlinewidth\":0,\"ticks\":\"\"},\"colorscale\":[[0.0,\"#0d0887\"],[0.1111111111111111,\"#46039f\"],[0.2222222222222222,\"#7201a8\"],[0.3333333333333333,\"#9c179e\"],[0.4444444444444444,\"#bd3786\"],[0.5555555555555556,\"#d8576b\"],[0.6666666666666666,\"#ed7953\"],[0.7777777777777778,\"#fb9f3a\"],[0.8888888888888888,\"#fdca26\"],[1.0,\"#f0f921\"]]}],\"mesh3d\":[{\"type\":\"mesh3d\",\"colorbar\":{\"outlinewidth\":0,\"ticks\":\"\"}}],\"scatter\":[{\"fillpattern\":{\"fillmode\":\"overlay\",\"size\":10,\"solidity\":0.2},\"type\":\"scatter\"}],\"parcoords\":[{\"type\":\"parcoords\",\"line\":{\"colorbar\":{\"outlinewidth\":0,\"ticks\":\"\"}}}],\"scatterpolargl\":[{\"type\":\"scatterpolargl\",\"marker\":{\"colorbar\":{\"outlinewidth\":0,\"ticks\":\"\"}}}],\"bar\":[{\"error_x\":{\"color\":\"#2a3f5f\"},\"error_y\":{\"color\":\"#2a3f5f\"},\"marker\":{\"line\":{\"color\":\"#E5ECF6\",\"width\":0.5},\"pattern\":{\"fillmode\":\"overlay\",\"size\":10,\"solidity\":0.2}},\"type\":\"bar\"}],\"scattergeo\":[{\"type\":\"scattergeo\",\"marker\":{\"colorbar\":{\"outlinewidth\":0,\"ticks\":\"\"}}}],\"scatterpolar\":[{\"type\":\"scatterpolar\",\"marker\":{\"colorbar\":{\"outlinewidth\":0,\"ticks\":\"\"}}}],\"histogram\":[{\"marker\":{\"pattern\":{\"fillmode\":\"overlay\",\"size\":10,\"solidity\":0.2}},\"type\":\"histogram\"}],\"scattergl\":[{\"type\":\"scattergl\",\"marker\":{\"colorbar\":{\"outlinewidth\":0,\"ticks\":\"\"}}}],\"scatter3d\":[{\"type\":\"scatter3d\",\"line\":{\"colorbar\":{\"outlinewidth\":0,\"ticks\":\"\"}},\"marker\":{\"colorbar\":{\"outlinewidth\":0,\"ticks\":\"\"}}}],\"scattermapbox\":[{\"type\":\"scattermapbox\",\"marker\":{\"colorbar\":{\"outlinewidth\":0,\"ticks\":\"\"}}}],\"scatterternary\":[{\"type\":\"scatterternary\",\"marker\":{\"colorbar\":{\"outlinewidth\":0,\"ticks\":\"\"}}}],\"scattercarpet\":[{\"type\":\"scattercarpet\",\"marker\":{\"colorbar\":{\"outlinewidth\":0,\"ticks\":\"\"}}}],\"carpet\":[{\"aaxis\":{\"endlinecolor\":\"#2a3f5f\",\"gridcolor\":\"white\",\"linecolor\":\"white\",\"minorgridcolor\":\"white\",\"startlinecolor\":\"#2a3f5f\"},\"baxis\":{\"endlinecolor\":\"#2a3f5f\",\"gridcolor\":\"white\",\"linecolor\":\"white\",\"minorgridcolor\":\"white\",\"startlinecolor\":\"#2a3f5f\"},\"type\":\"carpet\"}],\"table\":[{\"cells\":{\"fill\":{\"color\":\"#EBF0F8\"},\"line\":{\"color\":\"white\"}},\"header\":{\"fill\":{\"color\":\"#C8D4E3\"},\"line\":{\"color\":\"white\"}},\"type\":\"table\"}],\"barpolar\":[{\"marker\":{\"line\":{\"color\":\"#E5ECF6\",\"width\":0.5},\"pattern\":{\"fillmode\":\"overlay\",\"size\":10,\"solidity\":0.2}},\"type\":\"barpolar\"}],\"pie\":[{\"automargin\":true,\"type\":\"pie\"}]},\"layout\":{\"autotypenumbers\":\"strict\",\"colorway\":[\"#636efa\",\"#EF553B\",\"#00cc96\",\"#ab63fa\",\"#FFA15A\",\"#19d3f3\",\"#FF6692\",\"#B6E880\",\"#FF97FF\",\"#FECB52\"],\"font\":{\"color\":\"#2a3f5f\"},\"hovermode\":\"closest\",\"hoverlabel\":{\"align\":\"left\"},\"paper_bgcolor\":\"white\",\"plot_bgcolor\":\"#E5ECF6\",\"polar\":{\"bgcolor\":\"#E5ECF6\",\"angularaxis\":{\"gridcolor\":\"white\",\"linecolor\":\"white\",\"ticks\":\"\"},\"radialaxis\":{\"gridcolor\":\"white\",\"linecolor\":\"white\",\"ticks\":\"\"}},\"ternary\":{\"bgcolor\":\"#E5ECF6\",\"aaxis\":{\"gridcolor\":\"white\",\"linecolor\":\"white\",\"ticks\":\"\"},\"baxis\":{\"gridcolor\":\"white\",\"linecolor\":\"white\",\"ticks\":\"\"},\"caxis\":{\"gridcolor\":\"white\",\"linecolor\":\"white\",\"ticks\":\"\"}},\"coloraxis\":{\"colorbar\":{\"outlinewidth\":0,\"ticks\":\"\"}},\"colorscale\":{\"sequential\":[[0.0,\"#0d0887\"],[0.1111111111111111,\"#46039f\"],[0.2222222222222222,\"#7201a8\"],[0.3333333333333333,\"#9c179e\"],[0.4444444444444444,\"#bd3786\"],[0.5555555555555556,\"#d8576b\"],[0.6666666666666666,\"#ed7953\"],[0.7777777777777778,\"#fb9f3a\"],[0.8888888888888888,\"#fdca26\"],[1.0,\"#f0f921\"]],\"sequentialminus\":[[0.0,\"#0d0887\"],[0.1111111111111111,\"#46039f\"],[0.2222222222222222,\"#7201a8\"],[0.3333333333333333,\"#9c179e\"],[0.4444444444444444,\"#bd3786\"],[0.5555555555555556,\"#d8576b\"],[0.6666666666666666,\"#ed7953\"],[0.7777777777777778,\"#fb9f3a\"],[0.8888888888888888,\"#fdca26\"],[1.0,\"#f0f921\"]],\"diverging\":[[0,\"#8e0152\"],[0.1,\"#c51b7d\"],[0.2,\"#de77ae\"],[0.3,\"#f1b6da\"],[0.4,\"#fde0ef\"],[0.5,\"#f7f7f7\"],[0.6,\"#e6f5d0\"],[0.7,\"#b8e186\"],[0.8,\"#7fbc41\"],[0.9,\"#4d9221\"],[1,\"#276419\"]]},\"xaxis\":{\"gridcolor\":\"white\",\"linecolor\":\"white\",\"ticks\":\"\",\"title\":{\"standoff\":15},\"zerolinecolor\":\"white\",\"automargin\":true,\"zerolinewidth\":2},\"yaxis\":{\"gridcolor\":\"white\",\"linecolor\":\"white\",\"ticks\":\"\",\"title\":{\"standoff\":15},\"zerolinecolor\":\"white\",\"automargin\":true,\"zerolinewidth\":2},\"scene\":{\"xaxis\":{\"backgroundcolor\":\"#E5ECF6\",\"gridcolor\":\"white\",\"linecolor\":\"white\",\"showbackground\":true,\"ticks\":\"\",\"zerolinecolor\":\"white\",\"gridwidth\":2},\"yaxis\":{\"backgroundcolor\":\"#E5ECF6\",\"gridcolor\":\"white\",\"linecolor\":\"white\",\"showbackground\":true,\"ticks\":\"\",\"zerolinecolor\":\"white\",\"gridwidth\":2},\"zaxis\":{\"backgroundcolor\":\"#E5ECF6\",\"gridcolor\":\"white\",\"linecolor\":\"white\",\"showbackground\":true,\"ticks\":\"\",\"zerolinecolor\":\"white\",\"gridwidth\":2}},\"shapedefaults\":{\"line\":{\"color\":\"#2a3f5f\"}},\"annotationdefaults\":{\"arrowcolor\":\"#2a3f5f\",\"arrowhead\":0,\"arrowwidth\":1},\"geo\":{\"bgcolor\":\"white\",\"landcolor\":\"#E5ECF6\",\"subunitcolor\":\"white\",\"showland\":true,\"showlakes\":true,\"lakecolor\":\"white\"},\"title\":{\"x\":0.05},\"mapbox\":{\"style\":\"light\"}}},\"xaxis\":{\"anchor\":\"y\",\"domain\":[0.0,1.0],\"title\":{\"text\":\"Category\"}},\"yaxis\":{\"anchor\":\"x\",\"domain\":[0.0,1.0],\"title\":{\"text\":\"Values\"}},\"legend\":{\"tracegroupgap\":0},\"title\":{\"text\":\"Bar Plot using Plotly\"},\"barmode\":\"relative\"},                        {\"responsive\": true}                    ).then(function(){\n",
              "                            \n",
              "var gd = document.getElementById('a9a65dc8-dc03-45e8-a655-3f316829ad30');\n",
              "var x = new MutationObserver(function (mutations, observer) {{\n",
              "        var display = window.getComputedStyle(gd).display;\n",
              "        if (!display || display === 'none') {{\n",
              "            console.log([gd, 'removed!']);\n",
              "            Plotly.purge(gd);\n",
              "            observer.disconnect();\n",
              "        }}\n",
              "}});\n",
              "\n",
              "// Listen for the removal of the full notebook cells\n",
              "var notebookContainer = gd.closest('#notebook-container');\n",
              "if (notebookContainer) {{\n",
              "    x.observe(notebookContainer, {childList: true});\n",
              "}}\n",
              "\n",
              "// Listen for the clearing of the current output cell\n",
              "var outputEl = gd.closest('.output');\n",
              "if (outputEl) {{\n",
              "    x.observe(outputEl, {childList: true});\n",
              "}}\n",
              "\n",
              "                        })                };                            </script>        </div>\n",
              "</body>\n",
              "</html>"
            ]
          },
          "metadata": {}
        }
      ]
    },
    {
      "cell_type": "code",
      "source": [
        "# Create a DataFrame and add a new column based on an existing column.\n",
        "\n",
        "data = {\n",
        "    'Name': ['Alice', 'Bob', 'Charlie', 'David'],\n",
        "    'Age': [25, 30, 22, 28],\n",
        "    'Salary': [50000, 60000, 55000, 58000]\n",
        "}\n",
        "\n",
        "df = pd.DataFrame(data)\n",
        "\n",
        "df['Salary_Increase'] = df['Salary'] * 1.10\n",
        "\n",
        "print(df)\n"
      ],
      "metadata": {
        "id": "5zZkaHu9OH03"
      },
      "execution_count": null,
      "outputs": []
    },
    {
      "cell_type": "code",
      "source": [
        "# Write a program to perform element-wise multiplication of two NumPy arrays.\n",
        "\n",
        "array1 = np.array([1, 2, 3, 4])\n",
        "array2 = np.array([5, 6, 7, 8])\n",
        "\n",
        "result = array1 * array2\n",
        "\n",
        "print(\"Element-wise multiplication result:\")\n",
        "print(result)\n"
      ],
      "metadata": {
        "id": "H9hCdi-cOZRG"
      },
      "execution_count": null,
      "outputs": []
    },
    {
      "cell_type": "code",
      "source": [
        "# Create a line plot with multiple lines using Matplotlib\n",
        "\n",
        "x = [1, 2, 3, 4, 5]\n",
        "y1 = [1, 4, 9, 16, 25]\n",
        "y2 = [2, 3, 5, 7, 11]\n",
        "y3 = [1, 2, 3, 4, 5]\n",
        "\n",
        "plt.plot(x, y1, label=\"y = x^2\", marker='o')\n",
        "plt.plot(x, y2, label=\"y = primes\", marker='x')\n",
        "plt.plot(x, y3, label=\"y = x\", marker='^')\n",
        "\n",
        "plt.title(\"Multiple Line Plot\")\n",
        "plt.xlabel(\"X-axis\")\n",
        "plt.ylabel(\"Y-axis\")\n",
        "\n",
        "plt.legend()\n",
        "\n",
        "plt.show()"
      ],
      "metadata": {
        "colab": {
          "base_uri": "https://localhost:8080/",
          "height": 472
        },
        "id": "YGK4wjowO7XJ",
        "outputId": "f825b358-0792-48da-e907-ac596ef4cd6a"
      },
      "execution_count": 5,
      "outputs": [
        {
          "output_type": "display_data",
          "data": {
            "text/plain": [
              "<Figure size 640x480 with 1 Axes>"
            ],
            "image/png": "[encoded data removed]"
          },
          "metadata": {}
        }
      ]
    },
    {
      "cell_type": "code",
      "source": [
        "# Generate a Pandas DataFrame and filter rows where a column value is greater than a threshold.\n",
        "\n",
        "data = {\n",
        "    'Name': ['Alice', 'Bob', 'Charlie', 'David', 'Eve'],\n",
        "    'Age': [25, 30, 22, 28, 35],\n",
        "    'Salary': [50000, 60000, 55000, 58000, 70000]\n",
        "}\n",
        "\n",
        "df = pd.DataFrame(data)\n",
        "\n",
        "threshold = 55000\n",
        "\n",
        "filtered_df = df[df['Salary'] > threshold]\n",
        "\n",
        "print(filtered_df)\n"
      ],
      "metadata": {
        "colab": {
          "base_uri": "https://localhost:8080/"
        },
        "id": "DquyC0e9PQrn",
        "outputId": "29ec64a5-c346-422d-9487-d1133229dae0"
      },
      "execution_count": 6,
      "outputs": [
        {
          "output_type": "stream",
          "name": "stdout",
          "text": [
            "    Name  Age  Salary\n",
            "1    Bob   30   60000\n",
            "3  David   28   58000\n",
            "4    Eve   35   70000\n"
          ]
        }
      ]
    },
    {
      "cell_type": "code",
      "source": [
        "#  Create a histogram using Seaborn to visualize a distribution.\n",
        "\n",
        "data = [22, 25, 29, 31, 35, 35, 36, 38, 40, 42, 45, 48, 50, 51, 53, 55, 57, 60]\n",
        "\n",
        "sns.histplot(data, kde=True, bins=10, color='skyblue')\n",
        "\n",
        "plt.title(\"Distribution of Ages\")\n",
        "plt.xlabel(\"Age\")\n",
        "plt.ylabel(\"Frequency\")\n",
        "\n",
        "plt.show()\n"
      ],
      "metadata": {
        "colab": {
          "base_uri": "https://localhost:8080/",
          "height": 472
        },
        "id": "512-i6uIPhAH",
        "outputId": "8721f355-16fd-404c-ff99-592818b8ce4a"
      },
      "execution_count": 8,
      "outputs": [
        {
          "output_type": "display_data",
          "data": {
            "text/plain": [
              "<Figure size 640x480 with 1 Axes>"
            ],
            "image/png": "[encoded data removed]"
          },
          "metadata": {}
        }
      ]
    },
    {
      "cell_type": "code",
      "source": [
        "#  Perform matrix multiplication using NumPy.\n",
        "\n",
        "matrix1 = np.array([[1, 2],\n",
        "                    [3, 4]])\n",
        "\n",
        "matrix2 = np.array([[5, 6],\n",
        "                    [7, 8]])\n",
        "\n",
        "result_dot = np.dot(matrix1, matrix2)\n",
        "\n",
        "result_at = matrix1 @ matrix2\n",
        "\n",
        "print(\"Matrix 1:\")\n",
        "print(matrix1)\n",
        "\n",
        "print(\"\\nMatrix 2:\")\n",
        "print(matrix2)\n",
        "\n",
        "print(\"\\nMatrix multiplication result (using np.dot()):\")\n",
        "print(result_dot)\n",
        "\n",
        "print(\"\\nMatrix multiplication result (using @ operator):\")\n",
        "print(result_at)\n"
      ],
      "metadata": {
        "colab": {
          "base_uri": "https://localhost:8080/"
        },
        "id": "cCZ6F2H_P8nI",
        "outputId": "fc1c19a4-cc43-467a-f685-d4e3d248e19a"
      },
      "execution_count": 9,
      "outputs": [
        {
          "output_type": "stream",
          "name": "stdout",
          "text": [
            "Matrix 1:\n",
            "[[1 2]\n",
            " [3 4]]\n",
            "\n",
            "Matrix 2:\n",
            "[[5 6]\n",
            " [7 8]]\n",
            "\n",
            "Matrix multiplication result (using np.dot()):\n",
            "[[19 22]\n",
            " [43 50]]\n",
            "\n",
            "Matrix multiplication result (using @ operator):\n",
            "[[19 22]\n",
            " [43 50]]\n"
          ]
        }
      ]
    },
    {
      "cell_type": "code",
      "source": [
        "# Use Pandas to load a CSV file and display its first 5 rows.\n",
        "\n",
        "df = pd.read_csv('your_file.csv')\n",
        "print(df.head())"
      ],
      "metadata": {
        "id": "uTANnuxgQMB7"
      },
      "execution_count": null,
      "outputs": []
    },
    {
      "cell_type": "code",
      "source": [
        "# Create a 3D scatter plot using Plotly.\n",
        "\n",
        "np.random.seed(42)\n",
        "x = np.random.randn(100)\n",
        "y = np.random.randn(100)\n",
        "z = np.random.randn(100)\n",
        "\n",
        "fig = go.Figure(data=[go.Scatter3d(\n",
        "    x=x,\n",
        "    y=y,\n",
        "    z=z,\n",
        "    mode='markers',\n",
        "    marker=dict(\n",
        "        size=5,\n",
        "        color=z,\n",
        "        colorscale='Viridis',\n",
        "        opacity=0.8\n",
        "    )\n",
        ")])\n",
        "\n",
        "fig.update_layout(\n",
        "    scene=dict(\n",
        "        xaxis_title='X Axis',\n",
        "        yaxis_title='Y Axis',\n",
        "        zaxis_title='Z Axis'\n",
        "    ),\n",
        "    title='3D Scatter Plot Example'\n",
        ")\n",
        "\n",
        "fig.show()\n"
      ],
      "metadata": {
        "colab": {
          "base_uri": "https://localhost:8080/",
          "height": 211
        },
        "id": "0cB6fudSQdDq",
        "outputId": "d6966299-941a-436b-f950-493f08495492"
      },
      "execution_count": 10,
      "outputs": [
        {
          "output_type": "error",
          "ename": "NameError",
          "evalue": "name 'go' is not defined",
          "traceback": [
            "\u001b[0;31m---------------------------------------------------------------------------\u001b[0m",
            "\u001b[0;31mNameError\u001b[0m                                 Traceback (most recent call last)",
            "\u001b[0;32m<ipython-input-10-6114d475151b>\u001b[0m in \u001b[0;36m<cell line: 0>\u001b[0;34m()\u001b[0m\n\u001b[1;32m      6\u001b[0m \u001b[0mz\u001b[0m \u001b[0;34m=\u001b[0m \u001b[0mnp\u001b[0m\u001b[0;34m.\u001b[0m\u001b[0mrandom\u001b[0m\u001b[0;34m.\u001b[0m\u001b[0mrandn\u001b[0m\u001b[0;34m(\u001b[0m\u001b[0;36m100\u001b[0m\u001b[0;34m)\u001b[0m\u001b[0;34m\u001b[0m\u001b[0;34m\u001b[0m\u001b[0m\n\u001b[1;32m      7\u001b[0m \u001b[0;34m\u001b[0m\u001b[0m\n\u001b[0;32m----> 8\u001b[0;31m fig = go.Figure(data=[go.Scatter3d(\n\u001b[0m\u001b[1;32m      9\u001b[0m     \u001b[0mx\u001b[0m\u001b[0;34m=\u001b[0m\u001b[0mx\u001b[0m\u001b[0;34m,\u001b[0m\u001b[0;34m\u001b[0m\u001b[0;34m\u001b[0m\u001b[0m\n\u001b[1;32m     10\u001b[0m     \u001b[0my\u001b[0m\u001b[0;34m=\u001b[0m\u001b[0my\u001b[0m\u001b[0;34m,\u001b[0m\u001b[0;34m\u001b[0m\u001b[0;34m\u001b[0m\u001b[0m\n",
            "\u001b[0;31mNameError\u001b[0m: name 'go' is not defined"
          ]
        }
      ]
    },
    {
      "cell_type": "code",
      "source": [],
      "metadata": {
        "id": "9wGtAjcnR7Ju"
      },
      "execution_count": null,
      "outputs": []
    }
  ]
}