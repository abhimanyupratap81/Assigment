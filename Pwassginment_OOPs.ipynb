{
  "nbformat": 4,
  "nbformat_minor": 0,
  "metadata": {
    "colab": {
      "provenance": []
    },
    "kernelspec": {
      "name": "python3",
      "display_name": "Python 3"
    },
    "language_info": {
      "name": "python"
    }
  },
  "cells": [
    {
      "cell_type": "markdown",
      "source": [
        "# What is Object-Oriented Programming (OOP)?\n",
        "\n",
        "--> Object-Oriented Programming (OOP) is a programming paradigm based on the concept of \"objects\", which can contain data (called attributes or properties) and code (called methods or functions).\n",
        "\n",
        "Instead of just writing code as a series of instructions, OOP organizes code into reusable blueprints (called classes) that create individual instances (called objects).\n"
      ],
      "metadata": {
        "id": "a88zVjMGfvGA"
      }
    },
    {
      "cell_type": "markdown",
      "source": [
        "#  What is a class in OOP?\n",
        "\n",
        "--> A class in Object-Oriented Programming (OOP) is like a blueprint or template for creating objects.\n",
        "\n",
        "It defines:\n",
        "\n",
        "Attributes (data) – what the object has\n",
        "\n",
        "Methods (functions) – what the object can do\n",
        "\n",
        "Think of a class like a recipe. The recipe (class) itself isn’t a cake — it’s a set of instructions. But you can follow the recipe to create actual cakes (objects)."
      ],
      "metadata": {
        "id": "Qi8YUFMVf2xv"
      }
    },
    {
      "cell_type": "markdown",
      "source": [
        "# What is an object in OOP?\n",
        "\n",
        "--> An object in Object-Oriented Programming (OOP) is an instance of a class. While a class is like a blueprint, an object is the actual thing created using that blueprint.\n",
        "\n",
        "Key Points About Objects:\n",
        "\n",
        "Each object has its own set of data (attributes)\n",
        "\n",
        "Objects can use methods defined in the class\n",
        "\n",
        "Objects can interact with each other\n",
        "\n",
        "You can create many different objects from a single class\n",
        "\n"
      ],
      "metadata": {
        "id": "zjGomOyikB_U"
      }
    },
    {
      "cell_type": "markdown",
      "source": [
        "# What is the difference between abstraction and encapsulation?\n",
        "\n",
        "--> Abstraction: It is the process of hiding the complex implementation details and showing only the essential features of an object. It helps reduce complexity and allows the programmer to focus on what an object does rather than how it does it. For example, when you drive a car, you only need to know how to use the steering, accelerator, and brakes — you don’t need to understand how the engine works. In programming, abstraction is often implemented using abstract classes or interfaces, where the internal logic is hidden from the user, and only the required methods are exposed.\n",
        "\n",
        "Encapsulation: It is the technique of wrapping data (variables) and code (methods) together into a single unit called a class and restricting access to some of the object’s components. It is mainly used to protect the internal state of an object from unintended or unauthorized access and modification. For instance, in a banking system, a user's account balance should not be directly changed from outside the class. Encapsulation ensures this by making the balance variable private and allowing changes only through public methods like deposit() or withdraw(). This is usually done using access modifiers like private, public, or protected."
      ],
      "metadata": {
        "id": "pbTN92cfk5JU"
      }
    },
    {
      "cell_type": "markdown",
      "source": [
        "# What are dunder methods in Python?\n",
        "\n",
        "--> In Python, dunder methods (short for “double underscore” methods) are special built-in methods that start and end with two underscores, like __init__, __str__, __len__, etc.\n",
        "\n",
        "They're also called magic methods and are used to define how objects behave with built-in operations, such as printing, adding, comparing, or converting to strings."
      ],
      "metadata": {
        "id": "gZDG3TS_oE3a"
      }
    },
    {
      "cell_type": "markdown",
      "source": [
        "# Explain the concept of inheritance in OOP?\n",
        "\n",
        "--> Inheritance is one of the core concepts of Object-Oriented Programming (OOP). It allows a class (called a child class or subclass) to inherit properties and behaviors (like methods and attributes) from another class (called a parent class or superclass).\n",
        "\n",
        "Key Points:\n",
        "\n",
        "Reusability: Inheritance promotes code reusability. You don’t have to write the same code again—just inherit it!\n",
        "\n",
        "Hierarchy: It creates a natural hierarchy between classes.\n",
        "\n",
        "Extensibility: You can add or override functionality in the child class without changing the parent class.\n"
      ],
      "metadata": {
        "id": "B8_ySM5JqsQ_"
      }
    },
    {
      "cell_type": "markdown",
      "source": [
        "# What is polymorphism in OOP?\n",
        "\n",
        "--> Polymorphism means \"many forms\". In Object-Oriented Programming, it allows objects of different classes to be treated as objects of a common superclass, especially when they share the same method name but behave differently.\n",
        "\n"
      ],
      "metadata": {
        "id": "SqsGK1bZoXat"
      }
    },
    {
      "cell_type": "markdown",
      "source": [
        "# How is encapsulation achieved in Python?\n",
        "\n",
        "--> Encapsulation is the concept of hiding the internal details of an object and only exposing a controlled interface to the outside world.\n",
        "\n",
        "In simpler terms:\n",
        "\n",
        "1. Keep the data (attributes) safe.\n",
        "\n",
        "2. Control how it’s accessed or modified using methods.\n"
      ],
      "metadata": {
        "id": "nYKTyQTxtrw9"
      }
    },
    {
      "cell_type": "markdown",
      "source": [
        "# What is a constructor in Python?\n",
        "\n",
        "--> A constructor is a special method used to initialize a newly created object of a class. In Python, the constructor method is always name:\n",
        "\n",
        "__init__"
      ],
      "metadata": {
        "id": "qetl1WGMuI8V"
      }
    },
    {
      "cell_type": "markdown",
      "source": [
        "# What are class and static methods in Python?\n",
        "\n",
        "--> A class method is a method that is bound to the class and not the object. It takes cls (not self) as its first parameter and can access or modify class-level variables.\n",
        "\n",
        "--> A static method does not access the class or instance at all. It’s just a regular function placed inside a class for organizational purposes."
      ],
      "metadata": {
        "id": "hEwmqvw1bpSg"
      }
    },
    {
      "cell_type": "markdown",
      "source": [
        "# What is method overloading in Python?\n",
        "\n",
        "--> Method overloading is a feature of object-oriented programming where a class can have multiple methods with the same name but different parameters. To overload method, we must change the number of parameters or the type of parameters, or both. Python does not support traditional method overloading out of the box. If you define a method with the same name multiple times, only the last one will be kept."
      ],
      "metadata": {
        "id": "-iUlQGzOfN2n"
      }
    },
    {
      "cell_type": "markdown",
      "source": [
        "# What is method overriding in OOP?\n",
        "\n",
        "--> Method overriding means redefining a method in a child (subclass) that already exists in the parent (superclass) — with the same name and signature.\n",
        "Imagine a general class Animal that has a method speak().\n",
        "Now, every animal speaks differently, so subclasses like Dog and Cat override speak() to behave differently."
      ],
      "metadata": {
        "id": "qGefsIl1f_vc"
      }
    },
    {
      "cell_type": "markdown",
      "source": [
        "# What is a property decorator in Python?\n",
        "\n",
        "--> The @property decorator turns a method into a \"getter\" for a read-only attribute.\n",
        "\n",
        "It allows you to define a method that acts like an attribute — letting you add logic to get (and optionally set) values, without changing how it's accessed."
      ],
      "metadata": {
        "id": "wtSjHznUqj1m"
      }
    },
    {
      "cell_type": "markdown",
      "source": [
        "# Why is polymorphism important in OOP?\n",
        "\n",
        "--> Polymorphism is a fundamental concept in object-oriented programming (OOP) that allows objects of different classes to be treated through the same interface. It enables a single method name or function to behave differently based on the object it is acting upon. This means that different classes can implement the same method in their own unique way, and yet the method can be called in the same manner across those classes. For example, if multiple classes like Dog and Cat each have a method called speak(), polymorphism allows us to call speak() on any of these objects without knowing their specific types, and each will respond appropriately—dogs may bark, and cats may meow. This not only makes the code more flexible and easier to extend, but it also reduces the need for repetitive condition checks and hard-coded logic. Overall, polymorphism is important because it promotes code reusability, simplifies maintenance, and supports the design of systems that are more scalable and easier to manage."
      ],
      "metadata": {
        "id": "GI3Nd-jvr5Ex"
      }
    },
    {
      "cell_type": "markdown",
      "source": [
        "# What is an abstract class in Python?\n",
        "\n",
        "--> An abstract class in Python is a class that cannot be instantiated directly and is meant to be inherited by other classes. It is used as a blueprint for other classes, providing a structure that subclasses must follow. Abstract classes can have abstract methods—methods that are declared but contain no implementation. These methods must be overridden by any concrete subclass.\n",
        "\n",
        "In Python, abstract classes are created using the abc module (short for Abstract Base Classes). You define an abstract class by inheriting from ABC (a class in the abc module) and marking methods with the @abstractmethod decorator."
      ],
      "metadata": {
        "id": "od3vKuyNsatp"
      }
    },
    {
      "cell_type": "markdown",
      "source": [
        "# What are the advantages of OOP?\n",
        "\n",
        "-->\n",
        "\n",
        "1. Encapsulation\n",
        "\n",
        "Data and functions are bundled together into objects, which helps protect internal state and reduces complexity by hiding implementation details (data hiding).\n",
        "\n",
        "2. Reusability\n",
        "\n",
        "Through inheritance, you can reuse existing code and create new classes based on existing ones, reducing redundancy.\n",
        "\n",
        "3. Modularity\n",
        "\n",
        "Programs are divided into independent objects or classes, making them easier to manage, debug, and understand.\n",
        "\n",
        "4. Flexibility and Maintainability\n",
        "\n",
        "OOP makes it easy to update or modify parts of a program without affecting the whole system, thanks to clear separation of responsibilities.\n",
        "\n",
        "5. Polymorphism\n",
        "\n",
        "Objects can take many forms, allowing the same interface to be used for different underlying data types—this supports cleaner and more scalable code."
      ],
      "metadata": {
        "id": "B9y7qqxztmUC"
      }
    },
    {
      "cell_type": "markdown",
      "source": [
        "# What is the difference between a class variable and an instance variable?\n",
        "\n",
        "--> In object-oriented programming, class variables and instance variables serve different purposes. A class variable is shared among all instances of a class and is defined within the class but outside any instance methods. It represents a property that is common to every object created from the class, such as a species name for all dogs in a Dog class. On the other hand, an instance variable is unique to each object and is defined within methods, typically in the constructor (__init__), using the self keyword. It stores data specific to each object, like a dog’s individual name or age. While modifying a class variable affects all instances unless overridden, changes to an instance variable only impact the specific object it belongs to. This distinction allows developers to manage shared and unique data more efficiently within a program."
      ],
      "metadata": {
        "id": "5HJF0yjjgFEl"
      }
    },
    {
      "cell_type": "markdown",
      "source": [
        "#  What is multiple inheritance in Python?\n",
        "\n",
        "--> Multiple inheritance in Python is a feature where a class can inherit attributes and methods from more than one parent class. This allows a child class to combine the functionality of multiple classes into one."
      ],
      "metadata": {
        "id": "e35U0XwXm0Vq"
      }
    },
    {
      "cell_type": "markdown",
      "source": [
        "# Explain the purpose of ‘’__str__’ and ‘__repr__’ ‘ methods in Python?\n",
        "\n",
        "--> In Python, the __str__ and __repr__ methods are special functions that define how an object is represented as a string. The __str__ method is intended to provide a readable and user-friendly description of the object, which is what gets returned when the object is printed or converted using str(). In contrast, the __repr__ method is designed for developers and debugging purposes, giving a more detailed and unambiguous representation, often one that could be used to recreate the object. If __str__ is not defined in a class, Python will automatically fall back to using __repr__. Defining these methods helps improve the clarity and usefulness of printed output and debug logs, making it easier to understand and troubleshoot code."
      ],
      "metadata": {
        "id": "ejSwH_OdpLqm"
      }
    },
    {
      "cell_type": "markdown",
      "source": [
        "# What is the significance of the ‘super()’ function in Python?\n",
        "\n",
        "--> The super() function in Python is used to call methods from a parent or superclass. It plays a key role in inheritance, especially when you're working with multiple classes or overriding methods. The main significance of super() is that it allows you to reuse code from the parent class without explicitly naming it, making your code more maintainable and flexible.\n",
        "\n",
        "Why super() is important:\n",
        "\n",
        "Access parent class methods\n",
        "Useful when you override a method in a child class but still want to use the parent’s version.\n",
        "\n",
        "Supports multiple inheritance\n",
        "Python’s method resolution order (MRO) works seamlessly with super(), handling even complex inheritance chains.\n",
        "\n",
        "Improves code maintainability\n",
        "If the parent class name changes, you don’t have to update every child class — just use super()."
      ],
      "metadata": {
        "id": "Jpcj4wDXphEO"
      }
    },
    {
      "cell_type": "markdown",
      "source": [
        "# What is the significance of the __del__ method in Python?\n",
        "\n",
        "--> The __del__ method in Python is a special method known as a destructor. It is called automatically when an object is about to be destroyed—that is, when there are no more references to the object, and Python’s garbage collector is ready to reclaim the memory.\n",
        "\n",
        "Significance of __del__:\n",
        "\n",
        "Resource Cleanup\n",
        "It's used to release external resources like files, database connections, or network sockets when the object is no longer needed.\n",
        "\n",
        "Custom Cleanup Logic\n",
        "You can define custom actions (e.g., logging, closing handles) that should happen just before an object is deleted.\n",
        "\n",
        "Acts Like a Finalizer\n",
        "Similar to destructors in other languages like C++."
      ],
      "metadata": {
        "id": "gW2AXQtj8YOD"
      }
    },
    {
      "cell_type": "markdown",
      "source": [
        "# What is the difference between @staticmethod and @classmethod in Python?\n",
        "\n",
        "--> In Python, @staticmethod and @classmethod are decorators used to define methods that are not tied to a specific instance of a class. A static method, marked with @staticmethod, does not take self or cls as a parameter and cannot access or modify instance or class-level data. It behaves like a regular function but lives in the class’s namespace, making it useful for utility functions that relate to the class logically but don’t require access to its data. On the other hand, a class method, marked with @classmethod, takes cls as its first parameter and can access or modify class-level attributes. This makes class methods ideal for tasks like creating alternative constructors or managing class state. While both decorators allow methods to be called on the class itself, their key difference lies in whether or not they interact with the class’s internal data."
      ],
      "metadata": {
        "id": "BUjFrSoltmkh"
      }
    },
    {
      "cell_type": "markdown",
      "source": [
        "# How does polymorphism work in Python with inheritance?\n",
        "\n",
        "--> Polymorphism in Python allows objects of different classes to be treated as objects of a common superclass. This is especially powerful when used with inheritance. In Python, when a child class inherits from a parent class, it can override or extend the functionality of the parent. Polymorphism enables the same method name to be used for different types of objects, and the correct version of the method is chosen at runtime based on the object calling it. This makes the code more flexible and easier to maintain.\n",
        "\n",
        "For example, suppose you have a parent class Animal with a method speak(), and multiple child classes like Dog and Cat, each with their own implementation of the speak() method. You can loop through a list of Animal objects and call speak() on each one, and Python will automatically call the appropriate method depending on whether the object is a Dog or a Cat. This is possible because of polymorphism, which allows different classes to define their own behaviors while sharing the same interface. It supports clean, modular, and extensible code, which is a core benefit of object-oriented programming."
      ],
      "metadata": {
        "id": "0vPxoPGZ9BIk"
      }
    },
    {
      "cell_type": "markdown",
      "source": [
        "# What is method chaining in Python OOP?\n",
        "\n",
        "--> Method chaining in Python OOP is a technique where multiple methods are called on the same object in a single line, one after the other. This is made possible by having each method return self, which refers to the current object instance. It helps make code cleaner, more readable, and expressive, especially when configuring or modifying objects step-by-step."
      ],
      "metadata": {
        "id": "QMg9hzOl9Vf7"
      }
    },
    {
      "cell_type": "markdown",
      "source": [
        "# What is the purpose of the __call__ method in Python?\n",
        "\n",
        "--> The __call__ method in Python allows an object to be called like a function. When a class defines the __call__ method, instances of that class can be used with parentheses () as if they were regular functions. This is useful for creating callable objects, which can store state and behavior, giving you the power of both objects and functions in one.\n",
        "\n"
      ],
      "metadata": {
        "id": "sjifAn_19fUi"
      }
    },
    {
      "cell_type": "code",
      "source": [
        "#  Create a parent class Animal with a method speak() that prints a generic message. Create a child class Dog that overrides the speak() method to print \"Bark!\"\n",
        "\n",
        "class Animal:\n",
        "    def speak(self):\n",
        "        print(\"The animal makes a sound.\")\n",
        "\n",
        "class Dog(Animal):\n",
        "    def speak(self):\n",
        "        print(\"Bark!\")\n",
        "\n",
        "generic_animal = Animal()\n",
        "generic_animal.speak()\n",
        "\n",
        "dog = Dog()\n",
        "dog.speak()\n"
      ],
      "metadata": {
        "colab": {
          "base_uri": "https://localhost:8080/"
        },
        "id": "H868ZPjx3OiQ",
        "outputId": "ba9e11c7-aae7-4164-a9c6-69158ca3bccd"
      },
      "execution_count": 1,
      "outputs": [
        {
          "output_type": "stream",
          "name": "stdout",
          "text": [
            "The animal makes a sound.\n",
            "Bark!\n"
          ]
        }
      ]
    },
    {
      "cell_type": "code",
      "source": [
        "#  Write a program to create an abstract class Shape with a method area(). Derive classes Circle and Rectangle from it and implement the area() method in both.\n",
        "\n",
        "from abc import ABC, abstractmethod\n",
        "import math\n",
        "\n",
        "class Shape(ABC):\n",
        "    @abstractmethod\n",
        "    def area(self):\n",
        "        pass\n",
        "\n",
        "class Circle(Shape):\n",
        "    def __init__(self, radius):\n",
        "        self.radius = radius\n",
        "\n",
        "    def area(self):\n",
        "        return math.pi * self.radius ** 2\n",
        "\n",
        "class Rectangle(Shape):\n",
        "    def __init__(self, width, height):\n",
        "        self.width = width\n",
        "        self.height = height\n",
        "\n",
        "    def area(self):\n",
        "        return self.width * self.height\n",
        "\n",
        "if __name__ == \"__main__\":\n",
        "    circle = Circle(7)\n",
        "    rectangle = Rectangle(5, 10)\n",
        "\n",
        "    print(f\"Area of the circle: {circle.area():.2f}\")     # Output: Area of the circle: 153.94\n",
        "    print(f\"Area of the rectangle: {rectangle.area()}\")   # Output: Area of the rectangle: 50\n"
      ],
      "metadata": {
        "id": "4dF7QjpRDUyv"
      },
      "execution_count": null,
      "outputs": []
    },
    {
      "cell_type": "code",
      "source": [
        "#  Implement a multi-level inheritance scenario where a class Vehicle has an attribute type. Derive a class Car and further derive a class ElectricCar that adds a battery attribute.\n",
        "\n",
        "class Vehicle:\n",
        "    def __init__(self, vehicle_type):\n",
        "        self.type = vehicle_type\n",
        "\n",
        "class Car(Vehicle):\n",
        "    def __init__(self, vehicle_type, brand):\n",
        "        super().__init__(vehicle_type)\n",
        "        self.brand = brand\n",
        "\n",
        "class ElectricCar(Car):\n",
        "    def __init__(self, vehicle_type, brand, battery_capacity):\n",
        "        super().__init__(vehicle_type, brand)\n",
        "        self.battery = battery_capacity\n",
        "\n",
        "    def display_info(self):\n",
        "        print(f\"Type: {self.type}\")\n",
        "        print(f\"Brand: {self.brand}\")\n",
        "        print(f\"Battery Capacity: {self.battery} kWh\")\n",
        "\n",
        "tesla = ElectricCar(\"Electric Vehicle\", \"Tesla\", 100)\n",
        "tesla.display_info()\n"
      ],
      "metadata": {
        "id": "-OP8rXuCQsZB"
      },
      "execution_count": null,
      "outputs": []
    },
    {
      "cell_type": "code",
      "source": [
        "# Demonstrate polymorphism by creating a base class Bird with a method fly(). Create two derived classes Sparrow and Penguin that override the fly() method.\n",
        "\n",
        "class Bird:\n",
        "    def fly(self):\n",
        "        print(\"Some birds can fly.\")\n",
        "\n",
        "class Sparrow(Bird):\n",
        "    def fly(self):\n",
        "        print(\"Sparrow flies high in the sky.\")\n",
        "\n",
        "class Penguin(Bird):\n",
        "    def fly(self):\n",
        "        print(\"Penguins can't fly, but they swim well.\")\n",
        "\n",
        "def show_flight(bird):\n",
        "    bird.fly()\n",
        "\n",
        "bird1 = Sparrow()\n",
        "bird2 = Penguin()\n",
        "\n",
        "show_flight(bird1)\n",
        "show_flight(bird2)\n"
      ],
      "metadata": {
        "colab": {
          "base_uri": "https://localhost:8080/"
        },
        "id": "-WqFFnIKX5UL",
        "outputId": "52b4c8f1-0a96-4934-c7f8-5dde52db9b5d"
      },
      "execution_count": 2,
      "outputs": [
        {
          "output_type": "stream",
          "name": "stdout",
          "text": [
            "Sparrow flies high in the sky.\n",
            "Penguins can't fly, but they swim well.\n"
          ]
        }
      ]
    },
    {
      "cell_type": "code",
      "source": [
        "# Write a program to demonstrate encapsulation by creating a class BankAccount with private attributes balance and methods to deposit, withdraw, and check balance.\n",
        "\n",
        "class BankAccount:\n",
        "    def __init__(self, initial_balance=0):\n",
        "        self.__balance = initial_balance  # Private attribute\n",
        "\n",
        "\n",
        "    def deposit(self, amount):\n",
        "        if amount > 0:\n",
        "            self.__balance += amount\n",
        "            print(f\"Deposited: ${amount}\")\n",
        "        else:\n",
        "            print(\"Deposit amount must be positive.\")\n",
        "\n",
        "    def withdraw(self, amount):\n",
        "        if 0 < amount <= self.__balance:\n",
        "            self.__balance -= amount\n",
        "            print(f\"Withdrew: ${amount}\")\n",
        "        else:\n",
        "            print(\"Invalid withdrawal amount or insufficient funds.\")\n",
        "\n",
        "    def check_balance(self):\n",
        "        print(f\"Current Balance: ${self.__balance}\")\n",
        "\n",
        "account = BankAccount(100)\n",
        "account.check_balance()\n",
        "account.deposit(50)\n",
        "account.withdraw(30)\n",
        "account.check_balance()\n"
      ],
      "metadata": {
        "colab": {
          "base_uri": "https://localhost:8080/"
        },
        "id": "UpH5WG5vYNVd",
        "outputId": "72881bc1-d0cf-4dd8-d57c-250f7e1107a3"
      },
      "execution_count": 3,
      "outputs": [
        {
          "output_type": "stream",
          "name": "stdout",
          "text": [
            "Current Balance: $100\n",
            "Deposited: $50\n",
            "Withdrew: $30\n",
            "Current Balance: $120\n"
          ]
        }
      ]
    },
    {
      "cell_type": "code",
      "source": [
        "#  Demonstrate runtime polymorphism using a method play() in a base class Instrument. Derive classes Guitar and Piano that implement their own version of play().\n",
        "\n",
        "class Instrument:\n",
        "    def play(self):\n",
        "        print(\"The instrument is playing.\")\n",
        "\n",
        "class Guitar(Instrument):\n",
        "    def play(self):\n",
        "        print(\"Strumming the guitar strings.\")\n",
        "\n",
        "class Piano(Instrument):\n",
        "    def play(self):\n",
        "        print(\"Playing the piano keys.\")\n",
        "\n",
        "def perform(instrument):\n",
        "    instrument.play()\n",
        "\n",
        "guitar = Guitar()\n",
        "piano = Piano()\n",
        "\n",
        "perform(guitar)\n",
        "perform(piano)\n",
        "\n",
        "\n",
        "\n"
      ],
      "metadata": {
        "id": "ONUrObP3Yc14"
      },
      "execution_count": null,
      "outputs": []
    },
    {
      "cell_type": "code",
      "source": [
        "# Create a class MathOperations with a class method add_numbers() to add two numbers and a static method subtract_numbers() to subtract two numbers.\n",
        "\n",
        "class MathOperations:\n",
        "    # Class method to add two numbers\n",
        "    @classmethod\n",
        "    def add_numbers(cls, a, b):\n",
        "        return a + b\n",
        "\n",
        "    # Static method to subtract two numbers\n",
        "    @staticmethod\n",
        "    def subtract_numbers(a, b):\n",
        "        return a - b\n",
        "\n",
        "# Example usage\n",
        "sum_result = MathOperations.add_numbers(10, 5)\n",
        "diff_result = MathOperations.subtract_numbers(10, 5)\n",
        "\n",
        "print(f\"Sum: {sum_result}\")        # Output: Sum: 15\n",
        "print(f\"Difference: {diff_result}\")  # Output: Difference: 5\n"
      ],
      "metadata": {
        "colab": {
          "base_uri": "https://localhost:8080/"
        },
        "id": "Mq8dkHz0YuMs",
        "outputId": "b418f6e3-f362-49bf-8410-6f3d7c44ef31"
      },
      "execution_count": 4,
      "outputs": [
        {
          "output_type": "stream",
          "name": "stdout",
          "text": [
            "Sum: 15\n",
            "Difference: 5\n"
          ]
        }
      ]
    },
    {
      "cell_type": "code",
      "source": [
        "#  Implement a class Person with a class method to count the total number of persons created.\n",
        "\n",
        "class Person:\n",
        "    count = 0\n",
        "\n",
        "    def __init__(self, name):\n",
        "        self.name = name\n",
        "        Person.count += 1\n",
        "\n",
        "    @classmethod\n",
        "    def total_persons(cls):\n",
        "        return cls.count\n",
        "\n",
        "p1 = Person(\"Alice\")\n",
        "p2 = Person(\"Bob\")\n",
        "p3 = Person(\"Charlie\")\n",
        "\n",
        "print(f\"Total persons created: {Person.total_persons()}\")\n"
      ],
      "metadata": {
        "colab": {
          "base_uri": "https://localhost:8080/"
        },
        "id": "T-UBkiVYY4FD",
        "outputId": "a7c78fc9-a2e9-41ff-eb65-4c8bc6c628df"
      },
      "execution_count": 5,
      "outputs": [
        {
          "output_type": "stream",
          "name": "stdout",
          "text": [
            "Total persons created: 3\n"
          ]
        }
      ]
    },
    {
      "cell_type": "code",
      "source": [
        "#  Write a class Fraction with attributes numerator and denominator. Override the str method to display the fraction as \"numerator/denominator\".\n",
        "\n",
        "class Fraction:\n",
        "    def __init__(self, numerator, denominator):\n",
        "        self.numerator = numerator\n",
        "        self.denominator = denominator\n",
        "\n",
        "    def __str__(self):\n",
        "      return f\"{self.numerator}/{self.denominator}\"\n",
        "\n",
        "f1 = Fraction(3, 4)\n",
        "f2 = Fraction(7, 2)\n",
        "\n",
        "print(f1)\n",
        "print(f2)\n"
      ],
      "metadata": {
        "colab": {
          "base_uri": "https://localhost:8080/"
        },
        "id": "GJyNFMWWZM22",
        "outputId": "43246830-56b7-4119-b295-f25c1e972f6c"
      },
      "execution_count": 6,
      "outputs": [
        {
          "output_type": "stream",
          "name": "stdout",
          "text": [
            "3/4\n",
            "7/2\n"
          ]
        }
      ]
    },
    {
      "cell_type": "code",
      "source": [
        "#  Demonstrate operator overloading by creating a class Vector and overriding the add method to add two vectors\n",
        "\n",
        "class Vector:\n",
        "    def __init__(self, x, y):\n",
        "        self.x = x\n",
        "        self.y = y\n",
        "\n",
        "    def __add__(self, other):\n",
        "        return Vector(self.x + other.x, self.y + other.y)\n",
        "\n",
        "    def __str__(self):\n",
        "        return f\"Vector({self.x}, {self.y})\"\n",
        "\n",
        "v1 = Vector(2, 3)\n",
        "v2 = Vector(4, 1)\n",
        "v3 = v1 + v2\n",
        "\n",
        "print(v1)\n",
        "print(v2)\n",
        "print(v3)"
      ],
      "metadata": {
        "colab": {
          "base_uri": "https://localhost:8080/"
        },
        "id": "7sErCIaEZjYe",
        "outputId": "0826910a-6e0e-4a7f-95a1-8f09883f8fd0"
      },
      "execution_count": 7,
      "outputs": [
        {
          "output_type": "stream",
          "name": "stdout",
          "text": [
            "Vector(2, 3)\n",
            "Vector(4, 1)\n",
            "Vector(6, 4)\n"
          ]
        }
      ]
    },
    {
      "cell_type": "code",
      "source": [
        "# . Create a class Person with attributes name and age. Add a method greet() that prints \"Hello, my name is {name} and I am {age} years old.\"\n",
        "\n",
        "class Person:\n",
        "    def __init__(self, name, age):\n",
        "        self.name = name\n",
        "        self.age = age\n",
        "\n",
        "    def greet(self):\n",
        "        print(f\"Hello, my name is {self.name} and I am {self.age} years old.\")\n",
        "\n",
        "p1 = Person(\"Alice\", 25)\n",
        "p1.greet()"
      ],
      "metadata": {
        "id": "aNBNVhylZ1jE"
      },
      "execution_count": null,
      "outputs": []
    },
    {
      "cell_type": "code",
      "source": [
        "# . Implement a class Student with attributes name and grades. Create a method average_grade() to compute the average of the grades.\n",
        "\n",
        "class Student:\n",
        "    def __init__(self, name, grades):\n",
        "        self.name = name\n",
        "        self.grades = grades  # List of grades\n",
        "\n",
        "    def average_grade(self):\n",
        "        if self.grades:\n",
        "            return sum(self.grades) / len(self.grades)\n",
        "        else:\n",
        "            return 0\n",
        "\n",
        "s1 = Student(\"John\", [85, 90, 78, 92])\n",
        "print(f\"{s1.name}'s average grade is: {s1.average_grade():.2f}\")\n"
      ],
      "metadata": {
        "colab": {
          "base_uri": "https://localhost:8080/"
        },
        "id": "j3hI3GVEbnmz",
        "outputId": "a7900d61-6b90-4aa9-a3b2-89554b8ba2e9"
      },
      "execution_count": 8,
      "outputs": [
        {
          "output_type": "stream",
          "name": "stdout",
          "text": [
            "John's average grade is: 86.25\n"
          ]
        }
      ]
    },
    {
      "cell_type": "code",
      "source": [
        "# Create a class Rectangle with methods set_dimensions() to set the dimensions and area() to calculate the area.\n",
        "\n",
        "class Rectangle:\n",
        "    def __init__(self):\n",
        "        self.width = 0\n",
        "        self.height = 0\n",
        "\n",
        "\n",
        "    def set_dimensions(self, width, height):\n",
        "        self.width = width\n",
        "        self.height = height\n",
        "\n",
        "\n",
        "    def area(self):\n",
        "        return self.width * self.height\n",
        "\n",
        "rect = Rectangle()\n",
        "rect.set_dimensions(5, 10)\n",
        "print(f\"Area of the rectangle: {rect.area()}\")  # Output: Area of the rectangle: 50\n"
      ],
      "metadata": {
        "colab": {
          "base_uri": "https://localhost:8080/"
        },
        "id": "zMQSjBwUbyEM",
        "outputId": "f4df2954-f374-4675-c811-4f6417f44635"
      },
      "execution_count": 9,
      "outputs": [
        {
          "output_type": "stream",
          "name": "stdout",
          "text": [
            "Area of the rectangle: 50\n"
          ]
        }
      ]
    },
    {
      "cell_type": "code",
      "source": [
        "#  Create a class Employee with a method calculate_salary() that computes the salary based on hours worked and hourly rate. Create a derived class Manager that adds a bonus to the salary.\n",
        "\n",
        "class Employee:\n",
        "    def __init__(self, name, hours_worked, hourly_rate):\n",
        "        self.name = name\n",
        "        self.hours_worked = hours_worked\n",
        "        self.hourly_rate = hourly_rate\n",
        "\n",
        "    def calculate_salary(self):\n",
        "        return self.hours_worked * self.hourly_rate\n",
        "\n",
        "class Manager(Employee):\n",
        "    def __init__(self, name, hours_worked, hourly_rate, bonus):\n",
        "        super().__init__(name, hours_worked, hourly_rate)\n",
        "        self.bonus = bonus\n",
        "\n",
        "    def calculate_salary(self):\n",
        "        base_salary = super().calculate_salary()\n",
        "        return base_salary + self.bonus\n",
        "\n",
        "employee = Employee(\"John\", 40, 25)\n",
        "manager = Manager(\"Alice\", 40, 30, 500)\n",
        "\n",
        "print(f\"Employee's Salary: ${employee.calculate_salary()}\")  # Output: Employee's Salary: $1000\n",
        "print(f\"Manager's Salary: ${manager.calculate_salary()}\")    # Output: Manager's Salary: $1700\n"
      ],
      "metadata": {
        "id": "_-ohb9zWb_PQ"
      },
      "execution_count": null,
      "outputs": []
    },
    {
      "cell_type": "code",
      "source": [
        "# Create a class Product with attributes name, price, and quantity. Implement a method total_price() that calculates the total price of the product.\n",
        "\n",
        "class Product:\n",
        "    def __init__(self, name, price, quantity):\n",
        "        self.name = name\n",
        "        self.price = price\n",
        "        self.quantity = quantity\n",
        "\n",
        "\n",
        "    def total_price(self):\n",
        "        return self.price * self.quantity\n",
        "\n",
        "product = Product(\"Laptop\", 1000, 3)\n",
        "print(f\"Total price of {product.name}: ${product.total_price()}\")\n",
        "\n"
      ],
      "metadata": {
        "colab": {
          "base_uri": "https://localhost:8080/"
        },
        "id": "LrzHHJefcPkc",
        "outputId": "44cdc27b-835e-4c0c-9abd-da6ba9979560"
      },
      "execution_count": 10,
      "outputs": [
        {
          "output_type": "stream",
          "name": "stdout",
          "text": [
            "Total price of Laptop: $3000\n"
          ]
        }
      ]
    },
    {
      "cell_type": "code",
      "source": [
        "# Create a class Animal with an abstract method sound(). Create two derived classes Cow and Sheep that implement the sound() method.\n",
        "\n",
        "from abc import ABC, abstractmethod\n",
        "\n",
        "class Animal(ABC):\n",
        "    @abstractmethod\n",
        "    def sound(self):\n",
        "        pass\n",
        "\n",
        "class Cow(Animal):\n",
        "    def sound(self):\n",
        "        print(\"Moo!\")\n",
        "\n",
        "class Sheep(Animal):\n",
        "    def sound(self):\n",
        "        print(\"Baa!\")\n",
        "\n",
        "cow = Cow()\n",
        "sheep = Sheep()\n",
        "\n",
        "cow.sound()\n",
        "sheep.sound()\n"
      ],
      "metadata": {
        "colab": {
          "base_uri": "https://localhost:8080/"
        },
        "id": "qy0NZde8cWSD",
        "outputId": "eba8e674-74a3-4cd7-947f-f6a7bd2b1235"
      },
      "execution_count": 11,
      "outputs": [
        {
          "output_type": "stream",
          "name": "stdout",
          "text": [
            "Moo!\n",
            "Baa!\n"
          ]
        }
      ]
    },
    {
      "cell_type": "code",
      "source": [
        "# . Create a class Book with attributes title, author, and year_published. Add a method get_book_info() that returns a formatted string with the book's details.\n",
        "\n",
        "class Book:\n",
        "    def __init__(self, title, author, year_published):\n",
        "        self.title = title\n",
        "        self.author = author\n",
        "        self.year_published = year_published\n",
        "\n",
        "\n",
        "    def get_book_info(self):\n",
        "        return f\"Title: {self.title}\\nAuthor: {self.author}\\nYear Published: {self.year_published}\"\n",
        "\n",
        "book = Book(\"1984\", \"George Orwell\", 1949)\n",
        "print(book.get_book_info())\n"
      ],
      "metadata": {
        "colab": {
          "base_uri": "https://localhost:8080/"
        },
        "id": "BCZJ8mWrcruf",
        "outputId": "b633bcf0-bcb6-435b-a1d1-d03dad418ae1"
      },
      "execution_count": 12,
      "outputs": [
        {
          "output_type": "stream",
          "name": "stdout",
          "text": [
            "Title: 1984\n",
            "Author: George Orwell\n",
            "Year Published: 1949\n"
          ]
        }
      ]
    },
    {
      "cell_type": "code",
      "source": [
        "#  Create a class House with attributes address and price. Create a derived class Mansion that adds an attribute number_of_rooms.\n",
        "\n",
        "\n",
        "class House:\n",
        "    def __init__(self, address, price):\n",
        "        self.address = address\n",
        "        self.price = price\n",
        "\n",
        "    def get_house_info(self):\n",
        "        return f\"Address: {self.address}\\nPrice: ${self.price}\"\n",
        "\n",
        "\n",
        "class Mansion(House):\n",
        "    def __init__(self, address, price, number_of_rooms):\n",
        "        super().__init__(address, price)\n",
        "        self.number_of_rooms = number_of_rooms\n",
        "\n",
        "    def get_mansion_info(self):\n",
        "        house_info = self.get_house_info()\n",
        "        return f\"{house_info}\\nNumber of Rooms: {self.number_of_rooms}\"\n",
        "\n",
        "house = House(\"123 Main St\", 250000)\n",
        "mansion = Mansion(\"456 Luxury Ave\", 5000000, 15)\n",
        "\n",
        "print(\"House Info:\")\n",
        "print(house.get_house_info())\n",
        "print(\"\\nMansion Info:\")\n",
        "print(mansion.get_mansion_info())\n"
      ],
      "metadata": {
        "colab": {
          "base_uri": "https://localhost:8080/"
        },
        "id": "oQl7eszRc4fB",
        "outputId": "f87beee6-51ca-47a0-ef63-112530f06135"
      },
      "execution_count": 13,
      "outputs": [
        {
          "output_type": "stream",
          "name": "stdout",
          "text": [
            "House Info:\n",
            "Address: 123 Main St\n",
            "Price: $250000\n",
            "\n",
            "Mansion Info:\n",
            "Address: 456 Luxury Ave\n",
            "Price: $5000000\n",
            "Number of Rooms: 15\n"
          ]
        }
      ]
    }
  ]
}